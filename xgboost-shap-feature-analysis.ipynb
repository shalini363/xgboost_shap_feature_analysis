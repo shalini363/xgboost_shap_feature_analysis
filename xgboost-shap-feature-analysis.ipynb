{
 "cells": [
  {
   "cell_type": "code",
   "execution_count": 1,
   "id": "b3668091",
   "metadata": {},
   "outputs": [],
   "source": [
    "import matplotlib.pyplot as plt\n",
    "import pandas as pd\n",
    "import numpy as np\n",
    "import xgboost as xgb\n",
    "from scipy.sparse import coo_matrix\n",
    "from sklearn.model_selection import train_test_split\n",
    "from xgboost import plot_importance\n",
    "from sklearn.decomposition import PCA\n",
    "from tqdm import tqdm\n",
    "from scipy.optimize import fmin_powell"
   ]
  },
  {
   "cell_type": "code",
   "execution_count": 2,
   "id": "18a28ab8",
   "metadata": {},
   "outputs": [],
   "source": [
    "# Global constants\n",
    "columns_to_exclude = ['Id', 'Response']\n",
    "xgb_num_rounds = 720\n",
    "num_classes = 8\n",
    "missing_value_indicator = -1000\n"
   ]
  },
  {
   "cell_type": "code",
   "execution_count": 3,
   "id": "19aa36cd",
   "metadata": {},
   "outputs": [
    {
     "name": "stdout",
     "output_type": "stream",
     "text": [
      "Loading data using pandas\n"
     ]
    },
    {
     "data": {
      "text/html": [
       "<div>\n",
       "<style scoped>\n",
       "    .dataframe tbody tr th:only-of-type {\n",
       "        vertical-align: middle;\n",
       "    }\n",
       "\n",
       "    .dataframe tbody tr th {\n",
       "        vertical-align: top;\n",
       "    }\n",
       "\n",
       "    .dataframe thead th {\n",
       "        text-align: right;\n",
       "    }\n",
       "</style>\n",
       "<table border=\"1\" class=\"dataframe\">\n",
       "  <thead>\n",
       "    <tr style=\"text-align: right;\">\n",
       "      <th></th>\n",
       "      <th>Id</th>\n",
       "      <th>Product_Info_1</th>\n",
       "      <th>Product_Info_2</th>\n",
       "      <th>Product_Info_3</th>\n",
       "      <th>Product_Info_4</th>\n",
       "      <th>Product_Info_5</th>\n",
       "      <th>Product_Info_6</th>\n",
       "      <th>Product_Info_7</th>\n",
       "      <th>Ins_Age</th>\n",
       "      <th>Ht</th>\n",
       "      <th>...</th>\n",
       "      <th>Medical_Keyword_40</th>\n",
       "      <th>Medical_Keyword_41</th>\n",
       "      <th>Medical_Keyword_42</th>\n",
       "      <th>Medical_Keyword_43</th>\n",
       "      <th>Medical_Keyword_44</th>\n",
       "      <th>Medical_Keyword_45</th>\n",
       "      <th>Medical_Keyword_46</th>\n",
       "      <th>Medical_Keyword_47</th>\n",
       "      <th>Medical_Keyword_48</th>\n",
       "      <th>Response</th>\n",
       "    </tr>\n",
       "  </thead>\n",
       "  <tbody>\n",
       "    <tr>\n",
       "      <th>0</th>\n",
       "      <td>2</td>\n",
       "      <td>1</td>\n",
       "      <td>D3</td>\n",
       "      <td>10</td>\n",
       "      <td>0.076923</td>\n",
       "      <td>2</td>\n",
       "      <td>1</td>\n",
       "      <td>1</td>\n",
       "      <td>0.641791</td>\n",
       "      <td>0.581818</td>\n",
       "      <td>...</td>\n",
       "      <td>0</td>\n",
       "      <td>0</td>\n",
       "      <td>0</td>\n",
       "      <td>0</td>\n",
       "      <td>0</td>\n",
       "      <td>0</td>\n",
       "      <td>0</td>\n",
       "      <td>0</td>\n",
       "      <td>0</td>\n",
       "      <td>8</td>\n",
       "    </tr>\n",
       "    <tr>\n",
       "      <th>1</th>\n",
       "      <td>5</td>\n",
       "      <td>1</td>\n",
       "      <td>A1</td>\n",
       "      <td>26</td>\n",
       "      <td>0.076923</td>\n",
       "      <td>2</td>\n",
       "      <td>3</td>\n",
       "      <td>1</td>\n",
       "      <td>0.059701</td>\n",
       "      <td>0.600000</td>\n",
       "      <td>...</td>\n",
       "      <td>0</td>\n",
       "      <td>0</td>\n",
       "      <td>0</td>\n",
       "      <td>0</td>\n",
       "      <td>0</td>\n",
       "      <td>0</td>\n",
       "      <td>0</td>\n",
       "      <td>0</td>\n",
       "      <td>0</td>\n",
       "      <td>4</td>\n",
       "    </tr>\n",
       "    <tr>\n",
       "      <th>2</th>\n",
       "      <td>6</td>\n",
       "      <td>1</td>\n",
       "      <td>E1</td>\n",
       "      <td>26</td>\n",
       "      <td>0.076923</td>\n",
       "      <td>2</td>\n",
       "      <td>3</td>\n",
       "      <td>1</td>\n",
       "      <td>0.029851</td>\n",
       "      <td>0.745455</td>\n",
       "      <td>...</td>\n",
       "      <td>0</td>\n",
       "      <td>0</td>\n",
       "      <td>0</td>\n",
       "      <td>0</td>\n",
       "      <td>0</td>\n",
       "      <td>0</td>\n",
       "      <td>0</td>\n",
       "      <td>0</td>\n",
       "      <td>0</td>\n",
       "      <td>8</td>\n",
       "    </tr>\n",
       "    <tr>\n",
       "      <th>3</th>\n",
       "      <td>7</td>\n",
       "      <td>1</td>\n",
       "      <td>D4</td>\n",
       "      <td>10</td>\n",
       "      <td>0.487179</td>\n",
       "      <td>2</td>\n",
       "      <td>3</td>\n",
       "      <td>1</td>\n",
       "      <td>0.164179</td>\n",
       "      <td>0.672727</td>\n",
       "      <td>...</td>\n",
       "      <td>0</td>\n",
       "      <td>0</td>\n",
       "      <td>0</td>\n",
       "      <td>0</td>\n",
       "      <td>0</td>\n",
       "      <td>0</td>\n",
       "      <td>0</td>\n",
       "      <td>0</td>\n",
       "      <td>0</td>\n",
       "      <td>8</td>\n",
       "    </tr>\n",
       "    <tr>\n",
       "      <th>4</th>\n",
       "      <td>8</td>\n",
       "      <td>1</td>\n",
       "      <td>D2</td>\n",
       "      <td>26</td>\n",
       "      <td>0.230769</td>\n",
       "      <td>2</td>\n",
       "      <td>3</td>\n",
       "      <td>1</td>\n",
       "      <td>0.417910</td>\n",
       "      <td>0.654545</td>\n",
       "      <td>...</td>\n",
       "      <td>0</td>\n",
       "      <td>0</td>\n",
       "      <td>0</td>\n",
       "      <td>0</td>\n",
       "      <td>0</td>\n",
       "      <td>0</td>\n",
       "      <td>0</td>\n",
       "      <td>0</td>\n",
       "      <td>0</td>\n",
       "      <td>8</td>\n",
       "    </tr>\n",
       "  </tbody>\n",
       "</table>\n",
       "<p>5 rows × 128 columns</p>\n",
       "</div>"
      ],
      "text/plain": [
       "   Id  Product_Info_1 Product_Info_2  Product_Info_3  Product_Info_4  \\\n",
       "0   2               1             D3              10        0.076923   \n",
       "1   5               1             A1              26        0.076923   \n",
       "2   6               1             E1              26        0.076923   \n",
       "3   7               1             D4              10        0.487179   \n",
       "4   8               1             D2              26        0.230769   \n",
       "\n",
       "   Product_Info_5  Product_Info_6  Product_Info_7   Ins_Age        Ht  ...  \\\n",
       "0               2               1               1  0.641791  0.581818  ...   \n",
       "1               2               3               1  0.059701  0.600000  ...   \n",
       "2               2               3               1  0.029851  0.745455  ...   \n",
       "3               2               3               1  0.164179  0.672727  ...   \n",
       "4               2               3               1  0.417910  0.654545  ...   \n",
       "\n",
       "   Medical_Keyword_40  Medical_Keyword_41  Medical_Keyword_42  \\\n",
       "0                   0                   0                   0   \n",
       "1                   0                   0                   0   \n",
       "2                   0                   0                   0   \n",
       "3                   0                   0                   0   \n",
       "4                   0                   0                   0   \n",
       "\n",
       "   Medical_Keyword_43  Medical_Keyword_44  Medical_Keyword_45  \\\n",
       "0                   0                   0                   0   \n",
       "1                   0                   0                   0   \n",
       "2                   0                   0                   0   \n",
       "3                   0                   0                   0   \n",
       "4                   0                   0                   0   \n",
       "\n",
       "   Medical_Keyword_46  Medical_Keyword_47  Medical_Keyword_48  Response  \n",
       "0                   0                   0                   0         8  \n",
       "1                   0                   0                   0         4  \n",
       "2                   0                   0                   0         8  \n",
       "3                   0                   0                   0         8  \n",
       "4                   0                   0                   0         8  \n",
       "\n",
       "[5 rows x 128 columns]"
      ]
     },
     "execution_count": 3,
     "metadata": {},
     "output_type": "execute_result"
    }
   ],
   "source": [
    "print(\"Loading data using pandas\")\n",
    "all_data = pd.read_csv(\"train.csv\")\n",
    "all_data.head()\n"
   ]
  },
  {
   "cell_type": "code",
   "execution_count": 4,
   "id": "6b8bc09f",
   "metadata": {},
   "outputs": [
    {
     "data": {
      "text/plain": [
       "Id                      int64\n",
       "Product_Info_1          int64\n",
       "Product_Info_2         object\n",
       "Product_Info_3          int64\n",
       "Product_Info_4        float64\n",
       "                       ...   \n",
       "Medical_Keyword_45      int64\n",
       "Medical_Keyword_46      int64\n",
       "Medical_Keyword_47      int64\n",
       "Medical_Keyword_48      int64\n",
       "Response                int64\n",
       "Length: 128, dtype: object"
      ]
     },
     "execution_count": 4,
     "metadata": {},
     "output_type": "execute_result"
    }
   ],
   "source": [
    "all_data.dtypes"
   ]
  },
  {
   "cell_type": "code",
   "execution_count": 5,
   "id": "d3a7ddde",
   "metadata": {},
   "outputs": [
    {
     "data": {
      "text/html": [
       "<div>\n",
       "<style scoped>\n",
       "    .dataframe tbody tr th:only-of-type {\n",
       "        vertical-align: middle;\n",
       "    }\n",
       "\n",
       "    .dataframe tbody tr th {\n",
       "        vertical-align: top;\n",
       "    }\n",
       "\n",
       "    .dataframe thead th {\n",
       "        text-align: right;\n",
       "    }\n",
       "</style>\n",
       "<table border=\"1\" class=\"dataframe\">\n",
       "  <thead>\n",
       "    <tr style=\"text-align: right;\">\n",
       "      <th></th>\n",
       "      <th>Id</th>\n",
       "      <th>Product_Info_1</th>\n",
       "      <th>Product_Info_3</th>\n",
       "      <th>Product_Info_4</th>\n",
       "      <th>Product_Info_5</th>\n",
       "      <th>Product_Info_6</th>\n",
       "      <th>Product_Info_7</th>\n",
       "      <th>Ins_Age</th>\n",
       "      <th>Ht</th>\n",
       "      <th>Wt</th>\n",
       "      <th>...</th>\n",
       "      <th>Medical_Keyword_40</th>\n",
       "      <th>Medical_Keyword_41</th>\n",
       "      <th>Medical_Keyword_42</th>\n",
       "      <th>Medical_Keyword_43</th>\n",
       "      <th>Medical_Keyword_44</th>\n",
       "      <th>Medical_Keyword_45</th>\n",
       "      <th>Medical_Keyword_46</th>\n",
       "      <th>Medical_Keyword_47</th>\n",
       "      <th>Medical_Keyword_48</th>\n",
       "      <th>Response</th>\n",
       "    </tr>\n",
       "  </thead>\n",
       "  <tbody>\n",
       "    <tr>\n",
       "      <th>count</th>\n",
       "      <td>59381.000000</td>\n",
       "      <td>59381.000000</td>\n",
       "      <td>59381.000000</td>\n",
       "      <td>59381.000000</td>\n",
       "      <td>59381.000000</td>\n",
       "      <td>59381.000000</td>\n",
       "      <td>59381.000000</td>\n",
       "      <td>59381.000000</td>\n",
       "      <td>59381.000000</td>\n",
       "      <td>59381.000000</td>\n",
       "      <td>...</td>\n",
       "      <td>59381.000000</td>\n",
       "      <td>59381.000000</td>\n",
       "      <td>59381.000000</td>\n",
       "      <td>59381.000000</td>\n",
       "      <td>59381.000000</td>\n",
       "      <td>59381.000000</td>\n",
       "      <td>59381.000000</td>\n",
       "      <td>59381.000000</td>\n",
       "      <td>59381.000000</td>\n",
       "      <td>59381.000000</td>\n",
       "    </tr>\n",
       "    <tr>\n",
       "      <th>mean</th>\n",
       "      <td>39507.211515</td>\n",
       "      <td>1.026355</td>\n",
       "      <td>24.415655</td>\n",
       "      <td>0.328952</td>\n",
       "      <td>2.006955</td>\n",
       "      <td>2.673599</td>\n",
       "      <td>1.043583</td>\n",
       "      <td>0.405567</td>\n",
       "      <td>0.707283</td>\n",
       "      <td>0.292587</td>\n",
       "      <td>...</td>\n",
       "      <td>0.056954</td>\n",
       "      <td>0.010054</td>\n",
       "      <td>0.045536</td>\n",
       "      <td>0.010710</td>\n",
       "      <td>0.007528</td>\n",
       "      <td>0.013691</td>\n",
       "      <td>0.008488</td>\n",
       "      <td>0.019905</td>\n",
       "      <td>0.054496</td>\n",
       "      <td>5.636837</td>\n",
       "    </tr>\n",
       "    <tr>\n",
       "      <th>std</th>\n",
       "      <td>22815.883089</td>\n",
       "      <td>0.160191</td>\n",
       "      <td>5.072885</td>\n",
       "      <td>0.282562</td>\n",
       "      <td>0.083107</td>\n",
       "      <td>0.739103</td>\n",
       "      <td>0.291949</td>\n",
       "      <td>0.197190</td>\n",
       "      <td>0.074239</td>\n",
       "      <td>0.089037</td>\n",
       "      <td>...</td>\n",
       "      <td>0.231757</td>\n",
       "      <td>0.099764</td>\n",
       "      <td>0.208479</td>\n",
       "      <td>0.102937</td>\n",
       "      <td>0.086436</td>\n",
       "      <td>0.116207</td>\n",
       "      <td>0.091737</td>\n",
       "      <td>0.139676</td>\n",
       "      <td>0.226995</td>\n",
       "      <td>2.456833</td>\n",
       "    </tr>\n",
       "    <tr>\n",
       "      <th>min</th>\n",
       "      <td>2.000000</td>\n",
       "      <td>1.000000</td>\n",
       "      <td>1.000000</td>\n",
       "      <td>0.000000</td>\n",
       "      <td>2.000000</td>\n",
       "      <td>1.000000</td>\n",
       "      <td>1.000000</td>\n",
       "      <td>0.000000</td>\n",
       "      <td>0.000000</td>\n",
       "      <td>0.000000</td>\n",
       "      <td>...</td>\n",
       "      <td>0.000000</td>\n",
       "      <td>0.000000</td>\n",
       "      <td>0.000000</td>\n",
       "      <td>0.000000</td>\n",
       "      <td>0.000000</td>\n",
       "      <td>0.000000</td>\n",
       "      <td>0.000000</td>\n",
       "      <td>0.000000</td>\n",
       "      <td>0.000000</td>\n",
       "      <td>1.000000</td>\n",
       "    </tr>\n",
       "    <tr>\n",
       "      <th>25%</th>\n",
       "      <td>19780.000000</td>\n",
       "      <td>1.000000</td>\n",
       "      <td>26.000000</td>\n",
       "      <td>0.076923</td>\n",
       "      <td>2.000000</td>\n",
       "      <td>3.000000</td>\n",
       "      <td>1.000000</td>\n",
       "      <td>0.238806</td>\n",
       "      <td>0.654545</td>\n",
       "      <td>0.225941</td>\n",
       "      <td>...</td>\n",
       "      <td>0.000000</td>\n",
       "      <td>0.000000</td>\n",
       "      <td>0.000000</td>\n",
       "      <td>0.000000</td>\n",
       "      <td>0.000000</td>\n",
       "      <td>0.000000</td>\n",
       "      <td>0.000000</td>\n",
       "      <td>0.000000</td>\n",
       "      <td>0.000000</td>\n",
       "      <td>4.000000</td>\n",
       "    </tr>\n",
       "    <tr>\n",
       "      <th>50%</th>\n",
       "      <td>39487.000000</td>\n",
       "      <td>1.000000</td>\n",
       "      <td>26.000000</td>\n",
       "      <td>0.230769</td>\n",
       "      <td>2.000000</td>\n",
       "      <td>3.000000</td>\n",
       "      <td>1.000000</td>\n",
       "      <td>0.402985</td>\n",
       "      <td>0.709091</td>\n",
       "      <td>0.288703</td>\n",
       "      <td>...</td>\n",
       "      <td>0.000000</td>\n",
       "      <td>0.000000</td>\n",
       "      <td>0.000000</td>\n",
       "      <td>0.000000</td>\n",
       "      <td>0.000000</td>\n",
       "      <td>0.000000</td>\n",
       "      <td>0.000000</td>\n",
       "      <td>0.000000</td>\n",
       "      <td>0.000000</td>\n",
       "      <td>6.000000</td>\n",
       "    </tr>\n",
       "    <tr>\n",
       "      <th>75%</th>\n",
       "      <td>59211.000000</td>\n",
       "      <td>1.000000</td>\n",
       "      <td>26.000000</td>\n",
       "      <td>0.487179</td>\n",
       "      <td>2.000000</td>\n",
       "      <td>3.000000</td>\n",
       "      <td>1.000000</td>\n",
       "      <td>0.567164</td>\n",
       "      <td>0.763636</td>\n",
       "      <td>0.345188</td>\n",
       "      <td>...</td>\n",
       "      <td>0.000000</td>\n",
       "      <td>0.000000</td>\n",
       "      <td>0.000000</td>\n",
       "      <td>0.000000</td>\n",
       "      <td>0.000000</td>\n",
       "      <td>0.000000</td>\n",
       "      <td>0.000000</td>\n",
       "      <td>0.000000</td>\n",
       "      <td>0.000000</td>\n",
       "      <td>8.000000</td>\n",
       "    </tr>\n",
       "    <tr>\n",
       "      <th>max</th>\n",
       "      <td>79146.000000</td>\n",
       "      <td>2.000000</td>\n",
       "      <td>38.000000</td>\n",
       "      <td>1.000000</td>\n",
       "      <td>3.000000</td>\n",
       "      <td>3.000000</td>\n",
       "      <td>3.000000</td>\n",
       "      <td>1.000000</td>\n",
       "      <td>1.000000</td>\n",
       "      <td>1.000000</td>\n",
       "      <td>...</td>\n",
       "      <td>1.000000</td>\n",
       "      <td>1.000000</td>\n",
       "      <td>1.000000</td>\n",
       "      <td>1.000000</td>\n",
       "      <td>1.000000</td>\n",
       "      <td>1.000000</td>\n",
       "      <td>1.000000</td>\n",
       "      <td>1.000000</td>\n",
       "      <td>1.000000</td>\n",
       "      <td>8.000000</td>\n",
       "    </tr>\n",
       "  </tbody>\n",
       "</table>\n",
       "<p>8 rows × 127 columns</p>\n",
       "</div>"
      ],
      "text/plain": [
       "                 Id  Product_Info_1  Product_Info_3  Product_Info_4  \\\n",
       "count  59381.000000    59381.000000    59381.000000    59381.000000   \n",
       "mean   39507.211515        1.026355       24.415655        0.328952   \n",
       "std    22815.883089        0.160191        5.072885        0.282562   \n",
       "min        2.000000        1.000000        1.000000        0.000000   \n",
       "25%    19780.000000        1.000000       26.000000        0.076923   \n",
       "50%    39487.000000        1.000000       26.000000        0.230769   \n",
       "75%    59211.000000        1.000000       26.000000        0.487179   \n",
       "max    79146.000000        2.000000       38.000000        1.000000   \n",
       "\n",
       "       Product_Info_5  Product_Info_6  Product_Info_7       Ins_Age  \\\n",
       "count    59381.000000    59381.000000    59381.000000  59381.000000   \n",
       "mean         2.006955        2.673599        1.043583      0.405567   \n",
       "std          0.083107        0.739103        0.291949      0.197190   \n",
       "min          2.000000        1.000000        1.000000      0.000000   \n",
       "25%          2.000000        3.000000        1.000000      0.238806   \n",
       "50%          2.000000        3.000000        1.000000      0.402985   \n",
       "75%          2.000000        3.000000        1.000000      0.567164   \n",
       "max          3.000000        3.000000        3.000000      1.000000   \n",
       "\n",
       "                 Ht            Wt  ...  Medical_Keyword_40  \\\n",
       "count  59381.000000  59381.000000  ...        59381.000000   \n",
       "mean       0.707283      0.292587  ...            0.056954   \n",
       "std        0.074239      0.089037  ...            0.231757   \n",
       "min        0.000000      0.000000  ...            0.000000   \n",
       "25%        0.654545      0.225941  ...            0.000000   \n",
       "50%        0.709091      0.288703  ...            0.000000   \n",
       "75%        0.763636      0.345188  ...            0.000000   \n",
       "max        1.000000      1.000000  ...            1.000000   \n",
       "\n",
       "       Medical_Keyword_41  Medical_Keyword_42  Medical_Keyword_43  \\\n",
       "count        59381.000000        59381.000000        59381.000000   \n",
       "mean             0.010054            0.045536            0.010710   \n",
       "std              0.099764            0.208479            0.102937   \n",
       "min              0.000000            0.000000            0.000000   \n",
       "25%              0.000000            0.000000            0.000000   \n",
       "50%              0.000000            0.000000            0.000000   \n",
       "75%              0.000000            0.000000            0.000000   \n",
       "max              1.000000            1.000000            1.000000   \n",
       "\n",
       "       Medical_Keyword_44  Medical_Keyword_45  Medical_Keyword_46  \\\n",
       "count        59381.000000        59381.000000        59381.000000   \n",
       "mean             0.007528            0.013691            0.008488   \n",
       "std              0.086436            0.116207            0.091737   \n",
       "min              0.000000            0.000000            0.000000   \n",
       "25%              0.000000            0.000000            0.000000   \n",
       "50%              0.000000            0.000000            0.000000   \n",
       "75%              0.000000            0.000000            0.000000   \n",
       "max              1.000000            1.000000            1.000000   \n",
       "\n",
       "       Medical_Keyword_47  Medical_Keyword_48      Response  \n",
       "count        59381.000000        59381.000000  59381.000000  \n",
       "mean             0.019905            0.054496      5.636837  \n",
       "std              0.139676            0.226995      2.456833  \n",
       "min              0.000000            0.000000      1.000000  \n",
       "25%              0.000000            0.000000      4.000000  \n",
       "50%              0.000000            0.000000      6.000000  \n",
       "75%              0.000000            0.000000      8.000000  \n",
       "max              1.000000            1.000000      8.000000  \n",
       "\n",
       "[8 rows x 127 columns]"
      ]
     },
     "execution_count": 5,
     "metadata": {},
     "output_type": "execute_result"
    }
   ],
   "source": [
    "all_data.describe()"
   ]
  },
  {
   "cell_type": "code",
   "execution_count": 6,
   "id": "5fcaafd7",
   "metadata": {},
   "outputs": [
    {
     "data": {
      "text/plain": [
       "Employment_Info_1         19\n",
       "Employment_Info_4       6779\n",
       "Employment_Info_6      10854\n",
       "Insurance_History_5    25396\n",
       "Family_Hist_2          28656\n",
       "Family_Hist_3          34241\n",
       "Family_Hist_4          19184\n",
       "Family_Hist_5          41811\n",
       "Medical_History_1       8889\n",
       "Medical_History_10     58824\n",
       "Medical_History_15     44596\n",
       "Medical_History_24     55580\n",
       "Medical_History_32     58274\n",
       "dtype: int64"
      ]
     },
     "execution_count": 6,
     "metadata": {},
     "output_type": "execute_result"
    }
   ],
   "source": [
    "# Determine which columns contain nulls/missing values.\n",
    "cols_with_missing = [col for col in all_data.columns\n",
    "                     if all_data[col].isnull().any()]\n",
    "\n",
    "# Summarise how many missing values are present in each column.\n",
    "all_data[cols_with_missing].isna().sum()"
   ]
  },
  {
   "cell_type": "code",
   "execution_count": 7,
   "id": "4d2d7c24",
   "metadata": {},
   "outputs": [
    {
     "name": "stdout",
     "output_type": "stream",
     "text": [
      "Proportion of zeroes in Employment_Info_1 is:  0.03 %.\n",
      "Proportion of zeroes in Employment_Info_4 is:  11.42 %.\n",
      "Proportion of zeroes in Employment_Info_6 is:  18.28 %.\n",
      "Proportion of zeroes in Insurance_History_5 is:  42.77 %.\n",
      "Proportion of zeroes in Family_Hist_2 is:  48.26 %.\n",
      "Proportion of zeroes in Family_Hist_3 is:  57.66 %.\n",
      "Proportion of zeroes in Family_Hist_4 is:  32.31 %.\n",
      "Proportion of zeroes in Family_Hist_5 is:  70.41 %.\n",
      "Proportion of zeroes in Medical_History_1 is:  14.97 %.\n",
      "Proportion of zeroes in Medical_History_10 is:  99.06 %.\n",
      "Proportion of zeroes in Medical_History_15 is:  75.1 %.\n",
      "Proportion of zeroes in Medical_History_24 is:  93.6 %.\n",
      "Proportion of zeroes in Medical_History_32 is:  98.14 %.\n"
     ]
    }
   ],
   "source": [
    "## Calculate the proportion of zeroes relative to non-zero values.\n",
    "for col in cols_with_missing:\n",
    "    sum = all_data[col].isna().sum()\n",
    "    length = len(all_data[col].index)\n",
    "    ratio = sum/length\n",
    "    print('Proportion of zeroes in', col, 'is: ', round(ratio*100,2), '%.')"
   ]
  },
  {
   "cell_type": "code",
   "execution_count": 8,
   "id": "190157cf",
   "metadata": {},
   "outputs": [],
   "source": [
    "# These columns have been selected as they contain a high proportion of blanks/missing values (deemed here as >40%) in the TRAINING dataset.\n",
    "cols_to_delete_due_to_missing_data = ['Insurance_History_5',\n",
    "                                      'Family_Hist_2', 'Family_Hist_3', 'Family_Hist_5',\n",
    "                                      'Medical_History_10', 'Medical_History_15', 'Medical_History_24', 'Medical_History_32']\n",
    "\n",
    "# Delete columns from ALL datasets where the proportion of zeroes in the TRAINING dataset exceeds a stipulated threshold.\n",
    "#all_data = all_data.drop(cols_to_delete_due_to_missing_data, axis=1)"
   ]
  },
  {
   "cell_type": "code",
   "execution_count": 9,
   "id": "2ead9fb8",
   "metadata": {},
   "outputs": [],
   "source": [
    "\n",
    "# Feature engineering\n",
    "all_data['Product_Info_2_char'] = all_data['Product_Info_2'].str[0]\n",
    "all_data['Product_Info_2_num'] = all_data['Product_Info_2'].str[1]\n",
    "\n",
    "# Factorize categorical variables\n",
    "all_data['Product_Info_2'] = pd.factorize(all_data['Product_Info_2'])[0]\n",
    "all_data['Product_Info_2_char'] = pd.factorize(all_data['Product_Info_2_char'])[0]\n",
    "all_data['Product_Info_2_num'] = pd.factorize(all_data['Product_Info_2_num'])[0]\n",
    "\n",
    "all_data['BMI_Age'] = all_data['BMI'] * all_data['Ins_Age']\n",
    "\n",
    "med_keyword_columns = all_data.columns[all_data.columns.str.startswith('Medical_Keyword_')]\n",
    "all_data['Med_Keywords_Count'] = all_data[med_keyword_columns].sum(axis=1)\n",
    "\n",
    "# print('Eliminating missing values')\n",
    "all_data.fillna(missing_value_indicator, inplace=True)\n",
    "\n",
    "# Fix the dtype on the label column\n",
    "all_data['Response'] = all_data['Response'].astype(int)\n"
   ]
  },
  {
   "cell_type": "code",
   "execution_count": null,
   "id": "ae516137",
   "metadata": {},
   "outputs": [],
   "source": []
  },
  {
   "cell_type": "code",
   "execution_count": 10,
   "id": "08bf6b32",
   "metadata": {},
   "outputs": [],
   "source": [
    "# Split train and test\n",
    "training_set = all_data[all_data['Response'] > 0].copy()\n",
    "\n",
    "# Train-test split\n",
    "X_train, X_test, y_train, y_test = train_test_split(\n",
    "    training_set.drop(columns_to_exclude, axis=1),\n",
    "    training_set['Response'].values,\n",
    "    train_size=0.8,\n",
    "    test_size=0.2,\n",
    "    random_state=0,\n",
    "    stratify=training_set['Response'].values\n",
    ")\n",
    "X_train, X_valid, y_train, y_valid = train_test_split(X_train, y_train, train_size=0.75, test_size=0.25, random_state=0, stratify=y_train)"
   ]
  },
  {
   "cell_type": "code",
   "execution_count": null,
   "id": "af9ff3d7",
   "metadata": {},
   "outputs": [],
   "source": []
  },
  {
   "cell_type": "code",
   "execution_count": 11,
   "id": "21e1f6c0",
   "metadata": {},
   "outputs": [
    {
     "data": {
      "text/html": [
       "<div>\n",
       "<style scoped>\n",
       "    .dataframe tbody tr th:only-of-type {\n",
       "        vertical-align: middle;\n",
       "    }\n",
       "\n",
       "    .dataframe tbody tr th {\n",
       "        vertical-align: top;\n",
       "    }\n",
       "\n",
       "    .dataframe thead th {\n",
       "        text-align: right;\n",
       "    }\n",
       "</style>\n",
       "<table border=\"1\" class=\"dataframe\">\n",
       "  <thead>\n",
       "    <tr style=\"text-align: right;\">\n",
       "      <th></th>\n",
       "      <th>Product_Info_1</th>\n",
       "      <th>Product_Info_2</th>\n",
       "      <th>Product_Info_3</th>\n",
       "      <th>Product_Info_4</th>\n",
       "      <th>Product_Info_5</th>\n",
       "      <th>Product_Info_6</th>\n",
       "      <th>Product_Info_7</th>\n",
       "      <th>Ins_Age</th>\n",
       "      <th>Ht</th>\n",
       "      <th>Wt</th>\n",
       "      <th>BMI</th>\n",
       "      <th>Employment_Info_1</th>\n",
       "      <th>Employment_Info_2</th>\n",
       "      <th>Employment_Info_3</th>\n",
       "      <th>Employment_Info_4</th>\n",
       "      <th>Employment_Info_5</th>\n",
       "      <th>Employment_Info_6</th>\n",
       "      <th>InsuredInfo_1</th>\n",
       "      <th>InsuredInfo_2</th>\n",
       "      <th>InsuredInfo_3</th>\n",
       "      <th>InsuredInfo_4</th>\n",
       "      <th>InsuredInfo_5</th>\n",
       "      <th>InsuredInfo_6</th>\n",
       "      <th>InsuredInfo_7</th>\n",
       "      <th>Insurance_History_1</th>\n",
       "      <th>Insurance_History_2</th>\n",
       "      <th>Insurance_History_3</th>\n",
       "      <th>Insurance_History_4</th>\n",
       "      <th>Insurance_History_5</th>\n",
       "      <th>Insurance_History_7</th>\n",
       "      <th>Insurance_History_8</th>\n",
       "      <th>Insurance_History_9</th>\n",
       "      <th>Family_Hist_1</th>\n",
       "      <th>Family_Hist_2</th>\n",
       "      <th>Family_Hist_3</th>\n",
       "      <th>Family_Hist_4</th>\n",
       "      <th>Family_Hist_5</th>\n",
       "      <th>Medical_History_1</th>\n",
       "      <th>Medical_History_2</th>\n",
       "      <th>Medical_History_3</th>\n",
       "      <th>Medical_History_4</th>\n",
       "      <th>Medical_History_5</th>\n",
       "      <th>Medical_History_6</th>\n",
       "      <th>Medical_History_7</th>\n",
       "      <th>Medical_History_8</th>\n",
       "      <th>Medical_History_9</th>\n",
       "      <th>Medical_History_10</th>\n",
       "      <th>Medical_History_11</th>\n",
       "      <th>Medical_History_12</th>\n",
       "      <th>Medical_History_13</th>\n",
       "      <th>Medical_History_14</th>\n",
       "      <th>Medical_History_15</th>\n",
       "      <th>Medical_History_16</th>\n",
       "      <th>Medical_History_17</th>\n",
       "      <th>Medical_History_18</th>\n",
       "      <th>Medical_History_19</th>\n",
       "      <th>Medical_History_20</th>\n",
       "      <th>Medical_History_21</th>\n",
       "      <th>Medical_History_22</th>\n",
       "      <th>Medical_History_23</th>\n",
       "      <th>Medical_History_24</th>\n",
       "      <th>Medical_History_25</th>\n",
       "      <th>Medical_History_26</th>\n",
       "      <th>Medical_History_27</th>\n",
       "      <th>Medical_History_28</th>\n",
       "      <th>Medical_History_29</th>\n",
       "      <th>Medical_History_30</th>\n",
       "      <th>Medical_History_31</th>\n",
       "      <th>Medical_History_32</th>\n",
       "      <th>Medical_History_33</th>\n",
       "      <th>Medical_History_34</th>\n",
       "      <th>Medical_History_35</th>\n",
       "      <th>Medical_History_36</th>\n",
       "      <th>Medical_History_37</th>\n",
       "      <th>Medical_History_38</th>\n",
       "      <th>Medical_History_39</th>\n",
       "      <th>Medical_History_40</th>\n",
       "      <th>Medical_History_41</th>\n",
       "      <th>Medical_Keyword_1</th>\n",
       "      <th>Medical_Keyword_2</th>\n",
       "      <th>Medical_Keyword_3</th>\n",
       "      <th>Medical_Keyword_4</th>\n",
       "      <th>Medical_Keyword_5</th>\n",
       "      <th>Medical_Keyword_6</th>\n",
       "      <th>Medical_Keyword_7</th>\n",
       "      <th>Medical_Keyword_8</th>\n",
       "      <th>Medical_Keyword_9</th>\n",
       "      <th>Medical_Keyword_10</th>\n",
       "      <th>Medical_Keyword_11</th>\n",
       "      <th>Medical_Keyword_12</th>\n",
       "      <th>Medical_Keyword_13</th>\n",
       "      <th>Medical_Keyword_14</th>\n",
       "      <th>Medical_Keyword_15</th>\n",
       "      <th>Medical_Keyword_16</th>\n",
       "      <th>Medical_Keyword_17</th>\n",
       "      <th>Medical_Keyword_18</th>\n",
       "      <th>Medical_Keyword_19</th>\n",
       "      <th>Medical_Keyword_20</th>\n",
       "      <th>Medical_Keyword_21</th>\n",
       "      <th>Medical_Keyword_22</th>\n",
       "      <th>Medical_Keyword_23</th>\n",
       "      <th>Medical_Keyword_24</th>\n",
       "      <th>Medical_Keyword_25</th>\n",
       "      <th>Medical_Keyword_26</th>\n",
       "      <th>Medical_Keyword_27</th>\n",
       "      <th>Medical_Keyword_28</th>\n",
       "      <th>Medical_Keyword_29</th>\n",
       "      <th>Medical_Keyword_30</th>\n",
       "      <th>Medical_Keyword_31</th>\n",
       "      <th>Medical_Keyword_32</th>\n",
       "      <th>Medical_Keyword_33</th>\n",
       "      <th>Medical_Keyword_34</th>\n",
       "      <th>Medical_Keyword_35</th>\n",
       "      <th>Medical_Keyword_36</th>\n",
       "      <th>Medical_Keyword_37</th>\n",
       "      <th>Medical_Keyword_38</th>\n",
       "      <th>Medical_Keyword_39</th>\n",
       "      <th>Medical_Keyword_40</th>\n",
       "      <th>Medical_Keyword_41</th>\n",
       "      <th>Medical_Keyword_42</th>\n",
       "      <th>Medical_Keyword_43</th>\n",
       "      <th>Medical_Keyword_44</th>\n",
       "      <th>Medical_Keyword_45</th>\n",
       "      <th>Medical_Keyword_46</th>\n",
       "      <th>Medical_Keyword_47</th>\n",
       "      <th>Medical_Keyword_48</th>\n",
       "      <th>Product_Info_2_char</th>\n",
       "      <th>Product_Info_2_num</th>\n",
       "      <th>BMI_Age</th>\n",
       "      <th>Med_Keywords_Count</th>\n",
       "    </tr>\n",
       "  </thead>\n",
       "  <tbody>\n",
       "    <tr>\n",
       "      <th>count</th>\n",
       "      <td>35628.000000</td>\n",
       "      <td>35628.000000</td>\n",
       "      <td>35628.000000</td>\n",
       "      <td>35628.000000</td>\n",
       "      <td>35628.000000</td>\n",
       "      <td>35628.000000</td>\n",
       "      <td>35628.000000</td>\n",
       "      <td>35628.000000</td>\n",
       "      <td>35628.000000</td>\n",
       "      <td>35628.000000</td>\n",
       "      <td>35628.000000</td>\n",
       "      <td>35628.000000</td>\n",
       "      <td>35628.000000</td>\n",
       "      <td>35628.000000</td>\n",
       "      <td>35628.000000</td>\n",
       "      <td>35628.000000</td>\n",
       "      <td>35628.000000</td>\n",
       "      <td>35628.000000</td>\n",
       "      <td>35628.000000</td>\n",
       "      <td>35628.000000</td>\n",
       "      <td>35628.000000</td>\n",
       "      <td>35628.000000</td>\n",
       "      <td>35628.000000</td>\n",
       "      <td>35628.000000</td>\n",
       "      <td>35628.000000</td>\n",
       "      <td>35628.000000</td>\n",
       "      <td>35628.000000</td>\n",
       "      <td>35628.000000</td>\n",
       "      <td>35628.000000</td>\n",
       "      <td>35628.000000</td>\n",
       "      <td>35628.000000</td>\n",
       "      <td>35628.000000</td>\n",
       "      <td>35628.000000</td>\n",
       "      <td>35628.000000</td>\n",
       "      <td>35628.000000</td>\n",
       "      <td>35628.000000</td>\n",
       "      <td>35628.000000</td>\n",
       "      <td>35628.000000</td>\n",
       "      <td>35628.000000</td>\n",
       "      <td>35628.000000</td>\n",
       "      <td>35628.000000</td>\n",
       "      <td>35628.000000</td>\n",
       "      <td>35628.000000</td>\n",
       "      <td>35628.000000</td>\n",
       "      <td>35628.000000</td>\n",
       "      <td>35628.000000</td>\n",
       "      <td>35628.000000</td>\n",
       "      <td>35628.000000</td>\n",
       "      <td>35628.000000</td>\n",
       "      <td>35628.000000</td>\n",
       "      <td>35628.000000</td>\n",
       "      <td>35628.000000</td>\n",
       "      <td>35628.000000</td>\n",
       "      <td>35628.000000</td>\n",
       "      <td>35628.000000</td>\n",
       "      <td>35628.000000</td>\n",
       "      <td>35628.000000</td>\n",
       "      <td>35628.000000</td>\n",
       "      <td>35628.000000</td>\n",
       "      <td>35628.000000</td>\n",
       "      <td>35628.000000</td>\n",
       "      <td>35628.000000</td>\n",
       "      <td>35628.000000</td>\n",
       "      <td>35628.000000</td>\n",
       "      <td>35628.000000</td>\n",
       "      <td>35628.000000</td>\n",
       "      <td>35628.000000</td>\n",
       "      <td>35628.000000</td>\n",
       "      <td>35628.000000</td>\n",
       "      <td>35628.000000</td>\n",
       "      <td>35628.000000</td>\n",
       "      <td>35628.000000</td>\n",
       "      <td>35628.000000</td>\n",
       "      <td>35628.000000</td>\n",
       "      <td>35628.000000</td>\n",
       "      <td>35628.000000</td>\n",
       "      <td>35628.000000</td>\n",
       "      <td>35628.000000</td>\n",
       "      <td>35628.000000</td>\n",
       "      <td>35628.000000</td>\n",
       "      <td>35628.000000</td>\n",
       "      <td>35628.000000</td>\n",
       "      <td>35628.000000</td>\n",
       "      <td>35628.000000</td>\n",
       "      <td>35628.000000</td>\n",
       "      <td>35628.000000</td>\n",
       "      <td>35628.000000</td>\n",
       "      <td>35628.000000</td>\n",
       "      <td>35628.000000</td>\n",
       "      <td>35628.00000</td>\n",
       "      <td>35628.000000</td>\n",
       "      <td>35628.000000</td>\n",
       "      <td>35628.000000</td>\n",
       "      <td>35628.000000</td>\n",
       "      <td>35628.000000</td>\n",
       "      <td>35628.000000</td>\n",
       "      <td>35628.000000</td>\n",
       "      <td>35628.000000</td>\n",
       "      <td>35628.000000</td>\n",
       "      <td>35628.000000</td>\n",
       "      <td>35628.000000</td>\n",
       "      <td>35628.000000</td>\n",
       "      <td>35628.000000</td>\n",
       "      <td>35628.000000</td>\n",
       "      <td>35628.000000</td>\n",
       "      <td>35628.000000</td>\n",
       "      <td>35628.000000</td>\n",
       "      <td>35628.000000</td>\n",
       "      <td>35628.000000</td>\n",
       "      <td>35628.000000</td>\n",
       "      <td>35628.000000</td>\n",
       "      <td>35628.000000</td>\n",
       "      <td>35628.000000</td>\n",
       "      <td>35628.000000</td>\n",
       "      <td>35628.000000</td>\n",
       "      <td>35628.000000</td>\n",
       "      <td>35628.000000</td>\n",
       "      <td>35628.000000</td>\n",
       "      <td>35628.000000</td>\n",
       "      <td>35628.000000</td>\n",
       "      <td>35628.000000</td>\n",
       "      <td>35628.000000</td>\n",
       "      <td>35628.000000</td>\n",
       "      <td>35628.000000</td>\n",
       "      <td>35628.000000</td>\n",
       "      <td>35628.000000</td>\n",
       "      <td>35628.000000</td>\n",
       "      <td>35628.000000</td>\n",
       "      <td>35628.000000</td>\n",
       "      <td>35628.000000</td>\n",
       "    </tr>\n",
       "    <tr>\n",
       "      <th>mean</th>\n",
       "      <td>1.026440</td>\n",
       "      <td>4.018076</td>\n",
       "      <td>24.417481</td>\n",
       "      <td>0.329761</td>\n",
       "      <td>2.007017</td>\n",
       "      <td>2.676154</td>\n",
       "      <td>1.042551</td>\n",
       "      <td>0.406028</td>\n",
       "      <td>0.707225</td>\n",
       "      <td>0.292494</td>\n",
       "      <td>0.469427</td>\n",
       "      <td>-0.371296</td>\n",
       "      <td>8.656029</td>\n",
       "      <td>1.299820</td>\n",
       "      <td>-112.321785</td>\n",
       "      <td>2.143398</td>\n",
       "      <td>-182.649694</td>\n",
       "      <td>1.208881</td>\n",
       "      <td>2.007410</td>\n",
       "      <td>5.835635</td>\n",
       "      <td>2.883996</td>\n",
       "      <td>1.028629</td>\n",
       "      <td>1.407601</td>\n",
       "      <td>1.036769</td>\n",
       "      <td>1.728023</td>\n",
       "      <td>1.054199</td>\n",
       "      <td>2.149293</td>\n",
       "      <td>1.956074</td>\n",
       "      <td>-426.517449</td>\n",
       "      <td>1.898928</td>\n",
       "      <td>2.049989</td>\n",
       "      <td>2.417817</td>\n",
       "      <td>2.687802</td>\n",
       "      <td>-480.863626</td>\n",
       "      <td>-577.734427</td>\n",
       "      <td>-321.298899</td>\n",
       "      <td>-704.555241</td>\n",
       "      <td>-143.896009</td>\n",
       "      <td>253.781211</td>\n",
       "      <td>2.102728</td>\n",
       "      <td>1.654794</td>\n",
       "      <td>1.007045</td>\n",
       "      <td>2.890900</td>\n",
       "      <td>2.011283</td>\n",
       "      <td>2.043758</td>\n",
       "      <td>1.770461</td>\n",
       "      <td>-989.519395</td>\n",
       "      <td>2.993488</td>\n",
       "      <td>2.058185</td>\n",
       "      <td>2.771500</td>\n",
       "      <td>2.969659</td>\n",
       "      <td>-719.537807</td>\n",
       "      <td>1.326569</td>\n",
       "      <td>2.977826</td>\n",
       "      <td>1.053497</td>\n",
       "      <td>1.033906</td>\n",
       "      <td>1.985742</td>\n",
       "      <td>1.108398</td>\n",
       "      <td>1.981700</td>\n",
       "      <td>2.525794</td>\n",
       "      <td>-931.742534</td>\n",
       "      <td>1.196475</td>\n",
       "      <td>2.807511</td>\n",
       "      <td>2.980886</td>\n",
       "      <td>1.066380</td>\n",
       "      <td>2.543365</td>\n",
       "      <td>2.040109</td>\n",
       "      <td>2.985433</td>\n",
       "      <td>-981.586365</td>\n",
       "      <td>2.806837</td>\n",
       "      <td>2.688139</td>\n",
       "      <td>1.001768</td>\n",
       "      <td>2.181150</td>\n",
       "      <td>1.937268</td>\n",
       "      <td>1.005108</td>\n",
       "      <td>2.833586</td>\n",
       "      <td>2.969462</td>\n",
       "      <td>1.638290</td>\n",
       "      <td>0.042102</td>\n",
       "      <td>0.008982</td>\n",
       "      <td>0.049371</td>\n",
       "      <td>0.014539</td>\n",
       "      <td>0.008757</td>\n",
       "      <td>0.013023</td>\n",
       "      <td>0.013837</td>\n",
       "      <td>0.010217</td>\n",
       "      <td>0.006905</td>\n",
       "      <td>0.035674</td>\n",
       "      <td>0.059448</td>\n",
       "      <td>0.00929</td>\n",
       "      <td>0.005333</td>\n",
       "      <td>0.007747</td>\n",
       "      <td>0.192461</td>\n",
       "      <td>0.012687</td>\n",
       "      <td>0.008701</td>\n",
       "      <td>0.007382</td>\n",
       "      <td>0.009431</td>\n",
       "      <td>0.008533</td>\n",
       "      <td>0.014427</td>\n",
       "      <td>0.036600</td>\n",
       "      <td>0.096609</td>\n",
       "      <td>0.018918</td>\n",
       "      <td>0.089564</td>\n",
       "      <td>0.013922</td>\n",
       "      <td>0.011564</td>\n",
       "      <td>0.014904</td>\n",
       "      <td>0.011957</td>\n",
       "      <td>0.024756</td>\n",
       "      <td>0.011424</td>\n",
       "      <td>0.020490</td>\n",
       "      <td>0.022735</td>\n",
       "      <td>0.020405</td>\n",
       "      <td>0.006989</td>\n",
       "      <td>0.010975</td>\n",
       "      <td>0.067475</td>\n",
       "      <td>0.006961</td>\n",
       "      <td>0.014090</td>\n",
       "      <td>0.056304</td>\n",
       "      <td>0.009908</td>\n",
       "      <td>0.044740</td>\n",
       "      <td>0.010750</td>\n",
       "      <td>0.007270</td>\n",
       "      <td>0.014090</td>\n",
       "      <td>0.008196</td>\n",
       "      <td>0.019423</td>\n",
       "      <td>0.054031</td>\n",
       "      <td>0.494807</td>\n",
       "      <td>1.947092</td>\n",
       "      <td>0.193981</td>\n",
       "      <td>1.263894</td>\n",
       "    </tr>\n",
       "    <tr>\n",
       "      <th>std</th>\n",
       "      <td>0.160442</td>\n",
       "      <td>3.540282</td>\n",
       "      <td>5.070592</td>\n",
       "      <td>0.282521</td>\n",
       "      <td>0.083474</td>\n",
       "      <td>0.736771</td>\n",
       "      <td>0.288509</td>\n",
       "      <td>0.197423</td>\n",
       "      <td>0.074095</td>\n",
       "      <td>0.088684</td>\n",
       "      <td>0.121750</td>\n",
       "      <td>21.188974</td>\n",
       "      <td>4.258026</td>\n",
       "      <td>0.713977</td>\n",
       "      <td>315.775235</td>\n",
       "      <td>0.350484</td>\n",
       "      <td>386.768009</td>\n",
       "      <td>0.418021</td>\n",
       "      <td>0.085762</td>\n",
       "      <td>2.681603</td>\n",
       "      <td>0.320235</td>\n",
       "      <td>0.237572</td>\n",
       "      <td>0.491395</td>\n",
       "      <td>0.268678</td>\n",
       "      <td>0.444984</td>\n",
       "      <td>0.324708</td>\n",
       "      <td>0.988793</td>\n",
       "      <td>0.945808</td>\n",
       "      <td>494.578811</td>\n",
       "      <td>0.971238</td>\n",
       "      <td>0.755849</td>\n",
       "      <td>0.510049</td>\n",
       "      <td>0.481983</td>\n",
       "      <td>499.887667</td>\n",
       "      <td>494.139871</td>\n",
       "      <td>467.305347</td>\n",
       "      <td>456.405943</td>\n",
       "      <td>360.783259</td>\n",
       "      <td>178.743461</td>\n",
       "      <td>0.303793</td>\n",
       "      <td>0.475442</td>\n",
       "      <td>0.084308</td>\n",
       "      <td>0.454174</td>\n",
       "      <td>0.170482</td>\n",
       "      <td>0.288182</td>\n",
       "      <td>0.420675</td>\n",
       "      <td>109.060532</td>\n",
       "      <td>0.098047</td>\n",
       "      <td>0.234215</td>\n",
       "      <td>0.636216</td>\n",
       "      <td>0.193952</td>\n",
       "      <td>489.103797</td>\n",
       "      <td>0.739241</td>\n",
       "      <td>0.147440</td>\n",
       "      <td>0.225773</td>\n",
       "      <td>0.181454</td>\n",
       "      <td>0.118556</td>\n",
       "      <td>0.311067</td>\n",
       "      <td>0.134037</td>\n",
       "      <td>0.850607</td>\n",
       "      <td>259.625564</td>\n",
       "      <td>0.407314</td>\n",
       "      <td>0.394403</td>\n",
       "      <td>0.194370</td>\n",
       "      <td>0.249175</td>\n",
       "      <td>0.839458</td>\n",
       "      <td>0.196360</td>\n",
       "      <td>0.169985</td>\n",
       "      <td>135.389830</td>\n",
       "      <td>0.590782</td>\n",
       "      <td>0.725531</td>\n",
       "      <td>0.059207</td>\n",
       "      <td>0.413408</td>\n",
       "      <td>0.242714</td>\n",
       "      <td>0.071291</td>\n",
       "      <td>0.552372</td>\n",
       "      <td>0.245130</td>\n",
       "      <td>0.932289</td>\n",
       "      <td>0.200824</td>\n",
       "      <td>0.094347</td>\n",
       "      <td>0.216645</td>\n",
       "      <td>0.119700</td>\n",
       "      <td>0.093170</td>\n",
       "      <td>0.113376</td>\n",
       "      <td>0.116818</td>\n",
       "      <td>0.100561</td>\n",
       "      <td>0.082808</td>\n",
       "      <td>0.185479</td>\n",
       "      <td>0.236464</td>\n",
       "      <td>0.09594</td>\n",
       "      <td>0.072833</td>\n",
       "      <td>0.087675</td>\n",
       "      <td>0.394239</td>\n",
       "      <td>0.111920</td>\n",
       "      <td>0.092874</td>\n",
       "      <td>0.085601</td>\n",
       "      <td>0.096655</td>\n",
       "      <td>0.091979</td>\n",
       "      <td>0.119244</td>\n",
       "      <td>0.187781</td>\n",
       "      <td>0.295429</td>\n",
       "      <td>0.136236</td>\n",
       "      <td>0.285561</td>\n",
       "      <td>0.117167</td>\n",
       "      <td>0.106914</td>\n",
       "      <td>0.121171</td>\n",
       "      <td>0.108693</td>\n",
       "      <td>0.155382</td>\n",
       "      <td>0.106270</td>\n",
       "      <td>0.141669</td>\n",
       "      <td>0.149059</td>\n",
       "      <td>0.141384</td>\n",
       "      <td>0.083308</td>\n",
       "      <td>0.104184</td>\n",
       "      <td>0.250846</td>\n",
       "      <td>0.083142</td>\n",
       "      <td>0.117864</td>\n",
       "      <td>0.230511</td>\n",
       "      <td>0.099046</td>\n",
       "      <td>0.206736</td>\n",
       "      <td>0.103125</td>\n",
       "      <td>0.084952</td>\n",
       "      <td>0.117864</td>\n",
       "      <td>0.090160</td>\n",
       "      <td>0.138008</td>\n",
       "      <td>0.226081</td>\n",
       "      <td>0.814202</td>\n",
       "      <td>1.731745</td>\n",
       "      <td>0.111630</td>\n",
       "      <td>1.470215</td>\n",
       "    </tr>\n",
       "    <tr>\n",
       "      <th>min</th>\n",
       "      <td>1.000000</td>\n",
       "      <td>0.000000</td>\n",
       "      <td>1.000000</td>\n",
       "      <td>0.000000</td>\n",
       "      <td>2.000000</td>\n",
       "      <td>1.000000</td>\n",
       "      <td>1.000000</td>\n",
       "      <td>0.000000</td>\n",
       "      <td>0.090909</td>\n",
       "      <td>0.058577</td>\n",
       "      <td>0.058838</td>\n",
       "      <td>-1000.000000</td>\n",
       "      <td>1.000000</td>\n",
       "      <td>1.000000</td>\n",
       "      <td>-1000.000000</td>\n",
       "      <td>2.000000</td>\n",
       "      <td>-1000.000000</td>\n",
       "      <td>1.000000</td>\n",
       "      <td>2.000000</td>\n",
       "      <td>1.000000</td>\n",
       "      <td>2.000000</td>\n",
       "      <td>1.000000</td>\n",
       "      <td>1.000000</td>\n",
       "      <td>1.000000</td>\n",
       "      <td>1.000000</td>\n",
       "      <td>1.000000</td>\n",
       "      <td>1.000000</td>\n",
       "      <td>1.000000</td>\n",
       "      <td>-1000.000000</td>\n",
       "      <td>1.000000</td>\n",
       "      <td>1.000000</td>\n",
       "      <td>1.000000</td>\n",
       "      <td>1.000000</td>\n",
       "      <td>-1000.000000</td>\n",
       "      <td>-1000.000000</td>\n",
       "      <td>-1000.000000</td>\n",
       "      <td>-1000.000000</td>\n",
       "      <td>-1000.000000</td>\n",
       "      <td>1.000000</td>\n",
       "      <td>1.000000</td>\n",
       "      <td>1.000000</td>\n",
       "      <td>1.000000</td>\n",
       "      <td>1.000000</td>\n",
       "      <td>1.000000</td>\n",
       "      <td>1.000000</td>\n",
       "      <td>1.000000</td>\n",
       "      <td>-1000.000000</td>\n",
       "      <td>1.000000</td>\n",
       "      <td>1.000000</td>\n",
       "      <td>1.000000</td>\n",
       "      <td>1.000000</td>\n",
       "      <td>-1000.000000</td>\n",
       "      <td>1.000000</td>\n",
       "      <td>1.000000</td>\n",
       "      <td>1.000000</td>\n",
       "      <td>1.000000</td>\n",
       "      <td>1.000000</td>\n",
       "      <td>1.000000</td>\n",
       "      <td>1.000000</td>\n",
       "      <td>1.000000</td>\n",
       "      <td>-1000.000000</td>\n",
       "      <td>1.000000</td>\n",
       "      <td>1.000000</td>\n",
       "      <td>1.000000</td>\n",
       "      <td>1.000000</td>\n",
       "      <td>1.000000</td>\n",
       "      <td>1.000000</td>\n",
       "      <td>1.000000</td>\n",
       "      <td>-1000.000000</td>\n",
       "      <td>1.000000</td>\n",
       "      <td>1.000000</td>\n",
       "      <td>1.000000</td>\n",
       "      <td>1.000000</td>\n",
       "      <td>1.000000</td>\n",
       "      <td>1.000000</td>\n",
       "      <td>1.000000</td>\n",
       "      <td>1.000000</td>\n",
       "      <td>1.000000</td>\n",
       "      <td>0.000000</td>\n",
       "      <td>0.000000</td>\n",
       "      <td>0.000000</td>\n",
       "      <td>0.000000</td>\n",
       "      <td>0.000000</td>\n",
       "      <td>0.000000</td>\n",
       "      <td>0.000000</td>\n",
       "      <td>0.000000</td>\n",
       "      <td>0.000000</td>\n",
       "      <td>0.000000</td>\n",
       "      <td>0.000000</td>\n",
       "      <td>0.00000</td>\n",
       "      <td>0.000000</td>\n",
       "      <td>0.000000</td>\n",
       "      <td>0.000000</td>\n",
       "      <td>0.000000</td>\n",
       "      <td>0.000000</td>\n",
       "      <td>0.000000</td>\n",
       "      <td>0.000000</td>\n",
       "      <td>0.000000</td>\n",
       "      <td>0.000000</td>\n",
       "      <td>0.000000</td>\n",
       "      <td>0.000000</td>\n",
       "      <td>0.000000</td>\n",
       "      <td>0.000000</td>\n",
       "      <td>0.000000</td>\n",
       "      <td>0.000000</td>\n",
       "      <td>0.000000</td>\n",
       "      <td>0.000000</td>\n",
       "      <td>0.000000</td>\n",
       "      <td>0.000000</td>\n",
       "      <td>0.000000</td>\n",
       "      <td>0.000000</td>\n",
       "      <td>0.000000</td>\n",
       "      <td>0.000000</td>\n",
       "      <td>0.000000</td>\n",
       "      <td>0.000000</td>\n",
       "      <td>0.000000</td>\n",
       "      <td>0.000000</td>\n",
       "      <td>0.000000</td>\n",
       "      <td>0.000000</td>\n",
       "      <td>0.000000</td>\n",
       "      <td>0.000000</td>\n",
       "      <td>0.000000</td>\n",
       "      <td>0.000000</td>\n",
       "      <td>0.000000</td>\n",
       "      <td>0.000000</td>\n",
       "      <td>0.000000</td>\n",
       "      <td>0.000000</td>\n",
       "      <td>0.000000</td>\n",
       "      <td>0.000000</td>\n",
       "      <td>0.000000</td>\n",
       "    </tr>\n",
       "    <tr>\n",
       "      <th>25%</th>\n",
       "      <td>1.000000</td>\n",
       "      <td>1.000000</td>\n",
       "      <td>26.000000</td>\n",
       "      <td>0.076923</td>\n",
       "      <td>2.000000</td>\n",
       "      <td>3.000000</td>\n",
       "      <td>1.000000</td>\n",
       "      <td>0.238806</td>\n",
       "      <td>0.654545</td>\n",
       "      <td>0.225941</td>\n",
       "      <td>0.386163</td>\n",
       "      <td>0.035000</td>\n",
       "      <td>9.000000</td>\n",
       "      <td>1.000000</td>\n",
       "      <td>0.000000</td>\n",
       "      <td>2.000000</td>\n",
       "      <td>0.000001</td>\n",
       "      <td>1.000000</td>\n",
       "      <td>2.000000</td>\n",
       "      <td>3.000000</td>\n",
       "      <td>3.000000</td>\n",
       "      <td>1.000000</td>\n",
       "      <td>1.000000</td>\n",
       "      <td>1.000000</td>\n",
       "      <td>1.000000</td>\n",
       "      <td>1.000000</td>\n",
       "      <td>1.000000</td>\n",
       "      <td>1.000000</td>\n",
       "      <td>-1000.000000</td>\n",
       "      <td>1.000000</td>\n",
       "      <td>1.000000</td>\n",
       "      <td>2.000000</td>\n",
       "      <td>2.000000</td>\n",
       "      <td>-1000.000000</td>\n",
       "      <td>-1000.000000</td>\n",
       "      <td>-1000.000000</td>\n",
       "      <td>-1000.000000</td>\n",
       "      <td>1.000000</td>\n",
       "      <td>112.000000</td>\n",
       "      <td>2.000000</td>\n",
       "      <td>1.000000</td>\n",
       "      <td>1.000000</td>\n",
       "      <td>3.000000</td>\n",
       "      <td>2.000000</td>\n",
       "      <td>2.000000</td>\n",
       "      <td>2.000000</td>\n",
       "      <td>-1000.000000</td>\n",
       "      <td>3.000000</td>\n",
       "      <td>2.000000</td>\n",
       "      <td>3.000000</td>\n",
       "      <td>3.000000</td>\n",
       "      <td>-1000.000000</td>\n",
       "      <td>1.000000</td>\n",
       "      <td>3.000000</td>\n",
       "      <td>1.000000</td>\n",
       "      <td>1.000000</td>\n",
       "      <td>2.000000</td>\n",
       "      <td>1.000000</td>\n",
       "      <td>2.000000</td>\n",
       "      <td>3.000000</td>\n",
       "      <td>-1000.000000</td>\n",
       "      <td>1.000000</td>\n",
       "      <td>3.000000</td>\n",
       "      <td>3.000000</td>\n",
       "      <td>1.000000</td>\n",
       "      <td>3.000000</td>\n",
       "      <td>2.000000</td>\n",
       "      <td>3.000000</td>\n",
       "      <td>-1000.000000</td>\n",
       "      <td>3.000000</td>\n",
       "      <td>3.000000</td>\n",
       "      <td>1.000000</td>\n",
       "      <td>2.000000</td>\n",
       "      <td>2.000000</td>\n",
       "      <td>1.000000</td>\n",
       "      <td>3.000000</td>\n",
       "      <td>3.000000</td>\n",
       "      <td>1.000000</td>\n",
       "      <td>0.000000</td>\n",
       "      <td>0.000000</td>\n",
       "      <td>0.000000</td>\n",
       "      <td>0.000000</td>\n",
       "      <td>0.000000</td>\n",
       "      <td>0.000000</td>\n",
       "      <td>0.000000</td>\n",
       "      <td>0.000000</td>\n",
       "      <td>0.000000</td>\n",
       "      <td>0.000000</td>\n",
       "      <td>0.000000</td>\n",
       "      <td>0.00000</td>\n",
       "      <td>0.000000</td>\n",
       "      <td>0.000000</td>\n",
       "      <td>0.000000</td>\n",
       "      <td>0.000000</td>\n",
       "      <td>0.000000</td>\n",
       "      <td>0.000000</td>\n",
       "      <td>0.000000</td>\n",
       "      <td>0.000000</td>\n",
       "      <td>0.000000</td>\n",
       "      <td>0.000000</td>\n",
       "      <td>0.000000</td>\n",
       "      <td>0.000000</td>\n",
       "      <td>0.000000</td>\n",
       "      <td>0.000000</td>\n",
       "      <td>0.000000</td>\n",
       "      <td>0.000000</td>\n",
       "      <td>0.000000</td>\n",
       "      <td>0.000000</td>\n",
       "      <td>0.000000</td>\n",
       "      <td>0.000000</td>\n",
       "      <td>0.000000</td>\n",
       "      <td>0.000000</td>\n",
       "      <td>0.000000</td>\n",
       "      <td>0.000000</td>\n",
       "      <td>0.000000</td>\n",
       "      <td>0.000000</td>\n",
       "      <td>0.000000</td>\n",
       "      <td>0.000000</td>\n",
       "      <td>0.000000</td>\n",
       "      <td>0.000000</td>\n",
       "      <td>0.000000</td>\n",
       "      <td>0.000000</td>\n",
       "      <td>0.000000</td>\n",
       "      <td>0.000000</td>\n",
       "      <td>0.000000</td>\n",
       "      <td>0.000000</td>\n",
       "      <td>0.000000</td>\n",
       "      <td>0.000000</td>\n",
       "      <td>0.104500</td>\n",
       "      <td>0.000000</td>\n",
       "    </tr>\n",
       "    <tr>\n",
       "      <th>50%</th>\n",
       "      <td>1.000000</td>\n",
       "      <td>3.000000</td>\n",
       "      <td>26.000000</td>\n",
       "      <td>0.230769</td>\n",
       "      <td>2.000000</td>\n",
       "      <td>3.000000</td>\n",
       "      <td>1.000000</td>\n",
       "      <td>0.402985</td>\n",
       "      <td>0.709091</td>\n",
       "      <td>0.288703</td>\n",
       "      <td>0.452515</td>\n",
       "      <td>0.060000</td>\n",
       "      <td>9.000000</td>\n",
       "      <td>1.000000</td>\n",
       "      <td>0.000000</td>\n",
       "      <td>2.000000</td>\n",
       "      <td>0.150000</td>\n",
       "      <td>1.000000</td>\n",
       "      <td>2.000000</td>\n",
       "      <td>6.000000</td>\n",
       "      <td>3.000000</td>\n",
       "      <td>1.000000</td>\n",
       "      <td>1.000000</td>\n",
       "      <td>1.000000</td>\n",
       "      <td>2.000000</td>\n",
       "      <td>1.000000</td>\n",
       "      <td>3.000000</td>\n",
       "      <td>2.000000</td>\n",
       "      <td>0.000173</td>\n",
       "      <td>1.000000</td>\n",
       "      <td>2.000000</td>\n",
       "      <td>2.000000</td>\n",
       "      <td>3.000000</td>\n",
       "      <td>0.217391</td>\n",
       "      <td>-1000.000000</td>\n",
       "      <td>0.323944</td>\n",
       "      <td>-1000.000000</td>\n",
       "      <td>3.000000</td>\n",
       "      <td>162.000000</td>\n",
       "      <td>2.000000</td>\n",
       "      <td>2.000000</td>\n",
       "      <td>1.000000</td>\n",
       "      <td>3.000000</td>\n",
       "      <td>2.000000</td>\n",
       "      <td>2.000000</td>\n",
       "      <td>2.000000</td>\n",
       "      <td>-1000.000000</td>\n",
       "      <td>3.000000</td>\n",
       "      <td>2.000000</td>\n",
       "      <td>3.000000</td>\n",
       "      <td>3.000000</td>\n",
       "      <td>-1000.000000</td>\n",
       "      <td>1.000000</td>\n",
       "      <td>3.000000</td>\n",
       "      <td>1.000000</td>\n",
       "      <td>1.000000</td>\n",
       "      <td>2.000000</td>\n",
       "      <td>1.000000</td>\n",
       "      <td>2.000000</td>\n",
       "      <td>3.000000</td>\n",
       "      <td>-1000.000000</td>\n",
       "      <td>1.000000</td>\n",
       "      <td>3.000000</td>\n",
       "      <td>3.000000</td>\n",
       "      <td>1.000000</td>\n",
       "      <td>3.000000</td>\n",
       "      <td>2.000000</td>\n",
       "      <td>3.000000</td>\n",
       "      <td>-1000.000000</td>\n",
       "      <td>3.000000</td>\n",
       "      <td>3.000000</td>\n",
       "      <td>1.000000</td>\n",
       "      <td>2.000000</td>\n",
       "      <td>2.000000</td>\n",
       "      <td>1.000000</td>\n",
       "      <td>3.000000</td>\n",
       "      <td>3.000000</td>\n",
       "      <td>1.000000</td>\n",
       "      <td>0.000000</td>\n",
       "      <td>0.000000</td>\n",
       "      <td>0.000000</td>\n",
       "      <td>0.000000</td>\n",
       "      <td>0.000000</td>\n",
       "      <td>0.000000</td>\n",
       "      <td>0.000000</td>\n",
       "      <td>0.000000</td>\n",
       "      <td>0.000000</td>\n",
       "      <td>0.000000</td>\n",
       "      <td>0.000000</td>\n",
       "      <td>0.00000</td>\n",
       "      <td>0.000000</td>\n",
       "      <td>0.000000</td>\n",
       "      <td>0.000000</td>\n",
       "      <td>0.000000</td>\n",
       "      <td>0.000000</td>\n",
       "      <td>0.000000</td>\n",
       "      <td>0.000000</td>\n",
       "      <td>0.000000</td>\n",
       "      <td>0.000000</td>\n",
       "      <td>0.000000</td>\n",
       "      <td>0.000000</td>\n",
       "      <td>0.000000</td>\n",
       "      <td>0.000000</td>\n",
       "      <td>0.000000</td>\n",
       "      <td>0.000000</td>\n",
       "      <td>0.000000</td>\n",
       "      <td>0.000000</td>\n",
       "      <td>0.000000</td>\n",
       "      <td>0.000000</td>\n",
       "      <td>0.000000</td>\n",
       "      <td>0.000000</td>\n",
       "      <td>0.000000</td>\n",
       "      <td>0.000000</td>\n",
       "      <td>0.000000</td>\n",
       "      <td>0.000000</td>\n",
       "      <td>0.000000</td>\n",
       "      <td>0.000000</td>\n",
       "      <td>0.000000</td>\n",
       "      <td>0.000000</td>\n",
       "      <td>0.000000</td>\n",
       "      <td>0.000000</td>\n",
       "      <td>0.000000</td>\n",
       "      <td>0.000000</td>\n",
       "      <td>0.000000</td>\n",
       "      <td>0.000000</td>\n",
       "      <td>0.000000</td>\n",
       "      <td>0.000000</td>\n",
       "      <td>2.000000</td>\n",
       "      <td>0.184018</td>\n",
       "      <td>1.000000</td>\n",
       "    </tr>\n",
       "    <tr>\n",
       "      <th>75%</th>\n",
       "      <td>1.000000</td>\n",
       "      <td>6.000000</td>\n",
       "      <td>26.000000</td>\n",
       "      <td>0.487179</td>\n",
       "      <td>2.000000</td>\n",
       "      <td>3.000000</td>\n",
       "      <td>1.000000</td>\n",
       "      <td>0.567164</td>\n",
       "      <td>0.763636</td>\n",
       "      <td>0.345188</td>\n",
       "      <td>0.532858</td>\n",
       "      <td>0.098010</td>\n",
       "      <td>9.000000</td>\n",
       "      <td>1.000000</td>\n",
       "      <td>0.000000</td>\n",
       "      <td>2.000000</td>\n",
       "      <td>0.500000</td>\n",
       "      <td>1.000000</td>\n",
       "      <td>2.000000</td>\n",
       "      <td>8.000000</td>\n",
       "      <td>3.000000</td>\n",
       "      <td>1.000000</td>\n",
       "      <td>2.000000</td>\n",
       "      <td>1.000000</td>\n",
       "      <td>2.000000</td>\n",
       "      <td>1.000000</td>\n",
       "      <td>3.000000</td>\n",
       "      <td>3.000000</td>\n",
       "      <td>0.001333</td>\n",
       "      <td>3.000000</td>\n",
       "      <td>3.000000</td>\n",
       "      <td>3.000000</td>\n",
       "      <td>3.000000</td>\n",
       "      <td>0.463768</td>\n",
       "      <td>0.480392</td>\n",
       "      <td>0.492958</td>\n",
       "      <td>0.348214</td>\n",
       "      <td>8.000000</td>\n",
       "      <td>417.000000</td>\n",
       "      <td>2.000000</td>\n",
       "      <td>2.000000</td>\n",
       "      <td>1.000000</td>\n",
       "      <td>3.000000</td>\n",
       "      <td>2.000000</td>\n",
       "      <td>2.000000</td>\n",
       "      <td>2.000000</td>\n",
       "      <td>-1000.000000</td>\n",
       "      <td>3.000000</td>\n",
       "      <td>2.000000</td>\n",
       "      <td>3.000000</td>\n",
       "      <td>3.000000</td>\n",
       "      <td>-1000.000000</td>\n",
       "      <td>1.000000</td>\n",
       "      <td>3.000000</td>\n",
       "      <td>1.000000</td>\n",
       "      <td>1.000000</td>\n",
       "      <td>2.000000</td>\n",
       "      <td>1.000000</td>\n",
       "      <td>2.000000</td>\n",
       "      <td>3.000000</td>\n",
       "      <td>-1000.000000</td>\n",
       "      <td>1.000000</td>\n",
       "      <td>3.000000</td>\n",
       "      <td>3.000000</td>\n",
       "      <td>1.000000</td>\n",
       "      <td>3.000000</td>\n",
       "      <td>2.000000</td>\n",
       "      <td>3.000000</td>\n",
       "      <td>-1000.000000</td>\n",
       "      <td>3.000000</td>\n",
       "      <td>3.000000</td>\n",
       "      <td>1.000000</td>\n",
       "      <td>2.000000</td>\n",
       "      <td>2.000000</td>\n",
       "      <td>1.000000</td>\n",
       "      <td>3.000000</td>\n",
       "      <td>3.000000</td>\n",
       "      <td>3.000000</td>\n",
       "      <td>0.000000</td>\n",
       "      <td>0.000000</td>\n",
       "      <td>0.000000</td>\n",
       "      <td>0.000000</td>\n",
       "      <td>0.000000</td>\n",
       "      <td>0.000000</td>\n",
       "      <td>0.000000</td>\n",
       "      <td>0.000000</td>\n",
       "      <td>0.000000</td>\n",
       "      <td>0.000000</td>\n",
       "      <td>0.000000</td>\n",
       "      <td>0.00000</td>\n",
       "      <td>0.000000</td>\n",
       "      <td>0.000000</td>\n",
       "      <td>0.000000</td>\n",
       "      <td>0.000000</td>\n",
       "      <td>0.000000</td>\n",
       "      <td>0.000000</td>\n",
       "      <td>0.000000</td>\n",
       "      <td>0.000000</td>\n",
       "      <td>0.000000</td>\n",
       "      <td>0.000000</td>\n",
       "      <td>0.000000</td>\n",
       "      <td>0.000000</td>\n",
       "      <td>0.000000</td>\n",
       "      <td>0.000000</td>\n",
       "      <td>0.000000</td>\n",
       "      <td>0.000000</td>\n",
       "      <td>0.000000</td>\n",
       "      <td>0.000000</td>\n",
       "      <td>0.000000</td>\n",
       "      <td>0.000000</td>\n",
       "      <td>0.000000</td>\n",
       "      <td>0.000000</td>\n",
       "      <td>0.000000</td>\n",
       "      <td>0.000000</td>\n",
       "      <td>0.000000</td>\n",
       "      <td>0.000000</td>\n",
       "      <td>0.000000</td>\n",
       "      <td>0.000000</td>\n",
       "      <td>0.000000</td>\n",
       "      <td>0.000000</td>\n",
       "      <td>0.000000</td>\n",
       "      <td>0.000000</td>\n",
       "      <td>0.000000</td>\n",
       "      <td>0.000000</td>\n",
       "      <td>0.000000</td>\n",
       "      <td>0.000000</td>\n",
       "      <td>1.000000</td>\n",
       "      <td>3.000000</td>\n",
       "      <td>0.267861</td>\n",
       "      <td>2.000000</td>\n",
       "    </tr>\n",
       "    <tr>\n",
       "      <th>max</th>\n",
       "      <td>2.000000</td>\n",
       "      <td>18.000000</td>\n",
       "      <td>38.000000</td>\n",
       "      <td>1.000000</td>\n",
       "      <td>3.000000</td>\n",
       "      <td>3.000000</td>\n",
       "      <td>3.000000</td>\n",
       "      <td>1.000000</td>\n",
       "      <td>1.000000</td>\n",
       "      <td>1.000000</td>\n",
       "      <td>1.000000</td>\n",
       "      <td>1.000000</td>\n",
       "      <td>38.000000</td>\n",
       "      <td>3.000000</td>\n",
       "      <td>1.000000</td>\n",
       "      <td>3.000000</td>\n",
       "      <td>1.000000</td>\n",
       "      <td>3.000000</td>\n",
       "      <td>3.000000</td>\n",
       "      <td>11.000000</td>\n",
       "      <td>3.000000</td>\n",
       "      <td>3.000000</td>\n",
       "      <td>2.000000</td>\n",
       "      <td>3.000000</td>\n",
       "      <td>2.000000</td>\n",
       "      <td>3.000000</td>\n",
       "      <td>3.000000</td>\n",
       "      <td>3.000000</td>\n",
       "      <td>1.000000</td>\n",
       "      <td>3.000000</td>\n",
       "      <td>3.000000</td>\n",
       "      <td>3.000000</td>\n",
       "      <td>3.000000</td>\n",
       "      <td>1.000000</td>\n",
       "      <td>1.000000</td>\n",
       "      <td>0.943662</td>\n",
       "      <td>1.000000</td>\n",
       "      <td>240.000000</td>\n",
       "      <td>647.000000</td>\n",
       "      <td>3.000000</td>\n",
       "      <td>2.000000</td>\n",
       "      <td>3.000000</td>\n",
       "      <td>3.000000</td>\n",
       "      <td>3.000000</td>\n",
       "      <td>3.000000</td>\n",
       "      <td>3.000000</td>\n",
       "      <td>240.000000</td>\n",
       "      <td>3.000000</td>\n",
       "      <td>3.000000</td>\n",
       "      <td>3.000000</td>\n",
       "      <td>3.000000</td>\n",
       "      <td>240.000000</td>\n",
       "      <td>3.000000</td>\n",
       "      <td>3.000000</td>\n",
       "      <td>3.000000</td>\n",
       "      <td>3.000000</td>\n",
       "      <td>2.000000</td>\n",
       "      <td>3.000000</td>\n",
       "      <td>2.000000</td>\n",
       "      <td>3.000000</td>\n",
       "      <td>240.000000</td>\n",
       "      <td>3.000000</td>\n",
       "      <td>3.000000</td>\n",
       "      <td>3.000000</td>\n",
       "      <td>3.000000</td>\n",
       "      <td>3.000000</td>\n",
       "      <td>3.000000</td>\n",
       "      <td>3.000000</td>\n",
       "      <td>240.000000</td>\n",
       "      <td>3.000000</td>\n",
       "      <td>3.000000</td>\n",
       "      <td>3.000000</td>\n",
       "      <td>3.000000</td>\n",
       "      <td>3.000000</td>\n",
       "      <td>2.000000</td>\n",
       "      <td>3.000000</td>\n",
       "      <td>3.000000</td>\n",
       "      <td>3.000000</td>\n",
       "      <td>1.000000</td>\n",
       "      <td>1.000000</td>\n",
       "      <td>1.000000</td>\n",
       "      <td>1.000000</td>\n",
       "      <td>1.000000</td>\n",
       "      <td>1.000000</td>\n",
       "      <td>1.000000</td>\n",
       "      <td>1.000000</td>\n",
       "      <td>1.000000</td>\n",
       "      <td>1.000000</td>\n",
       "      <td>1.000000</td>\n",
       "      <td>1.00000</td>\n",
       "      <td>1.000000</td>\n",
       "      <td>1.000000</td>\n",
       "      <td>1.000000</td>\n",
       "      <td>1.000000</td>\n",
       "      <td>1.000000</td>\n",
       "      <td>1.000000</td>\n",
       "      <td>1.000000</td>\n",
       "      <td>1.000000</td>\n",
       "      <td>1.000000</td>\n",
       "      <td>1.000000</td>\n",
       "      <td>1.000000</td>\n",
       "      <td>1.000000</td>\n",
       "      <td>1.000000</td>\n",
       "      <td>1.000000</td>\n",
       "      <td>1.000000</td>\n",
       "      <td>1.000000</td>\n",
       "      <td>1.000000</td>\n",
       "      <td>1.000000</td>\n",
       "      <td>1.000000</td>\n",
       "      <td>1.000000</td>\n",
       "      <td>1.000000</td>\n",
       "      <td>1.000000</td>\n",
       "      <td>1.000000</td>\n",
       "      <td>1.000000</td>\n",
       "      <td>1.000000</td>\n",
       "      <td>1.000000</td>\n",
       "      <td>1.000000</td>\n",
       "      <td>1.000000</td>\n",
       "      <td>1.000000</td>\n",
       "      <td>1.000000</td>\n",
       "      <td>1.000000</td>\n",
       "      <td>1.000000</td>\n",
       "      <td>1.000000</td>\n",
       "      <td>1.000000</td>\n",
       "      <td>1.000000</td>\n",
       "      <td>1.000000</td>\n",
       "      <td>4.000000</td>\n",
       "      <td>7.000000</td>\n",
       "      <td>0.805970</td>\n",
       "      <td>14.000000</td>\n",
       "    </tr>\n",
       "  </tbody>\n",
       "</table>\n",
       "</div>"
      ],
      "text/plain": [
       "       Product_Info_1  Product_Info_2  Product_Info_3  Product_Info_4  \\\n",
       "count    35628.000000    35628.000000    35628.000000    35628.000000   \n",
       "mean         1.026440        4.018076       24.417481        0.329761   \n",
       "std          0.160442        3.540282        5.070592        0.282521   \n",
       "min          1.000000        0.000000        1.000000        0.000000   \n",
       "25%          1.000000        1.000000       26.000000        0.076923   \n",
       "50%          1.000000        3.000000       26.000000        0.230769   \n",
       "75%          1.000000        6.000000       26.000000        0.487179   \n",
       "max          2.000000       18.000000       38.000000        1.000000   \n",
       "\n",
       "       Product_Info_5  Product_Info_6  Product_Info_7       Ins_Age  \\\n",
       "count    35628.000000    35628.000000    35628.000000  35628.000000   \n",
       "mean         2.007017        2.676154        1.042551      0.406028   \n",
       "std          0.083474        0.736771        0.288509      0.197423   \n",
       "min          2.000000        1.000000        1.000000      0.000000   \n",
       "25%          2.000000        3.000000        1.000000      0.238806   \n",
       "50%          2.000000        3.000000        1.000000      0.402985   \n",
       "75%          2.000000        3.000000        1.000000      0.567164   \n",
       "max          3.000000        3.000000        3.000000      1.000000   \n",
       "\n",
       "                 Ht            Wt           BMI  Employment_Info_1  \\\n",
       "count  35628.000000  35628.000000  35628.000000       35628.000000   \n",
       "mean       0.707225      0.292494      0.469427          -0.371296   \n",
       "std        0.074095      0.088684      0.121750          21.188974   \n",
       "min        0.090909      0.058577      0.058838       -1000.000000   \n",
       "25%        0.654545      0.225941      0.386163           0.035000   \n",
       "50%        0.709091      0.288703      0.452515           0.060000   \n",
       "75%        0.763636      0.345188      0.532858           0.098010   \n",
       "max        1.000000      1.000000      1.000000           1.000000   \n",
       "\n",
       "       Employment_Info_2  Employment_Info_3  Employment_Info_4  \\\n",
       "count       35628.000000       35628.000000       35628.000000   \n",
       "mean            8.656029           1.299820        -112.321785   \n",
       "std             4.258026           0.713977         315.775235   \n",
       "min             1.000000           1.000000       -1000.000000   \n",
       "25%             9.000000           1.000000           0.000000   \n",
       "50%             9.000000           1.000000           0.000000   \n",
       "75%             9.000000           1.000000           0.000000   \n",
       "max            38.000000           3.000000           1.000000   \n",
       "\n",
       "       Employment_Info_5  Employment_Info_6  InsuredInfo_1  InsuredInfo_2  \\\n",
       "count       35628.000000       35628.000000   35628.000000   35628.000000   \n",
       "mean            2.143398        -182.649694       1.208881       2.007410   \n",
       "std             0.350484         386.768009       0.418021       0.085762   \n",
       "min             2.000000       -1000.000000       1.000000       2.000000   \n",
       "25%             2.000000           0.000001       1.000000       2.000000   \n",
       "50%             2.000000           0.150000       1.000000       2.000000   \n",
       "75%             2.000000           0.500000       1.000000       2.000000   \n",
       "max             3.000000           1.000000       3.000000       3.000000   \n",
       "\n",
       "       InsuredInfo_3  InsuredInfo_4  InsuredInfo_5  InsuredInfo_6  \\\n",
       "count   35628.000000   35628.000000   35628.000000   35628.000000   \n",
       "mean        5.835635       2.883996       1.028629       1.407601   \n",
       "std         2.681603       0.320235       0.237572       0.491395   \n",
       "min         1.000000       2.000000       1.000000       1.000000   \n",
       "25%         3.000000       3.000000       1.000000       1.000000   \n",
       "50%         6.000000       3.000000       1.000000       1.000000   \n",
       "75%         8.000000       3.000000       1.000000       2.000000   \n",
       "max        11.000000       3.000000       3.000000       2.000000   \n",
       "\n",
       "       InsuredInfo_7  Insurance_History_1  Insurance_History_2  \\\n",
       "count   35628.000000         35628.000000         35628.000000   \n",
       "mean        1.036769             1.728023             1.054199   \n",
       "std         0.268678             0.444984             0.324708   \n",
       "min         1.000000             1.000000             1.000000   \n",
       "25%         1.000000             1.000000             1.000000   \n",
       "50%         1.000000             2.000000             1.000000   \n",
       "75%         1.000000             2.000000             1.000000   \n",
       "max         3.000000             2.000000             3.000000   \n",
       "\n",
       "       Insurance_History_3  Insurance_History_4  Insurance_History_5  \\\n",
       "count         35628.000000         35628.000000         35628.000000   \n",
       "mean              2.149293             1.956074          -426.517449   \n",
       "std               0.988793             0.945808           494.578811   \n",
       "min               1.000000             1.000000         -1000.000000   \n",
       "25%               1.000000             1.000000         -1000.000000   \n",
       "50%               3.000000             2.000000             0.000173   \n",
       "75%               3.000000             3.000000             0.001333   \n",
       "max               3.000000             3.000000             1.000000   \n",
       "\n",
       "       Insurance_History_7  Insurance_History_8  Insurance_History_9  \\\n",
       "count         35628.000000         35628.000000         35628.000000   \n",
       "mean              1.898928             2.049989             2.417817   \n",
       "std               0.971238             0.755849             0.510049   \n",
       "min               1.000000             1.000000             1.000000   \n",
       "25%               1.000000             1.000000             2.000000   \n",
       "50%               1.000000             2.000000             2.000000   \n",
       "75%               3.000000             3.000000             3.000000   \n",
       "max               3.000000             3.000000             3.000000   \n",
       "\n",
       "       Family_Hist_1  Family_Hist_2  Family_Hist_3  Family_Hist_4  \\\n",
       "count   35628.000000   35628.000000   35628.000000   35628.000000   \n",
       "mean        2.687802    -480.863626    -577.734427    -321.298899   \n",
       "std         0.481983     499.887667     494.139871     467.305347   \n",
       "min         1.000000   -1000.000000   -1000.000000   -1000.000000   \n",
       "25%         2.000000   -1000.000000   -1000.000000   -1000.000000   \n",
       "50%         3.000000       0.217391   -1000.000000       0.323944   \n",
       "75%         3.000000       0.463768       0.480392       0.492958   \n",
       "max         3.000000       1.000000       1.000000       0.943662   \n",
       "\n",
       "       Family_Hist_5  Medical_History_1  Medical_History_2  Medical_History_3  \\\n",
       "count   35628.000000       35628.000000       35628.000000       35628.000000   \n",
       "mean     -704.555241        -143.896009         253.781211           2.102728   \n",
       "std       456.405943         360.783259         178.743461           0.303793   \n",
       "min     -1000.000000       -1000.000000           1.000000           1.000000   \n",
       "25%     -1000.000000           1.000000         112.000000           2.000000   \n",
       "50%     -1000.000000           3.000000         162.000000           2.000000   \n",
       "75%         0.348214           8.000000         417.000000           2.000000   \n",
       "max         1.000000         240.000000         647.000000           3.000000   \n",
       "\n",
       "       Medical_History_4  Medical_History_5  Medical_History_6  \\\n",
       "count       35628.000000       35628.000000       35628.000000   \n",
       "mean            1.654794           1.007045           2.890900   \n",
       "std             0.475442           0.084308           0.454174   \n",
       "min             1.000000           1.000000           1.000000   \n",
       "25%             1.000000           1.000000           3.000000   \n",
       "50%             2.000000           1.000000           3.000000   \n",
       "75%             2.000000           1.000000           3.000000   \n",
       "max             2.000000           3.000000           3.000000   \n",
       "\n",
       "       Medical_History_7  Medical_History_8  Medical_History_9  \\\n",
       "count       35628.000000       35628.000000       35628.000000   \n",
       "mean            2.011283           2.043758           1.770461   \n",
       "std             0.170482           0.288182           0.420675   \n",
       "min             1.000000           1.000000           1.000000   \n",
       "25%             2.000000           2.000000           2.000000   \n",
       "50%             2.000000           2.000000           2.000000   \n",
       "75%             2.000000           2.000000           2.000000   \n",
       "max             3.000000           3.000000           3.000000   \n",
       "\n",
       "       Medical_History_10  Medical_History_11  Medical_History_12  \\\n",
       "count        35628.000000        35628.000000        35628.000000   \n",
       "mean          -989.519395            2.993488            2.058185   \n",
       "std            109.060532            0.098047            0.234215   \n",
       "min          -1000.000000            1.000000            1.000000   \n",
       "25%          -1000.000000            3.000000            2.000000   \n",
       "50%          -1000.000000            3.000000            2.000000   \n",
       "75%          -1000.000000            3.000000            2.000000   \n",
       "max            240.000000            3.000000            3.000000   \n",
       "\n",
       "       Medical_History_13  Medical_History_14  Medical_History_15  \\\n",
       "count        35628.000000        35628.000000        35628.000000   \n",
       "mean             2.771500            2.969659         -719.537807   \n",
       "std              0.636216            0.193952          489.103797   \n",
       "min              1.000000            1.000000        -1000.000000   \n",
       "25%              3.000000            3.000000        -1000.000000   \n",
       "50%              3.000000            3.000000        -1000.000000   \n",
       "75%              3.000000            3.000000        -1000.000000   \n",
       "max              3.000000            3.000000          240.000000   \n",
       "\n",
       "       Medical_History_16  Medical_History_17  Medical_History_18  \\\n",
       "count        35628.000000        35628.000000        35628.000000   \n",
       "mean             1.326569            2.977826            1.053497   \n",
       "std              0.739241            0.147440            0.225773   \n",
       "min              1.000000            1.000000            1.000000   \n",
       "25%              1.000000            3.000000            1.000000   \n",
       "50%              1.000000            3.000000            1.000000   \n",
       "75%              1.000000            3.000000            1.000000   \n",
       "max              3.000000            3.000000            3.000000   \n",
       "\n",
       "       Medical_History_19  Medical_History_20  Medical_History_21  \\\n",
       "count        35628.000000        35628.000000        35628.000000   \n",
       "mean             1.033906            1.985742            1.108398   \n",
       "std              0.181454            0.118556            0.311067   \n",
       "min              1.000000            1.000000            1.000000   \n",
       "25%              1.000000            2.000000            1.000000   \n",
       "50%              1.000000            2.000000            1.000000   \n",
       "75%              1.000000            2.000000            1.000000   \n",
       "max              3.000000            2.000000            3.000000   \n",
       "\n",
       "       Medical_History_22  Medical_History_23  Medical_History_24  \\\n",
       "count        35628.000000        35628.000000        35628.000000   \n",
       "mean             1.981700            2.525794         -931.742534   \n",
       "std              0.134037            0.850607          259.625564   \n",
       "min              1.000000            1.000000        -1000.000000   \n",
       "25%              2.000000            3.000000        -1000.000000   \n",
       "50%              2.000000            3.000000        -1000.000000   \n",
       "75%              2.000000            3.000000        -1000.000000   \n",
       "max              2.000000            3.000000          240.000000   \n",
       "\n",
       "       Medical_History_25  Medical_History_26  Medical_History_27  \\\n",
       "count        35628.000000        35628.000000        35628.000000   \n",
       "mean             1.196475            2.807511            2.980886   \n",
       "std              0.407314            0.394403            0.194370   \n",
       "min              1.000000            1.000000            1.000000   \n",
       "25%              1.000000            3.000000            3.000000   \n",
       "50%              1.000000            3.000000            3.000000   \n",
       "75%              1.000000            3.000000            3.000000   \n",
       "max              3.000000            3.000000            3.000000   \n",
       "\n",
       "       Medical_History_28  Medical_History_29  Medical_History_30  \\\n",
       "count        35628.000000        35628.000000        35628.000000   \n",
       "mean             1.066380            2.543365            2.040109   \n",
       "std              0.249175            0.839458            0.196360   \n",
       "min              1.000000            1.000000            1.000000   \n",
       "25%              1.000000            3.000000            2.000000   \n",
       "50%              1.000000            3.000000            2.000000   \n",
       "75%              1.000000            3.000000            2.000000   \n",
       "max              3.000000            3.000000            3.000000   \n",
       "\n",
       "       Medical_History_31  Medical_History_32  Medical_History_33  \\\n",
       "count        35628.000000        35628.000000        35628.000000   \n",
       "mean             2.985433         -981.586365            2.806837   \n",
       "std              0.169985          135.389830            0.590782   \n",
       "min              1.000000        -1000.000000            1.000000   \n",
       "25%              3.000000        -1000.000000            3.000000   \n",
       "50%              3.000000        -1000.000000            3.000000   \n",
       "75%              3.000000        -1000.000000            3.000000   \n",
       "max              3.000000          240.000000            3.000000   \n",
       "\n",
       "       Medical_History_34  Medical_History_35  Medical_History_36  \\\n",
       "count        35628.000000        35628.000000        35628.000000   \n",
       "mean             2.688139            1.001768            2.181150   \n",
       "std              0.725531            0.059207            0.413408   \n",
       "min              1.000000            1.000000            1.000000   \n",
       "25%              3.000000            1.000000            2.000000   \n",
       "50%              3.000000            1.000000            2.000000   \n",
       "75%              3.000000            1.000000            2.000000   \n",
       "max              3.000000            3.000000            3.000000   \n",
       "\n",
       "       Medical_History_37  Medical_History_38  Medical_History_39  \\\n",
       "count        35628.000000        35628.000000        35628.000000   \n",
       "mean             1.937268            1.005108            2.833586   \n",
       "std              0.242714            0.071291            0.552372   \n",
       "min              1.000000            1.000000            1.000000   \n",
       "25%              2.000000            1.000000            3.000000   \n",
       "50%              2.000000            1.000000            3.000000   \n",
       "75%              2.000000            1.000000            3.000000   \n",
       "max              3.000000            2.000000            3.000000   \n",
       "\n",
       "       Medical_History_40  Medical_History_41  Medical_Keyword_1  \\\n",
       "count        35628.000000        35628.000000       35628.000000   \n",
       "mean             2.969462            1.638290           0.042102   \n",
       "std              0.245130            0.932289           0.200824   \n",
       "min              1.000000            1.000000           0.000000   \n",
       "25%              3.000000            1.000000           0.000000   \n",
       "50%              3.000000            1.000000           0.000000   \n",
       "75%              3.000000            3.000000           0.000000   \n",
       "max              3.000000            3.000000           1.000000   \n",
       "\n",
       "       Medical_Keyword_2  Medical_Keyword_3  Medical_Keyword_4  \\\n",
       "count       35628.000000       35628.000000       35628.000000   \n",
       "mean            0.008982           0.049371           0.014539   \n",
       "std             0.094347           0.216645           0.119700   \n",
       "min             0.000000           0.000000           0.000000   \n",
       "25%             0.000000           0.000000           0.000000   \n",
       "50%             0.000000           0.000000           0.000000   \n",
       "75%             0.000000           0.000000           0.000000   \n",
       "max             1.000000           1.000000           1.000000   \n",
       "\n",
       "       Medical_Keyword_5  Medical_Keyword_6  Medical_Keyword_7  \\\n",
       "count       35628.000000       35628.000000       35628.000000   \n",
       "mean            0.008757           0.013023           0.013837   \n",
       "std             0.093170           0.113376           0.116818   \n",
       "min             0.000000           0.000000           0.000000   \n",
       "25%             0.000000           0.000000           0.000000   \n",
       "50%             0.000000           0.000000           0.000000   \n",
       "75%             0.000000           0.000000           0.000000   \n",
       "max             1.000000           1.000000           1.000000   \n",
       "\n",
       "       Medical_Keyword_8  Medical_Keyword_9  Medical_Keyword_10  \\\n",
       "count       35628.000000       35628.000000        35628.000000   \n",
       "mean            0.010217           0.006905            0.035674   \n",
       "std             0.100561           0.082808            0.185479   \n",
       "min             0.000000           0.000000            0.000000   \n",
       "25%             0.000000           0.000000            0.000000   \n",
       "50%             0.000000           0.000000            0.000000   \n",
       "75%             0.000000           0.000000            0.000000   \n",
       "max             1.000000           1.000000            1.000000   \n",
       "\n",
       "       Medical_Keyword_11  Medical_Keyword_12  Medical_Keyword_13  \\\n",
       "count        35628.000000         35628.00000        35628.000000   \n",
       "mean             0.059448             0.00929            0.005333   \n",
       "std              0.236464             0.09594            0.072833   \n",
       "min              0.000000             0.00000            0.000000   \n",
       "25%              0.000000             0.00000            0.000000   \n",
       "50%              0.000000             0.00000            0.000000   \n",
       "75%              0.000000             0.00000            0.000000   \n",
       "max              1.000000             1.00000            1.000000   \n",
       "\n",
       "       Medical_Keyword_14  Medical_Keyword_15  Medical_Keyword_16  \\\n",
       "count        35628.000000        35628.000000        35628.000000   \n",
       "mean             0.007747            0.192461            0.012687   \n",
       "std              0.087675            0.394239            0.111920   \n",
       "min              0.000000            0.000000            0.000000   \n",
       "25%              0.000000            0.000000            0.000000   \n",
       "50%              0.000000            0.000000            0.000000   \n",
       "75%              0.000000            0.000000            0.000000   \n",
       "max              1.000000            1.000000            1.000000   \n",
       "\n",
       "       Medical_Keyword_17  Medical_Keyword_18  Medical_Keyword_19  \\\n",
       "count        35628.000000        35628.000000        35628.000000   \n",
       "mean             0.008701            0.007382            0.009431   \n",
       "std              0.092874            0.085601            0.096655   \n",
       "min              0.000000            0.000000            0.000000   \n",
       "25%              0.000000            0.000000            0.000000   \n",
       "50%              0.000000            0.000000            0.000000   \n",
       "75%              0.000000            0.000000            0.000000   \n",
       "max              1.000000            1.000000            1.000000   \n",
       "\n",
       "       Medical_Keyword_20  Medical_Keyword_21  Medical_Keyword_22  \\\n",
       "count        35628.000000        35628.000000        35628.000000   \n",
       "mean             0.008533            0.014427            0.036600   \n",
       "std              0.091979            0.119244            0.187781   \n",
       "min              0.000000            0.000000            0.000000   \n",
       "25%              0.000000            0.000000            0.000000   \n",
       "50%              0.000000            0.000000            0.000000   \n",
       "75%              0.000000            0.000000            0.000000   \n",
       "max              1.000000            1.000000            1.000000   \n",
       "\n",
       "       Medical_Keyword_23  Medical_Keyword_24  Medical_Keyword_25  \\\n",
       "count        35628.000000        35628.000000        35628.000000   \n",
       "mean             0.096609            0.018918            0.089564   \n",
       "std              0.295429            0.136236            0.285561   \n",
       "min              0.000000            0.000000            0.000000   \n",
       "25%              0.000000            0.000000            0.000000   \n",
       "50%              0.000000            0.000000            0.000000   \n",
       "75%              0.000000            0.000000            0.000000   \n",
       "max              1.000000            1.000000            1.000000   \n",
       "\n",
       "       Medical_Keyword_26  Medical_Keyword_27  Medical_Keyword_28  \\\n",
       "count        35628.000000        35628.000000        35628.000000   \n",
       "mean             0.013922            0.011564            0.014904   \n",
       "std              0.117167            0.106914            0.121171   \n",
       "min              0.000000            0.000000            0.000000   \n",
       "25%              0.000000            0.000000            0.000000   \n",
       "50%              0.000000            0.000000            0.000000   \n",
       "75%              0.000000            0.000000            0.000000   \n",
       "max              1.000000            1.000000            1.000000   \n",
       "\n",
       "       Medical_Keyword_29  Medical_Keyword_30  Medical_Keyword_31  \\\n",
       "count        35628.000000        35628.000000        35628.000000   \n",
       "mean             0.011957            0.024756            0.011424   \n",
       "std              0.108693            0.155382            0.106270   \n",
       "min              0.000000            0.000000            0.000000   \n",
       "25%              0.000000            0.000000            0.000000   \n",
       "50%              0.000000            0.000000            0.000000   \n",
       "75%              0.000000            0.000000            0.000000   \n",
       "max              1.000000            1.000000            1.000000   \n",
       "\n",
       "       Medical_Keyword_32  Medical_Keyword_33  Medical_Keyword_34  \\\n",
       "count        35628.000000        35628.000000        35628.000000   \n",
       "mean             0.020490            0.022735            0.020405   \n",
       "std              0.141669            0.149059            0.141384   \n",
       "min              0.000000            0.000000            0.000000   \n",
       "25%              0.000000            0.000000            0.000000   \n",
       "50%              0.000000            0.000000            0.000000   \n",
       "75%              0.000000            0.000000            0.000000   \n",
       "max              1.000000            1.000000            1.000000   \n",
       "\n",
       "       Medical_Keyword_35  Medical_Keyword_36  Medical_Keyword_37  \\\n",
       "count        35628.000000        35628.000000        35628.000000   \n",
       "mean             0.006989            0.010975            0.067475   \n",
       "std              0.083308            0.104184            0.250846   \n",
       "min              0.000000            0.000000            0.000000   \n",
       "25%              0.000000            0.000000            0.000000   \n",
       "50%              0.000000            0.000000            0.000000   \n",
       "75%              0.000000            0.000000            0.000000   \n",
       "max              1.000000            1.000000            1.000000   \n",
       "\n",
       "       Medical_Keyword_38  Medical_Keyword_39  Medical_Keyword_40  \\\n",
       "count        35628.000000        35628.000000        35628.000000   \n",
       "mean             0.006961            0.014090            0.056304   \n",
       "std              0.083142            0.117864            0.230511   \n",
       "min              0.000000            0.000000            0.000000   \n",
       "25%              0.000000            0.000000            0.000000   \n",
       "50%              0.000000            0.000000            0.000000   \n",
       "75%              0.000000            0.000000            0.000000   \n",
       "max              1.000000            1.000000            1.000000   \n",
       "\n",
       "       Medical_Keyword_41  Medical_Keyword_42  Medical_Keyword_43  \\\n",
       "count        35628.000000        35628.000000        35628.000000   \n",
       "mean             0.009908            0.044740            0.010750   \n",
       "std              0.099046            0.206736            0.103125   \n",
       "min              0.000000            0.000000            0.000000   \n",
       "25%              0.000000            0.000000            0.000000   \n",
       "50%              0.000000            0.000000            0.000000   \n",
       "75%              0.000000            0.000000            0.000000   \n",
       "max              1.000000            1.000000            1.000000   \n",
       "\n",
       "       Medical_Keyword_44  Medical_Keyword_45  Medical_Keyword_46  \\\n",
       "count        35628.000000        35628.000000        35628.000000   \n",
       "mean             0.007270            0.014090            0.008196   \n",
       "std              0.084952            0.117864            0.090160   \n",
       "min              0.000000            0.000000            0.000000   \n",
       "25%              0.000000            0.000000            0.000000   \n",
       "50%              0.000000            0.000000            0.000000   \n",
       "75%              0.000000            0.000000            0.000000   \n",
       "max              1.000000            1.000000            1.000000   \n",
       "\n",
       "       Medical_Keyword_47  Medical_Keyword_48  Product_Info_2_char  \\\n",
       "count        35628.000000        35628.000000         35628.000000   \n",
       "mean             0.019423            0.054031             0.494807   \n",
       "std              0.138008            0.226081             0.814202   \n",
       "min              0.000000            0.000000             0.000000   \n",
       "25%              0.000000            0.000000             0.000000   \n",
       "50%              0.000000            0.000000             0.000000   \n",
       "75%              0.000000            0.000000             1.000000   \n",
       "max              1.000000            1.000000             4.000000   \n",
       "\n",
       "       Product_Info_2_num       BMI_Age  Med_Keywords_Count  \n",
       "count        35628.000000  35628.000000        35628.000000  \n",
       "mean             1.947092      0.193981            1.263894  \n",
       "std              1.731745      0.111630            1.470215  \n",
       "min              0.000000      0.000000            0.000000  \n",
       "25%              0.000000      0.104500            0.000000  \n",
       "50%              2.000000      0.184018            1.000000  \n",
       "75%              3.000000      0.267861            2.000000  \n",
       "max              7.000000      0.805970           14.000000  "
      ]
     },
     "execution_count": 11,
     "metadata": {},
     "output_type": "execute_result"
    }
   ],
   "source": [
    "pd.options.display.max_columns = X_train.shape[1]\n",
    "X_train.describe(include='all')"
   ]
  },
  {
   "cell_type": "code",
   "execution_count": 12,
   "id": "c3154bc6",
   "metadata": {},
   "outputs": [
    {
     "name": "stdout",
     "output_type": "stream",
     "text": [
      "Numeric :  Index(['Product_Info_1', 'Product_Info_2', 'Product_Info_3', 'Product_Info_4',\n",
      "       'Product_Info_5', 'Product_Info_6', 'Product_Info_7', 'Ins_Age', 'Ht',\n",
      "       'Wt',\n",
      "       ...\n",
      "       'Medical_Keyword_43', 'Medical_Keyword_44', 'Medical_Keyword_45',\n",
      "       'Medical_Keyword_46', 'Medical_Keyword_47', 'Medical_Keyword_48',\n",
      "       'Product_Info_2_char', 'Product_Info_2_num', 'BMI_Age',\n",
      "       'Med_Keywords_Count'],\n",
      "      dtype='object', length=130)\n",
      "Categorical :  Index([], dtype='object')\n"
     ]
    }
   ],
   "source": [
    "df_numerical_features = X_train.select_dtypes(include='number')\n",
    "df_categorical_features = X_train.select_dtypes(include='category')\n",
    "print('Numeric : ',df_numerical_features.columns)\n",
    "print('Categorical : ',df_categorical_features.columns)"
   ]
  },
  {
   "cell_type": "code",
   "execution_count": 13,
   "id": "a42c414a",
   "metadata": {},
   "outputs": [],
   "source": [
    "#There is no need for categorical feature processing, we will be using tree based algorithms so normalising/scaling is not required as those algorithms are not sensitive to this pre-processing.\n",
    "#We did expleriment with/without normalising but the results were not significant to make the extra computation."
   ]
  },
  {
   "cell_type": "code",
   "execution_count": null,
   "id": "14298eb9",
   "metadata": {},
   "outputs": [],
   "source": []
  },
  {
   "cell_type": "code",
   "execution_count": 14,
   "id": "ba39412e",
   "metadata": {},
   "outputs": [],
   "source": [
    "#\n",
    "# Quadratic Weighted Kappa objective\n",
    "#\n",
    "def kappa_weights(n):\n",
    "    s = np.linspace(1, n, n)\n",
    "    w = np.power(np.subtract.outer(s, s), 2.0) / np.power(np.subtract.outer(n, np.ones((n,))), 2)\n",
    "    return w\n",
    "\n",
    "\n",
    "def quadratic_weighted_kappa(a, b, n=8):\n",
    "    a = np.clip(a.astype('int32') - 1, 0, n - 1)\n",
    "    b = np.clip(b.astype('int32') - 1, 0, n - 1)\n",
    "\n",
    "    sa = coo_matrix((np.ones(len(a)), (np.arange(len(a)), a)), shape=(len(a), n))\n",
    "    sb = coo_matrix((np.ones(len(b)), (np.arange(len(b)), b)), shape=(len(a), n))\n",
    "\n",
    "    O = (sa.T.dot(sb)).toarray()\n",
    "    E = np.outer(sa.sum(axis=0), sb.sum(axis=0))\n",
    "    E = np.divide(E, np.sum(E)) * O.sum()\n",
    "    W = kappa_weights(n)\n",
    "\n",
    "    return 1.0 - np.multiply(O, W).sum() / np.multiply(E, W).sum()\n",
    "\n",
    "\n",
    "\n",
    "def eval_wrapper(yhat, y):\n",
    "    y = np.array(y)\n",
    "    y = y.astype(int)\n",
    "    yhat = np.array(yhat)\n",
    "    yhat = np.clip(np.round(yhat), np.min(y), np.max(y)).astype(int)\n",
    "    return quadratic_weighted_kappa(yhat, y)\n",
    "\n",
    "# XGBoost parameters\n",
    "def get_xgb_params():\n",
    "    params = {\n",
    "        \"objective\": \"reg:linear\",\n",
    "        \"eta\": 0.05,\n",
    "        \"min_child_weight\": 360,\n",
    "        \"subsample\": 0.85,\n",
    "        \"colsample_bytree\": 0.3,\n",
    "        \"silent\": 1,\n",
    "        \"max_depth\": 7\n",
    "    }\n",
    "    return list(params.items())\n"
   ]
  },
  {
   "cell_type": "code",
   "execution_count": 15,
   "id": "a77ce424",
   "metadata": {},
   "outputs": [],
   "source": [
    "#This is before feature selection, basically we are letting the xgboost assign feature importance"
   ]
  },
  {
   "cell_type": "code",
   "execution_count": 17,
   "id": "b1dac4a0",
   "metadata": {},
   "outputs": [
    {
     "name": "stdout",
     "output_type": "stream",
     "text": [
      "[('objective', 'reg:linear'), ('eta', 0.05), ('min_child_weight', 360), ('subsample', 0.85), ('colsample_bytree', 0.3), ('silent', 1), ('max_depth', 7)]\n"
     ]
    },
    {
     "name": "stderr",
     "output_type": "stream",
     "text": [
      "/Users/shalinijawale/anaconda3/lib/python3.11/site-packages/xgboost/core.py:158: UserWarning: [17:19:14] WARNING: /Users/runner/work/xgboost/xgboost/src/objective/regression_obj.cu:227: reg:linear is now deprecated in favor of reg:squarederror.\n",
      "  warnings.warn(smsg, UserWarning)\n",
      "/Users/shalinijawale/anaconda3/lib/python3.11/site-packages/xgboost/core.py:158: UserWarning: [17:19:14] WARNING: /Users/runner/work/xgboost/xgboost/src/learner.cc:740: \n",
      "Parameters: { \"silent\" } are not used.\n",
      "\n",
      "  warnings.warn(smsg, UserWarning)\n"
     ]
    },
    {
     "name": "stdout",
     "output_type": "stream",
     "text": [
      "Train score is: 0.6499417567407968\n"
     ]
    }
   ],
   "source": [
    "from sklearn.utils.class_weight import compute_sample_weight\n",
    "sample_weights = compute_sample_weight(\n",
    "    class_weight='balanced',\n",
    "    y=y_train #provide your own target name\n",
    ")\n",
    "\n",
    "# XGBoost model training\n",
    "xgtrain = xgb.DMatrix(X_train, y_train, missing=missing_value_indicator)\n",
    "xgvalidation = xgb.DMatrix(X_valid, y_valid, missing=missing_value_indicator)\n",
    "xgtest = xgb.DMatrix(X_test, y_test, missing=missing_value_indicator)\n",
    "\n",
    "\n",
    "xgb_params_list = get_xgb_params()\n",
    "print(xgb_params_list)\n",
    "\n",
    "model = xgb.train(xgb_params_list, xgtrain, xgb_num_rounds)\n",
    "\n",
    "# Get feature importance\n",
    "train_predictions = model.predict(xgtrain)\n",
    "print('Train score is:', eval_wrapper(train_predictions, y_train))\n"
   ]
  },
  {
   "cell_type": "code",
   "execution_count": 18,
   "id": "346dc04d",
   "metadata": {},
   "outputs": [
    {
     "data": {
      "image/png": "[encoded data removed]",
      "text/plain": [
       "<Figure size 1000x3000 with 1 Axes>"
      ]
     },
     "metadata": {},
     "output_type": "display_data"
    }
   ],
   "source": [
    "# Visualize feature importance\n",
    "important_features = model.get_score(importance_type='gain')\n",
    "important_features = dict(sorted(important_features.items(), key=lambda item: item[1], reverse=True))\n",
    "\n",
    "fig, ax = plt.subplots(figsize=(10, 30))\n",
    "plot_importance(model, importance_type=\"gain\", xlabel=\"Gain\", show_values=False, ax=ax)\n",
    "plt.show()\n"
   ]
  },
  {
   "cell_type": "code",
   "execution_count": 21,
   "id": "e4d31398",
   "metadata": {},
   "outputs": [],
   "source": [
    "# Feature selection using PCA\n",
    "pca = PCA()\n",
    "X_validation_pca = pca.fit_transform(X_valid)\n",
    "\n",
    "X_validation_component_names = [f\"PC{i+1}\" for i in range(X_validation_pca.shape[1])]\n",
    "X_validation_pca = pd.DataFrame(X_validation_pca, columns=X_validation_component_names)\n",
    "X_validation_loadings = pd.DataFrame(pca.components_.T, columns=X_validation_component_names, index=X_valid.columns)\n",
    "X_validation_loadings_first = X_validation_loadings.iloc[:, :80]\n",
    "\n",
    "selected_columns = []\n",
    "\n",
    "# Visualize which columns in the top PCs contain notable variance\n",
    "for col in X_validation_loadings_first.columns:\n",
    "    cols = X_validation_loadings_first[col].loc[abs(X_validation_loadings_first[col]) > 0.25]\n",
    "    cols_df = pd.DataFrame(cols)\n",
    "    selected_columns.append(cols_df)\n",
    "\n",
    "#Count the occurance of each feature in every PC vector.\n",
    "count_dict = {}\n",
    "\n",
    "for row in selected_columns:\n",
    "    for sub_row in row.index:\n",
    "        if sub_row in count_dict:\n",
    "            count_dict[sub_row] += 1\n",
    "        else:\n",
    "            count_dict[sub_row] = 1\n",
    "\n",
    "#Sorting features decending, basically features with most count was deemed most imporant by PCA Algorithm.\n",
    "count_dict = dict(sorted(count_dict.items(), key=lambda item: item[1], reverse=True))\n"
   ]
  },
  {
   "cell_type": "code",
   "execution_count": 23,
   "id": "2c632787",
   "metadata": {},
   "outputs": [
    {
     "name": "stderr",
     "output_type": "stream",
     "text": [
      "  0%|                                                                                                                                                                                | 0/92 [00:00<?, ?it/s]/Users/shalinijawale/anaconda3/lib/python3.11/site-packages/xgboost/core.py:158: UserWarning: [17:21:05] WARNING: /Users/runner/work/xgboost/xgboost/src/objective/regression_obj.cu:227: reg:linear is now deprecated in favor of reg:squarederror.\n",
      "  warnings.warn(smsg, UserWarning)\n",
      "/Users/shalinijawale/anaconda3/lib/python3.11/site-packages/xgboost/core.py:158: UserWarning: [17:21:05] WARNING: /Users/runner/work/xgboost/xgboost/src/learner.cc:740: \n",
      "Parameters: { \"silent\" } are not used.\n",
      "\n",
      "  warnings.warn(smsg, UserWarning)\n",
      "  1%|█▊                                                                                                                                                                      | 1/92 [00:04<07:07,  4.69s/it]"
     ]
    },
    {
     "name": "stdout",
     "output_type": "stream",
     "text": [
      "Train score for 94 : 0.6517501254066507\n"
     ]
    },
    {
     "name": "stderr",
     "output_type": "stream",
     "text": [
      "/Users/shalinijawale/anaconda3/lib/python3.11/site-packages/xgboost/core.py:158: UserWarning: [17:21:10] WARNING: /Users/runner/work/xgboost/xgboost/src/objective/regression_obj.cu:227: reg:linear is now deprecated in favor of reg:squarederror.\n",
      "  warnings.warn(smsg, UserWarning)\n",
      "/Users/shalinijawale/anaconda3/lib/python3.11/site-packages/xgboost/core.py:158: UserWarning: [17:21:10] WARNING: /Users/runner/work/xgboost/xgboost/src/learner.cc:740: \n",
      "Parameters: { \"silent\" } are not used.\n",
      "\n",
      "  warnings.warn(smsg, UserWarning)\n",
      "  2%|███▋                                                                                                                                                                    | 2/92 [00:09<07:29,  4.99s/it]"
     ]
    },
    {
     "name": "stdout",
     "output_type": "stream",
     "text": [
      "Train score for 93 : 0.647270480171877\n"
     ]
    },
    {
     "name": "stderr",
     "output_type": "stream",
     "text": [
      "/Users/shalinijawale/anaconda3/lib/python3.11/site-packages/xgboost/core.py:158: UserWarning: [17:21:15] WARNING: /Users/runner/work/xgboost/xgboost/src/objective/regression_obj.cu:227: reg:linear is now deprecated in favor of reg:squarederror.\n",
      "  warnings.warn(smsg, UserWarning)\n",
      "/Users/shalinijawale/anaconda3/lib/python3.11/site-packages/xgboost/core.py:158: UserWarning: [17:21:15] WARNING: /Users/runner/work/xgboost/xgboost/src/learner.cc:740: \n",
      "Parameters: { \"silent\" } are not used.\n",
      "\n",
      "  warnings.warn(smsg, UserWarning)\n",
      "  3%|█████▍                                                                                                                                                                  | 3/92 [00:14<07:28,  5.03s/it]"
     ]
    },
    {
     "name": "stdout",
     "output_type": "stream",
     "text": [
      "Train score for 92 : 0.6485699782313172\n"
     ]
    },
    {
     "name": "stderr",
     "output_type": "stream",
     "text": [
      "/Users/shalinijawale/anaconda3/lib/python3.11/site-packages/xgboost/core.py:158: UserWarning: [17:21:20] WARNING: /Users/runner/work/xgboost/xgboost/src/objective/regression_obj.cu:227: reg:linear is now deprecated in favor of reg:squarederror.\n",
      "  warnings.warn(smsg, UserWarning)\n",
      "/Users/shalinijawale/anaconda3/lib/python3.11/site-packages/xgboost/core.py:158: UserWarning: [17:21:20] WARNING: /Users/runner/work/xgboost/xgboost/src/learner.cc:740: \n",
      "Parameters: { \"silent\" } are not used.\n",
      "\n",
      "  warnings.warn(smsg, UserWarning)\n",
      "  4%|███████▎                                                                                                                                                                | 4/92 [00:21<08:01,  5.47s/it]"
     ]
    },
    {
     "name": "stdout",
     "output_type": "stream",
     "text": [
      "Train score for 91 : 0.6464935576834767\n"
     ]
    },
    {
     "name": "stderr",
     "output_type": "stream",
     "text": [
      "/Users/shalinijawale/anaconda3/lib/python3.11/site-packages/xgboost/core.py:158: UserWarning: [17:21:26] WARNING: /Users/runner/work/xgboost/xgboost/src/objective/regression_obj.cu:227: reg:linear is now deprecated in favor of reg:squarederror.\n",
      "  warnings.warn(smsg, UserWarning)\n",
      "/Users/shalinijawale/anaconda3/lib/python3.11/site-packages/xgboost/core.py:158: UserWarning: [17:21:26] WARNING: /Users/runner/work/xgboost/xgboost/src/learner.cc:740: \n",
      "Parameters: { \"silent\" } are not used.\n",
      "\n",
      "  warnings.warn(smsg, UserWarning)\n",
      "  5%|█████████▏                                                                                                                                                              | 5/92 [00:26<07:40,  5.29s/it]"
     ]
    },
    {
     "name": "stdout",
     "output_type": "stream",
     "text": [
      "Train score for 90 : 0.6405742381739072\n"
     ]
    },
    {
     "name": "stderr",
     "output_type": "stream",
     "text": [
      "/Users/shalinijawale/anaconda3/lib/python3.11/site-packages/xgboost/core.py:158: UserWarning: [17:21:31] WARNING: /Users/runner/work/xgboost/xgboost/src/objective/regression_obj.cu:227: reg:linear is now deprecated in favor of reg:squarederror.\n",
      "  warnings.warn(smsg, UserWarning)\n",
      "/Users/shalinijawale/anaconda3/lib/python3.11/site-packages/xgboost/core.py:158: UserWarning: [17:21:31] WARNING: /Users/runner/work/xgboost/xgboost/src/learner.cc:740: \n",
      "Parameters: { \"silent\" } are not used.\n",
      "\n",
      "  warnings.warn(smsg, UserWarning)\n",
      "  7%|██████████▉                                                                                                                                                             | 6/92 [00:28<06:11,  4.32s/it]"
     ]
    },
    {
     "name": "stdout",
     "output_type": "stream",
     "text": [
      "Train score for 89 : 0.6405004183345488\n"
     ]
    },
    {
     "name": "stderr",
     "output_type": "stream",
     "text": [
      "/Users/shalinijawale/anaconda3/lib/python3.11/site-packages/xgboost/core.py:158: UserWarning: [17:21:34] WARNING: /Users/runner/work/xgboost/xgboost/src/objective/regression_obj.cu:227: reg:linear is now deprecated in favor of reg:squarederror.\n",
      "  warnings.warn(smsg, UserWarning)\n",
      "/Users/shalinijawale/anaconda3/lib/python3.11/site-packages/xgboost/core.py:158: UserWarning: [17:21:34] WARNING: /Users/runner/work/xgboost/xgboost/src/learner.cc:740: \n",
      "Parameters: { \"silent\" } are not used.\n",
      "\n",
      "  warnings.warn(smsg, UserWarning)\n",
      "  8%|████████████▊                                                                                                                                                           | 7/92 [00:31<05:20,  3.76s/it]"
     ]
    },
    {
     "name": "stdout",
     "output_type": "stream",
     "text": [
      "Train score for 88 : 0.6392766929684655\n"
     ]
    },
    {
     "name": "stderr",
     "output_type": "stream",
     "text": [
      "/Users/shalinijawale/anaconda3/lib/python3.11/site-packages/xgboost/core.py:158: UserWarning: [17:21:36] WARNING: /Users/runner/work/xgboost/xgboost/src/objective/regression_obj.cu:227: reg:linear is now deprecated in favor of reg:squarederror.\n",
      "  warnings.warn(smsg, UserWarning)\n",
      "/Users/shalinijawale/anaconda3/lib/python3.11/site-packages/xgboost/core.py:158: UserWarning: [17:21:36] WARNING: /Users/runner/work/xgboost/xgboost/src/learner.cc:740: \n",
      "Parameters: { \"silent\" } are not used.\n",
      "\n",
      "  warnings.warn(smsg, UserWarning)\n",
      "  9%|██████████████▌                                                                                                                                                         | 8/92 [00:34<04:57,  3.54s/it]"
     ]
    },
    {
     "name": "stdout",
     "output_type": "stream",
     "text": [
      "Train score for 87 : 0.6400330401733607\n"
     ]
    },
    {
     "name": "stderr",
     "output_type": "stream",
     "text": [
      "/Users/shalinijawale/anaconda3/lib/python3.11/site-packages/xgboost/core.py:158: UserWarning: [17:21:39] WARNING: /Users/runner/work/xgboost/xgboost/src/objective/regression_obj.cu:227: reg:linear is now deprecated in favor of reg:squarederror.\n",
      "  warnings.warn(smsg, UserWarning)\n",
      "/Users/shalinijawale/anaconda3/lib/python3.11/site-packages/xgboost/core.py:158: UserWarning: [17:21:39] WARNING: /Users/runner/work/xgboost/xgboost/src/learner.cc:740: \n",
      "Parameters: { \"silent\" } are not used.\n",
      "\n",
      "  warnings.warn(smsg, UserWarning)\n",
      " 10%|████████████████▍                                                                                                                                                       | 9/92 [00:38<05:03,  3.66s/it]"
     ]
    },
    {
     "name": "stdout",
     "output_type": "stream",
     "text": [
      "Train score for 86 : 0.6373311567219828\n"
     ]
    },
    {
     "name": "stderr",
     "output_type": "stream",
     "text": [
      "/Users/shalinijawale/anaconda3/lib/python3.11/site-packages/xgboost/core.py:158: UserWarning: [17:21:43] WARNING: /Users/runner/work/xgboost/xgboost/src/objective/regression_obj.cu:227: reg:linear is now deprecated in favor of reg:squarederror.\n",
      "  warnings.warn(smsg, UserWarning)\n",
      "/Users/shalinijawale/anaconda3/lib/python3.11/site-packages/xgboost/core.py:158: UserWarning: [17:21:43] WARNING: /Users/runner/work/xgboost/xgboost/src/learner.cc:740: \n",
      "Parameters: { \"silent\" } are not used.\n",
      "\n",
      "  warnings.warn(smsg, UserWarning)\n",
      " 11%|██████████████████▏                                                                                                                                                    | 10/92 [00:41<04:42,  3.44s/it]"
     ]
    },
    {
     "name": "stdout",
     "output_type": "stream",
     "text": [
      "Train score for 85 : 0.6361841117315981\n"
     ]
    },
    {
     "name": "stderr",
     "output_type": "stream",
     "text": [
      "/Users/shalinijawale/anaconda3/lib/python3.11/site-packages/xgboost/core.py:158: UserWarning: [17:21:46] WARNING: /Users/runner/work/xgboost/xgboost/src/objective/regression_obj.cu:227: reg:linear is now deprecated in favor of reg:squarederror.\n",
      "  warnings.warn(smsg, UserWarning)\n",
      "/Users/shalinijawale/anaconda3/lib/python3.11/site-packages/xgboost/core.py:158: UserWarning: [17:21:46] WARNING: /Users/runner/work/xgboost/xgboost/src/learner.cc:740: \n",
      "Parameters: { \"silent\" } are not used.\n",
      "\n",
      "  warnings.warn(smsg, UserWarning)\n",
      " 12%|███████████████████▉                                                                                                                                                   | 11/92 [00:44<04:28,  3.32s/it]"
     ]
    },
    {
     "name": "stdout",
     "output_type": "stream",
     "text": [
      "Train score for 84 : 0.6344024729605111\n"
     ]
    },
    {
     "name": "stderr",
     "output_type": "stream",
     "text": [
      "/Users/shalinijawale/anaconda3/lib/python3.11/site-packages/xgboost/core.py:158: UserWarning: [17:21:49] WARNING: /Users/runner/work/xgboost/xgboost/src/objective/regression_obj.cu:227: reg:linear is now deprecated in favor of reg:squarederror.\n",
      "  warnings.warn(smsg, UserWarning)\n",
      "/Users/shalinijawale/anaconda3/lib/python3.11/site-packages/xgboost/core.py:158: UserWarning: [17:21:49] WARNING: /Users/runner/work/xgboost/xgboost/src/learner.cc:740: \n",
      "Parameters: { \"silent\" } are not used.\n",
      "\n",
      "  warnings.warn(smsg, UserWarning)\n",
      " 13%|█████████████████████▊                                                                                                                                                 | 12/92 [00:47<04:19,  3.24s/it]"
     ]
    },
    {
     "name": "stdout",
     "output_type": "stream",
     "text": [
      "Train score for 83 : 0.6335754998387824\n"
     ]
    },
    {
     "name": "stderr",
     "output_type": "stream",
     "text": [
      "/Users/shalinijawale/anaconda3/lib/python3.11/site-packages/xgboost/core.py:158: UserWarning: [17:21:52] WARNING: /Users/runner/work/xgboost/xgboost/src/objective/regression_obj.cu:227: reg:linear is now deprecated in favor of reg:squarederror.\n",
      "  warnings.warn(smsg, UserWarning)\n",
      "/Users/shalinijawale/anaconda3/lib/python3.11/site-packages/xgboost/core.py:158: UserWarning: [17:21:52] WARNING: /Users/runner/work/xgboost/xgboost/src/learner.cc:740: \n",
      "Parameters: { \"silent\" } are not used.\n",
      "\n",
      "  warnings.warn(smsg, UserWarning)\n",
      " 14%|███████████████████████▌                                                                                                                                               | 13/92 [00:50<04:11,  3.18s/it]"
     ]
    },
    {
     "name": "stdout",
     "output_type": "stream",
     "text": [
      "Train score for 82 : 0.6352660642508572\n"
     ]
    },
    {
     "name": "stderr",
     "output_type": "stream",
     "text": [
      "/Users/shalinijawale/anaconda3/lib/python3.11/site-packages/xgboost/core.py:158: UserWarning: [17:21:55] WARNING: /Users/runner/work/xgboost/xgboost/src/objective/regression_obj.cu:227: reg:linear is now deprecated in favor of reg:squarederror.\n",
      "  warnings.warn(smsg, UserWarning)\n",
      "/Users/shalinijawale/anaconda3/lib/python3.11/site-packages/xgboost/core.py:158: UserWarning: [17:21:55] WARNING: /Users/runner/work/xgboost/xgboost/src/learner.cc:740: \n",
      "Parameters: { \"silent\" } are not used.\n",
      "\n",
      "  warnings.warn(smsg, UserWarning)\n",
      " 15%|█████████████████████████▍                                                                                                                                             | 14/92 [00:52<03:53,  3.00s/it]"
     ]
    },
    {
     "name": "stdout",
     "output_type": "stream",
     "text": [
      "Train score for 81 : 0.6353739542749361\n"
     ]
    },
    {
     "name": "stderr",
     "output_type": "stream",
     "text": [
      "/Users/shalinijawale/anaconda3/lib/python3.11/site-packages/xgboost/core.py:158: UserWarning: [17:21:58] WARNING: /Users/runner/work/xgboost/xgboost/src/objective/regression_obj.cu:227: reg:linear is now deprecated in favor of reg:squarederror.\n",
      "  warnings.warn(smsg, UserWarning)\n",
      "/Users/shalinijawale/anaconda3/lib/python3.11/site-packages/xgboost/core.py:158: UserWarning: [17:21:58] WARNING: /Users/runner/work/xgboost/xgboost/src/learner.cc:740: \n",
      "Parameters: { \"silent\" } are not used.\n",
      "\n",
      "  warnings.warn(smsg, UserWarning)\n",
      " 16%|███████████████████████████▏                                                                                                                                           | 15/92 [00:55<03:39,  2.85s/it]"
     ]
    },
    {
     "name": "stdout",
     "output_type": "stream",
     "text": [
      "Train score for 80 : 0.6341347132682982\n"
     ]
    },
    {
     "name": "stderr",
     "output_type": "stream",
     "text": [
      "/Users/shalinijawale/anaconda3/lib/python3.11/site-packages/xgboost/core.py:158: UserWarning: [17:22:00] WARNING: /Users/runner/work/xgboost/xgboost/src/objective/regression_obj.cu:227: reg:linear is now deprecated in favor of reg:squarederror.\n",
      "  warnings.warn(smsg, UserWarning)\n",
      "/Users/shalinijawale/anaconda3/lib/python3.11/site-packages/xgboost/core.py:158: UserWarning: [17:22:00] WARNING: /Users/runner/work/xgboost/xgboost/src/learner.cc:740: \n",
      "Parameters: { \"silent\" } are not used.\n",
      "\n",
      "  warnings.warn(smsg, UserWarning)\n",
      " 17%|█████████████████████████████                                                                                                                                          | 16/92 [00:57<03:27,  2.73s/it]"
     ]
    },
    {
     "name": "stdout",
     "output_type": "stream",
     "text": [
      "Train score for 79 : 0.6334111546657353\n"
     ]
    },
    {
     "name": "stderr",
     "output_type": "stream",
     "text": [
      "/Users/shalinijawale/anaconda3/lib/python3.11/site-packages/xgboost/core.py:158: UserWarning: [17:22:03] WARNING: /Users/runner/work/xgboost/xgboost/src/objective/regression_obj.cu:227: reg:linear is now deprecated in favor of reg:squarederror.\n",
      "  warnings.warn(smsg, UserWarning)\n",
      "/Users/shalinijawale/anaconda3/lib/python3.11/site-packages/xgboost/core.py:158: UserWarning: [17:22:03] WARNING: /Users/runner/work/xgboost/xgboost/src/learner.cc:740: \n",
      "Parameters: { \"silent\" } are not used.\n",
      "\n",
      "  warnings.warn(smsg, UserWarning)\n",
      " 18%|██████████████████████████████▊                                                                                                                                        | 17/92 [01:00<03:20,  2.67s/it]"
     ]
    },
    {
     "name": "stdout",
     "output_type": "stream",
     "text": [
      "Train score for 78 : 0.6321201250558358\n"
     ]
    },
    {
     "name": "stderr",
     "output_type": "stream",
     "text": [
      "/Users/shalinijawale/anaconda3/lib/python3.11/site-packages/xgboost/core.py:158: UserWarning: [17:22:05] WARNING: /Users/runner/work/xgboost/xgboost/src/objective/regression_obj.cu:227: reg:linear is now deprecated in favor of reg:squarederror.\n",
      "  warnings.warn(smsg, UserWarning)\n",
      "/Users/shalinijawale/anaconda3/lib/python3.11/site-packages/xgboost/core.py:158: UserWarning: [17:22:05] WARNING: /Users/runner/work/xgboost/xgboost/src/learner.cc:740: \n",
      "Parameters: { \"silent\" } are not used.\n",
      "\n",
      "  warnings.warn(smsg, UserWarning)\n",
      " 20%|████████████████████████████████▋                                                                                                                                      | 18/92 [01:03<03:28,  2.82s/it]"
     ]
    },
    {
     "name": "stdout",
     "output_type": "stream",
     "text": [
      "Train score for 77 : 0.6315427727405236\n"
     ]
    },
    {
     "name": "stderr",
     "output_type": "stream",
     "text": [
      "/Users/shalinijawale/anaconda3/lib/python3.11/site-packages/xgboost/core.py:158: UserWarning: [17:22:09] WARNING: /Users/runner/work/xgboost/xgboost/src/objective/regression_obj.cu:227: reg:linear is now deprecated in favor of reg:squarederror.\n",
      "  warnings.warn(smsg, UserWarning)\n",
      "/Users/shalinijawale/anaconda3/lib/python3.11/site-packages/xgboost/core.py:158: UserWarning: [17:22:09] WARNING: /Users/runner/work/xgboost/xgboost/src/learner.cc:740: \n",
      "Parameters: { \"silent\" } are not used.\n",
      "\n",
      "  warnings.warn(smsg, UserWarning)\n",
      " 21%|██████████████████████████████████▍                                                                                                                                    | 19/92 [01:05<03:16,  2.69s/it]"
     ]
    },
    {
     "name": "stdout",
     "output_type": "stream",
     "text": [
      "Train score for 76 : 0.6320813204808039\n"
     ]
    },
    {
     "name": "stderr",
     "output_type": "stream",
     "text": [
      "/Users/shalinijawale/anaconda3/lib/python3.11/site-packages/xgboost/core.py:158: UserWarning: [17:22:11] WARNING: /Users/runner/work/xgboost/xgboost/src/objective/regression_obj.cu:227: reg:linear is now deprecated in favor of reg:squarederror.\n",
      "  warnings.warn(smsg, UserWarning)\n",
      "/Users/shalinijawale/anaconda3/lib/python3.11/site-packages/xgboost/core.py:158: UserWarning: [17:22:11] WARNING: /Users/runner/work/xgboost/xgboost/src/learner.cc:740: \n",
      "Parameters: { \"silent\" } are not used.\n",
      "\n",
      "  warnings.warn(smsg, UserWarning)\n",
      " 22%|████████████████████████████████████▎                                                                                                                                  | 20/92 [01:07<03:01,  2.51s/it]"
     ]
    },
    {
     "name": "stdout",
     "output_type": "stream",
     "text": [
      "Train score for 75 : 0.6300306602165389\n"
     ]
    },
    {
     "name": "stderr",
     "output_type": "stream",
     "text": [
      "/Users/shalinijawale/anaconda3/lib/python3.11/site-packages/xgboost/core.py:158: UserWarning: [17:22:13] WARNING: /Users/runner/work/xgboost/xgboost/src/objective/regression_obj.cu:227: reg:linear is now deprecated in favor of reg:squarederror.\n",
      "  warnings.warn(smsg, UserWarning)\n",
      "/Users/shalinijawale/anaconda3/lib/python3.11/site-packages/xgboost/core.py:158: UserWarning: [17:22:13] WARNING: /Users/runner/work/xgboost/xgboost/src/learner.cc:740: \n",
      "Parameters: { \"silent\" } are not used.\n",
      "\n",
      "  warnings.warn(smsg, UserWarning)\n",
      " 23%|██████████████████████████████████████                                                                                                                                 | 21/92 [01:10<02:57,  2.49s/it]"
     ]
    },
    {
     "name": "stdout",
     "output_type": "stream",
     "text": [
      "Train score for 74 : 0.6316690764172712\n"
     ]
    },
    {
     "name": "stderr",
     "output_type": "stream",
     "text": [
      "/Users/shalinijawale/anaconda3/lib/python3.11/site-packages/xgboost/core.py:158: UserWarning: [17:22:16] WARNING: /Users/runner/work/xgboost/xgboost/src/objective/regression_obj.cu:227: reg:linear is now deprecated in favor of reg:squarederror.\n",
      "  warnings.warn(smsg, UserWarning)\n",
      "/Users/shalinijawale/anaconda3/lib/python3.11/site-packages/xgboost/core.py:158: UserWarning: [17:22:16] WARNING: /Users/runner/work/xgboost/xgboost/src/learner.cc:740: \n",
      "Parameters: { \"silent\" } are not used.\n",
      "\n",
      "  warnings.warn(smsg, UserWarning)\n",
      " 24%|███████████████████████████████████████▉                                                                                                                               | 22/92 [01:12<02:48,  2.40s/it]"
     ]
    },
    {
     "name": "stdout",
     "output_type": "stream",
     "text": [
      "Train score for 73 : 0.6259433841453567\n"
     ]
    },
    {
     "name": "stderr",
     "output_type": "stream",
     "text": [
      "/Users/shalinijawale/anaconda3/lib/python3.11/site-packages/xgboost/core.py:158: UserWarning: [17:22:18] WARNING: /Users/runner/work/xgboost/xgboost/src/objective/regression_obj.cu:227: reg:linear is now deprecated in favor of reg:squarederror.\n",
      "  warnings.warn(smsg, UserWarning)\n",
      "/Users/shalinijawale/anaconda3/lib/python3.11/site-packages/xgboost/core.py:158: UserWarning: [17:22:18] WARNING: /Users/runner/work/xgboost/xgboost/src/learner.cc:740: \n",
      "Parameters: { \"silent\" } are not used.\n",
      "\n",
      "  warnings.warn(smsg, UserWarning)\n",
      " 25%|█████████████████████████████████████████▊                                                                                                                             | 23/92 [01:14<02:37,  2.29s/it]"
     ]
    },
    {
     "name": "stdout",
     "output_type": "stream",
     "text": [
      "Train score for 72 : 0.6265262181290858\n"
     ]
    },
    {
     "name": "stderr",
     "output_type": "stream",
     "text": [
      "/Users/shalinijawale/anaconda3/lib/python3.11/site-packages/xgboost/core.py:158: UserWarning: [17:22:20] WARNING: /Users/runner/work/xgboost/xgboost/src/objective/regression_obj.cu:227: reg:linear is now deprecated in favor of reg:squarederror.\n",
      "  warnings.warn(smsg, UserWarning)\n",
      "/Users/shalinijawale/anaconda3/lib/python3.11/site-packages/xgboost/core.py:158: UserWarning: [17:22:20] WARNING: /Users/runner/work/xgboost/xgboost/src/learner.cc:740: \n",
      "Parameters: { \"silent\" } are not used.\n",
      "\n",
      "  warnings.warn(smsg, UserWarning)\n",
      " 26%|███████████████████████████████████████████▌                                                                                                                           | 24/92 [01:16<02:30,  2.21s/it]"
     ]
    },
    {
     "name": "stdout",
     "output_type": "stream",
     "text": [
      "Train score for 71 : 0.6250446392168293\n"
     ]
    },
    {
     "name": "stderr",
     "output_type": "stream",
     "text": [
      "/Users/shalinijawale/anaconda3/lib/python3.11/site-packages/xgboost/core.py:158: UserWarning: [17:22:22] WARNING: /Users/runner/work/xgboost/xgboost/src/objective/regression_obj.cu:227: reg:linear is now deprecated in favor of reg:squarederror.\n",
      "  warnings.warn(smsg, UserWarning)\n",
      "/Users/shalinijawale/anaconda3/lib/python3.11/site-packages/xgboost/core.py:158: UserWarning: [17:22:22] WARNING: /Users/runner/work/xgboost/xgboost/src/learner.cc:740: \n",
      "Parameters: { \"silent\" } are not used.\n",
      "\n",
      "  warnings.warn(smsg, UserWarning)\n",
      " 27%|█████████████████████████████████████████████▍                                                                                                                         | 25/92 [01:18<02:24,  2.15s/it]"
     ]
    },
    {
     "name": "stdout",
     "output_type": "stream",
     "text": [
      "Train score for 70 : 0.6247695329350925\n"
     ]
    },
    {
     "name": "stderr",
     "output_type": "stream",
     "text": [
      "/Users/shalinijawale/anaconda3/lib/python3.11/site-packages/xgboost/core.py:158: UserWarning: [17:22:24] WARNING: /Users/runner/work/xgboost/xgboost/src/objective/regression_obj.cu:227: reg:linear is now deprecated in favor of reg:squarederror.\n",
      "  warnings.warn(smsg, UserWarning)\n",
      "/Users/shalinijawale/anaconda3/lib/python3.11/site-packages/xgboost/core.py:158: UserWarning: [17:22:24] WARNING: /Users/runner/work/xgboost/xgboost/src/learner.cc:740: \n",
      "Parameters: { \"silent\" } are not used.\n",
      "\n",
      "  warnings.warn(smsg, UserWarning)\n",
      " 28%|███████████████████████████████████████████████▏                                                                                                                       | 26/92 [01:20<02:23,  2.18s/it]"
     ]
    },
    {
     "name": "stdout",
     "output_type": "stream",
     "text": [
      "Train score for 69 : 0.6232160942677677\n"
     ]
    },
    {
     "name": "stderr",
     "output_type": "stream",
     "text": [
      "/Users/shalinijawale/anaconda3/lib/python3.11/site-packages/xgboost/core.py:158: UserWarning: [17:22:26] WARNING: /Users/runner/work/xgboost/xgboost/src/objective/regression_obj.cu:227: reg:linear is now deprecated in favor of reg:squarederror.\n",
      "  warnings.warn(smsg, UserWarning)\n",
      "/Users/shalinijawale/anaconda3/lib/python3.11/site-packages/xgboost/core.py:158: UserWarning: [17:22:26] WARNING: /Users/runner/work/xgboost/xgboost/src/learner.cc:740: \n",
      "Parameters: { \"silent\" } are not used.\n",
      "\n",
      "  warnings.warn(smsg, UserWarning)\n",
      " 29%|█████████████████████████████████████████████████                                                                                                                      | 27/92 [01:23<02:28,  2.28s/it]"
     ]
    },
    {
     "name": "stdout",
     "output_type": "stream",
     "text": [
      "Train score for 68 : 0.6245945883975332\n"
     ]
    },
    {
     "name": "stderr",
     "output_type": "stream",
     "text": [
      "/Users/shalinijawale/anaconda3/lib/python3.11/site-packages/xgboost/core.py:158: UserWarning: [17:22:29] WARNING: /Users/runner/work/xgboost/xgboost/src/objective/regression_obj.cu:227: reg:linear is now deprecated in favor of reg:squarederror.\n",
      "  warnings.warn(smsg, UserWarning)\n",
      "/Users/shalinijawale/anaconda3/lib/python3.11/site-packages/xgboost/core.py:158: UserWarning: [17:22:29] WARNING: /Users/runner/work/xgboost/xgboost/src/learner.cc:740: \n",
      "Parameters: { \"silent\" } are not used.\n",
      "\n",
      "  warnings.warn(smsg, UserWarning)\n",
      " 30%|██████████████████████████████████████████████████▊                                                                                                                    | 28/92 [01:25<02:20,  2.20s/it]"
     ]
    },
    {
     "name": "stdout",
     "output_type": "stream",
     "text": [
      "Train score for 67 : 0.6229955102397158\n"
     ]
    },
    {
     "name": "stderr",
     "output_type": "stream",
     "text": [
      "/Users/shalinijawale/anaconda3/lib/python3.11/site-packages/xgboost/core.py:158: UserWarning: [17:22:31] WARNING: /Users/runner/work/xgboost/xgboost/src/objective/regression_obj.cu:227: reg:linear is now deprecated in favor of reg:squarederror.\n",
      "  warnings.warn(smsg, UserWarning)\n",
      "/Users/shalinijawale/anaconda3/lib/python3.11/site-packages/xgboost/core.py:158: UserWarning: [17:22:31] WARNING: /Users/runner/work/xgboost/xgboost/src/learner.cc:740: \n",
      "Parameters: { \"silent\" } are not used.\n",
      "\n",
      "  warnings.warn(smsg, UserWarning)\n",
      " 32%|████████████████████████████████████████████████████▋                                                                                                                  | 29/92 [01:27<02:13,  2.12s/it]"
     ]
    },
    {
     "name": "stdout",
     "output_type": "stream",
     "text": [
      "Train score for 66 : 0.6234211355547716\n"
     ]
    },
    {
     "name": "stderr",
     "output_type": "stream",
     "text": [
      "/Users/shalinijawale/anaconda3/lib/python3.11/site-packages/xgboost/core.py:158: UserWarning: [17:22:32] WARNING: /Users/runner/work/xgboost/xgboost/src/objective/regression_obj.cu:227: reg:linear is now deprecated in favor of reg:squarederror.\n",
      "  warnings.warn(smsg, UserWarning)\n",
      "/Users/shalinijawale/anaconda3/lib/python3.11/site-packages/xgboost/core.py:158: UserWarning: [17:22:32] WARNING: /Users/runner/work/xgboost/xgboost/src/learner.cc:740: \n",
      "Parameters: { \"silent\" } are not used.\n",
      "\n",
      "  warnings.warn(smsg, UserWarning)\n",
      " 33%|██████████████████████████████████████████████████████▍                                                                                                                | 30/92 [01:29<02:08,  2.07s/it]"
     ]
    },
    {
     "name": "stdout",
     "output_type": "stream",
     "text": [
      "Train score for 65 : 0.6249856599438719\n"
     ]
    },
    {
     "name": "stderr",
     "output_type": "stream",
     "text": [
      "/Users/shalinijawale/anaconda3/lib/python3.11/site-packages/xgboost/core.py:158: UserWarning: [17:22:34] WARNING: /Users/runner/work/xgboost/xgboost/src/objective/regression_obj.cu:227: reg:linear is now deprecated in favor of reg:squarederror.\n",
      "  warnings.warn(smsg, UserWarning)\n",
      "/Users/shalinijawale/anaconda3/lib/python3.11/site-packages/xgboost/core.py:158: UserWarning: [17:22:34] WARNING: /Users/runner/work/xgboost/xgboost/src/learner.cc:740: \n",
      "Parameters: { \"silent\" } are not used.\n",
      "\n",
      "  warnings.warn(smsg, UserWarning)\n",
      " 34%|████████████████████████████████████████████████████████▎                                                                                                              | 31/92 [01:31<02:03,  2.03s/it]"
     ]
    },
    {
     "name": "stdout",
     "output_type": "stream",
     "text": [
      "Train score for 64 : 0.6192530656888794\n"
     ]
    },
    {
     "name": "stderr",
     "output_type": "stream",
     "text": [
      "/Users/shalinijawale/anaconda3/lib/python3.11/site-packages/xgboost/core.py:158: UserWarning: [17:22:36] WARNING: /Users/runner/work/xgboost/xgboost/src/objective/regression_obj.cu:227: reg:linear is now deprecated in favor of reg:squarederror.\n",
      "  warnings.warn(smsg, UserWarning)\n",
      "/Users/shalinijawale/anaconda3/lib/python3.11/site-packages/xgboost/core.py:158: UserWarning: [17:22:36] WARNING: /Users/runner/work/xgboost/xgboost/src/learner.cc:740: \n",
      "Parameters: { \"silent\" } are not used.\n",
      "\n",
      "  warnings.warn(smsg, UserWarning)\n",
      " 35%|██████████████████████████████████████████████████████████                                                                                                             | 32/92 [01:33<01:59,  2.00s/it]"
     ]
    },
    {
     "name": "stdout",
     "output_type": "stream",
     "text": [
      "Train score for 63 : 0.6108546516183775\n"
     ]
    },
    {
     "name": "stderr",
     "output_type": "stream",
     "text": [
      "/Users/shalinijawale/anaconda3/lib/python3.11/site-packages/xgboost/core.py:158: UserWarning: [17:22:38] WARNING: /Users/runner/work/xgboost/xgboost/src/objective/regression_obj.cu:227: reg:linear is now deprecated in favor of reg:squarederror.\n",
      "  warnings.warn(smsg, UserWarning)\n",
      "/Users/shalinijawale/anaconda3/lib/python3.11/site-packages/xgboost/core.py:158: UserWarning: [17:22:38] WARNING: /Users/runner/work/xgboost/xgboost/src/learner.cc:740: \n",
      "Parameters: { \"silent\" } are not used.\n",
      "\n",
      "  warnings.warn(smsg, UserWarning)\n",
      " 36%|███████████████████████████████████████████████████████████▉                                                                                                           | 33/92 [01:35<01:56,  1.97s/it]"
     ]
    },
    {
     "name": "stdout",
     "output_type": "stream",
     "text": [
      "Train score for 62 : 0.6097557558712621\n"
     ]
    },
    {
     "name": "stderr",
     "output_type": "stream",
     "text": [
      "/Users/shalinijawale/anaconda3/lib/python3.11/site-packages/xgboost/core.py:158: UserWarning: [17:22:40] WARNING: /Users/runner/work/xgboost/xgboost/src/objective/regression_obj.cu:227: reg:linear is now deprecated in favor of reg:squarederror.\n",
      "  warnings.warn(smsg, UserWarning)\n",
      "/Users/shalinijawale/anaconda3/lib/python3.11/site-packages/xgboost/core.py:158: UserWarning: [17:22:40] WARNING: /Users/runner/work/xgboost/xgboost/src/learner.cc:740: \n",
      "Parameters: { \"silent\" } are not used.\n",
      "\n",
      "  warnings.warn(smsg, UserWarning)\n",
      " 37%|█████████████████████████████████████████████████████████████▋                                                                                                         | 34/92 [01:37<02:04,  2.14s/it]"
     ]
    },
    {
     "name": "stdout",
     "output_type": "stream",
     "text": [
      "Train score for 61 : 0.6115517987071641\n"
     ]
    },
    {
     "name": "stderr",
     "output_type": "stream",
     "text": [
      "/Users/shalinijawale/anaconda3/lib/python3.11/site-packages/xgboost/core.py:158: UserWarning: [17:22:43] WARNING: /Users/runner/work/xgboost/xgboost/src/objective/regression_obj.cu:227: reg:linear is now deprecated in favor of reg:squarederror.\n",
      "  warnings.warn(smsg, UserWarning)\n",
      "/Users/shalinijawale/anaconda3/lib/python3.11/site-packages/xgboost/core.py:158: UserWarning: [17:22:43] WARNING: /Users/runner/work/xgboost/xgboost/src/learner.cc:740: \n",
      "Parameters: { \"silent\" } are not used.\n",
      "\n",
      "  warnings.warn(smsg, UserWarning)\n",
      " 38%|███████████████████████████████████████████████████████████████▌                                                                                                       | 35/92 [01:39<01:58,  2.07s/it]"
     ]
    },
    {
     "name": "stdout",
     "output_type": "stream",
     "text": [
      "Train score for 60 : 0.6087392363758344\n"
     ]
    },
    {
     "name": "stderr",
     "output_type": "stream",
     "text": [
      "/Users/shalinijawale/anaconda3/lib/python3.11/site-packages/xgboost/core.py:158: UserWarning: [17:22:45] WARNING: /Users/runner/work/xgboost/xgboost/src/objective/regression_obj.cu:227: reg:linear is now deprecated in favor of reg:squarederror.\n",
      "  warnings.warn(smsg, UserWarning)\n",
      "/Users/shalinijawale/anaconda3/lib/python3.11/site-packages/xgboost/core.py:158: UserWarning: [17:22:45] WARNING: /Users/runner/work/xgboost/xgboost/src/learner.cc:740: \n",
      "Parameters: { \"silent\" } are not used.\n",
      "\n",
      "  warnings.warn(smsg, UserWarning)\n",
      " 39%|█████████████████████████████████████████████████████████████████▎                                                                                                     | 36/92 [01:41<01:52,  2.01s/it]"
     ]
    },
    {
     "name": "stdout",
     "output_type": "stream",
     "text": [
      "Train score for 59 : 0.6091585967813766\n"
     ]
    },
    {
     "name": "stderr",
     "output_type": "stream",
     "text": [
      "/Users/shalinijawale/anaconda3/lib/python3.11/site-packages/xgboost/core.py:158: UserWarning: [17:22:46] WARNING: /Users/runner/work/xgboost/xgboost/src/objective/regression_obj.cu:227: reg:linear is now deprecated in favor of reg:squarederror.\n",
      "  warnings.warn(smsg, UserWarning)\n",
      "/Users/shalinijawale/anaconda3/lib/python3.11/site-packages/xgboost/core.py:158: UserWarning: [17:22:46] WARNING: /Users/runner/work/xgboost/xgboost/src/learner.cc:740: \n",
      "Parameters: { \"silent\" } are not used.\n",
      "\n",
      "  warnings.warn(smsg, UserWarning)\n",
      " 40%|███████████████████████████████████████████████████████████████████▏                                                                                                   | 37/92 [01:43<01:48,  1.97s/it]"
     ]
    },
    {
     "name": "stdout",
     "output_type": "stream",
     "text": [
      "Train score for 58 : 0.6097846893829231\n"
     ]
    },
    {
     "name": "stderr",
     "output_type": "stream",
     "text": [
      "/Users/shalinijawale/anaconda3/lib/python3.11/site-packages/xgboost/core.py:158: UserWarning: [17:22:48] WARNING: /Users/runner/work/xgboost/xgboost/src/objective/regression_obj.cu:227: reg:linear is now deprecated in favor of reg:squarederror.\n",
      "  warnings.warn(smsg, UserWarning)\n",
      "/Users/shalinijawale/anaconda3/lib/python3.11/site-packages/xgboost/core.py:158: UserWarning: [17:22:48] WARNING: /Users/runner/work/xgboost/xgboost/src/learner.cc:740: \n",
      "Parameters: { \"silent\" } are not used.\n",
      "\n",
      "  warnings.warn(smsg, UserWarning)\n",
      " 41%|████████████████████████████████████████████████████████████████████▉                                                                                                  | 38/92 [01:45<01:43,  1.92s/it]"
     ]
    },
    {
     "name": "stdout",
     "output_type": "stream",
     "text": [
      "Train score for 57 : 0.5946482085012552\n"
     ]
    },
    {
     "name": "stderr",
     "output_type": "stream",
     "text": [
      "/Users/shalinijawale/anaconda3/lib/python3.11/site-packages/xgboost/core.py:158: UserWarning: [17:22:50] WARNING: /Users/runner/work/xgboost/xgboost/src/objective/regression_obj.cu:227: reg:linear is now deprecated in favor of reg:squarederror.\n",
      "  warnings.warn(smsg, UserWarning)\n",
      "/Users/shalinijawale/anaconda3/lib/python3.11/site-packages/xgboost/core.py:158: UserWarning: [17:22:50] WARNING: /Users/runner/work/xgboost/xgboost/src/learner.cc:740: \n",
      "Parameters: { \"silent\" } are not used.\n",
      "\n",
      "  warnings.warn(smsg, UserWarning)\n",
      " 42%|██████████████████████████████████████████████████████████████████████▊                                                                                                | 39/92 [01:46<01:40,  1.89s/it]"
     ]
    },
    {
     "name": "stdout",
     "output_type": "stream",
     "text": [
      "Train score for 56 : 0.5939099892001294\n"
     ]
    },
    {
     "name": "stderr",
     "output_type": "stream",
     "text": [
      "/Users/shalinijawale/anaconda3/lib/python3.11/site-packages/xgboost/core.py:158: UserWarning: [17:22:52] WARNING: /Users/runner/work/xgboost/xgboost/src/objective/regression_obj.cu:227: reg:linear is now deprecated in favor of reg:squarederror.\n",
      "  warnings.warn(smsg, UserWarning)\n",
      "/Users/shalinijawale/anaconda3/lib/python3.11/site-packages/xgboost/core.py:158: UserWarning: [17:22:52] WARNING: /Users/runner/work/xgboost/xgboost/src/learner.cc:740: \n",
      "Parameters: { \"silent\" } are not used.\n",
      "\n",
      "  warnings.warn(smsg, UserWarning)\n",
      " 43%|████████████████████████████████████████████████████████████████████████▌                                                                                              | 40/92 [01:48<01:36,  1.86s/it]"
     ]
    },
    {
     "name": "stdout",
     "output_type": "stream",
     "text": [
      "Train score for 55 : 0.5929161869335453\n"
     ]
    },
    {
     "name": "stderr",
     "output_type": "stream",
     "text": [
      "/Users/shalinijawale/anaconda3/lib/python3.11/site-packages/xgboost/core.py:158: UserWarning: [17:22:54] WARNING: /Users/runner/work/xgboost/xgboost/src/objective/regression_obj.cu:227: reg:linear is now deprecated in favor of reg:squarederror.\n",
      "  warnings.warn(smsg, UserWarning)\n",
      "/Users/shalinijawale/anaconda3/lib/python3.11/site-packages/xgboost/core.py:158: UserWarning: [17:22:54] WARNING: /Users/runner/work/xgboost/xgboost/src/learner.cc:740: \n",
      "Parameters: { \"silent\" } are not used.\n",
      "\n",
      "  warnings.warn(smsg, UserWarning)\n",
      " 45%|██████████████████████████████████████████████████████████████████████████▍                                                                                            | 41/92 [01:50<01:33,  1.83s/it]"
     ]
    },
    {
     "name": "stdout",
     "output_type": "stream",
     "text": [
      "Train score for 54 : 0.5937958394885486\n"
     ]
    },
    {
     "name": "stderr",
     "output_type": "stream",
     "text": [
      "/Users/shalinijawale/anaconda3/lib/python3.11/site-packages/xgboost/core.py:158: UserWarning: [17:22:56] WARNING: /Users/runner/work/xgboost/xgboost/src/objective/regression_obj.cu:227: reg:linear is now deprecated in favor of reg:squarederror.\n",
      "  warnings.warn(smsg, UserWarning)\n",
      "/Users/shalinijawale/anaconda3/lib/python3.11/site-packages/xgboost/core.py:158: UserWarning: [17:22:56] WARNING: /Users/runner/work/xgboost/xgboost/src/learner.cc:740: \n",
      "Parameters: { \"silent\" } are not used.\n",
      "\n",
      "  warnings.warn(smsg, UserWarning)\n",
      " 46%|████████████████████████████████████████████████████████████████████████████▏                                                                                          | 42/92 [01:52<01:30,  1.81s/it]"
     ]
    },
    {
     "name": "stdout",
     "output_type": "stream",
     "text": [
      "Train score for 53 : 0.5942066522488735\n"
     ]
    },
    {
     "name": "stderr",
     "output_type": "stream",
     "text": [
      "/Users/shalinijawale/anaconda3/lib/python3.11/site-packages/xgboost/core.py:158: UserWarning: [17:22:57] WARNING: /Users/runner/work/xgboost/xgboost/src/objective/regression_obj.cu:227: reg:linear is now deprecated in favor of reg:squarederror.\n",
      "  warnings.warn(smsg, UserWarning)\n",
      "/Users/shalinijawale/anaconda3/lib/python3.11/site-packages/xgboost/core.py:158: UserWarning: [17:22:57] WARNING: /Users/runner/work/xgboost/xgboost/src/learner.cc:740: \n",
      "Parameters: { \"silent\" } are not used.\n",
      "\n",
      "  warnings.warn(smsg, UserWarning)\n",
      " 47%|██████████████████████████████████████████████████████████████████████████████                                                                                         | 43/92 [01:54<01:28,  1.81s/it]"
     ]
    },
    {
     "name": "stdout",
     "output_type": "stream",
     "text": [
      "Train score for 52 : 0.5919675759673766\n"
     ]
    },
    {
     "name": "stderr",
     "output_type": "stream",
     "text": [
      "/Users/shalinijawale/anaconda3/lib/python3.11/site-packages/xgboost/core.py:158: UserWarning: [17:22:59] WARNING: /Users/runner/work/xgboost/xgboost/src/objective/regression_obj.cu:227: reg:linear is now deprecated in favor of reg:squarederror.\n",
      "  warnings.warn(smsg, UserWarning)\n",
      "/Users/shalinijawale/anaconda3/lib/python3.11/site-packages/xgboost/core.py:158: UserWarning: [17:22:59] WARNING: /Users/runner/work/xgboost/xgboost/src/learner.cc:740: \n",
      "Parameters: { \"silent\" } are not used.\n",
      "\n",
      "  warnings.warn(smsg, UserWarning)\n",
      " 48%|███████████████████████████████████████████████████████████████████████████████▊                                                                                       | 44/92 [01:55<01:25,  1.79s/it]"
     ]
    },
    {
     "name": "stdout",
     "output_type": "stream",
     "text": [
      "Train score for 51 : 0.5928856796859492\n"
     ]
    },
    {
     "name": "stderr",
     "output_type": "stream",
     "text": [
      "/Users/shalinijawale/anaconda3/lib/python3.11/site-packages/xgboost/core.py:158: UserWarning: [17:23:01] WARNING: /Users/runner/work/xgboost/xgboost/src/objective/regression_obj.cu:227: reg:linear is now deprecated in favor of reg:squarederror.\n",
      "  warnings.warn(smsg, UserWarning)\n",
      "/Users/shalinijawale/anaconda3/lib/python3.11/site-packages/xgboost/core.py:158: UserWarning: [17:23:01] WARNING: /Users/runner/work/xgboost/xgboost/src/learner.cc:740: \n",
      "Parameters: { \"silent\" } are not used.\n",
      "\n",
      "  warnings.warn(smsg, UserWarning)\n",
      " 49%|█████████████████████████████████████████████████████████████████████████████████▋                                                                                     | 45/92 [01:58<01:34,  2.01s/it]"
     ]
    },
    {
     "name": "stdout",
     "output_type": "stream",
     "text": [
      "Train score for 50 : 0.5921859953305028\n"
     ]
    },
    {
     "name": "stderr",
     "output_type": "stream",
     "text": [
      "/Users/shalinijawale/anaconda3/lib/python3.11/site-packages/xgboost/core.py:158: UserWarning: [17:23:03] WARNING: /Users/runner/work/xgboost/xgboost/src/objective/regression_obj.cu:227: reg:linear is now deprecated in favor of reg:squarederror.\n",
      "  warnings.warn(smsg, UserWarning)\n",
      "/Users/shalinijawale/anaconda3/lib/python3.11/site-packages/xgboost/core.py:158: UserWarning: [17:23:03] WARNING: /Users/runner/work/xgboost/xgboost/src/learner.cc:740: \n",
      "Parameters: { \"silent\" } are not used.\n",
      "\n",
      "  warnings.warn(smsg, UserWarning)\n",
      " 50%|███████████████████████████████████████████████████████████████████████████████████▌                                                                                   | 46/92 [02:00<01:30,  1.98s/it]"
     ]
    },
    {
     "name": "stdout",
     "output_type": "stream",
     "text": [
      "Train score for 49 : 0.5902619237372613\n"
     ]
    },
    {
     "name": "stderr",
     "output_type": "stream",
     "text": [
      "/Users/shalinijawale/anaconda3/lib/python3.11/site-packages/xgboost/core.py:158: UserWarning: [17:23:05] WARNING: /Users/runner/work/xgboost/xgboost/src/objective/regression_obj.cu:227: reg:linear is now deprecated in favor of reg:squarederror.\n",
      "  warnings.warn(smsg, UserWarning)\n",
      "/Users/shalinijawale/anaconda3/lib/python3.11/site-packages/xgboost/core.py:158: UserWarning: [17:23:05] WARNING: /Users/runner/work/xgboost/xgboost/src/learner.cc:740: \n",
      "Parameters: { \"silent\" } are not used.\n",
      "\n",
      "  warnings.warn(smsg, UserWarning)\n",
      " 51%|█████████████████████████████████████████████████████████████████████████████████████▎                                                                                 | 47/92 [02:02<01:27,  1.95s/it]"
     ]
    },
    {
     "name": "stdout",
     "output_type": "stream",
     "text": [
      "Train score for 48 : 0.5836478755000858\n"
     ]
    },
    {
     "name": "stderr",
     "output_type": "stream",
     "text": [
      "/Users/shalinijawale/anaconda3/lib/python3.11/site-packages/xgboost/core.py:158: UserWarning: [17:23:07] WARNING: /Users/runner/work/xgboost/xgboost/src/objective/regression_obj.cu:227: reg:linear is now deprecated in favor of reg:squarederror.\n",
      "  warnings.warn(smsg, UserWarning)\n",
      "/Users/shalinijawale/anaconda3/lib/python3.11/site-packages/xgboost/core.py:158: UserWarning: [17:23:07] WARNING: /Users/runner/work/xgboost/xgboost/src/learner.cc:740: \n",
      "Parameters: { \"silent\" } are not used.\n",
      "\n",
      "  warnings.warn(smsg, UserWarning)\n",
      " 52%|███████████████████████████████████████████████████████████████████████████████████████▏                                                                               | 48/92 [02:03<01:22,  1.88s/it]"
     ]
    },
    {
     "name": "stdout",
     "output_type": "stream",
     "text": [
      "Train score for 47 : 0.5792404262222558\n"
     ]
    },
    {
     "name": "stderr",
     "output_type": "stream",
     "text": [
      "/Users/shalinijawale/anaconda3/lib/python3.11/site-packages/xgboost/core.py:158: UserWarning: [17:23:09] WARNING: /Users/runner/work/xgboost/xgboost/src/objective/regression_obj.cu:227: reg:linear is now deprecated in favor of reg:squarederror.\n",
      "  warnings.warn(smsg, UserWarning)\n",
      "/Users/shalinijawale/anaconda3/lib/python3.11/site-packages/xgboost/core.py:158: UserWarning: [17:23:09] WARNING: /Users/runner/work/xgboost/xgboost/src/learner.cc:740: \n",
      "Parameters: { \"silent\" } are not used.\n",
      "\n",
      "  warnings.warn(smsg, UserWarning)\n",
      " 53%|████████████████████████████████████████████████████████████████████████████████████████▉                                                                              | 49/92 [02:05<01:18,  1.82s/it]"
     ]
    },
    {
     "name": "stdout",
     "output_type": "stream",
     "text": [
      "Train score for 46 : 0.5772738025820956\n"
     ]
    },
    {
     "name": "stderr",
     "output_type": "stream",
     "text": [
      "/Users/shalinijawale/anaconda3/lib/python3.11/site-packages/xgboost/core.py:158: UserWarning: [17:23:11] WARNING: /Users/runner/work/xgboost/xgboost/src/objective/regression_obj.cu:227: reg:linear is now deprecated in favor of reg:squarederror.\n",
      "  warnings.warn(smsg, UserWarning)\n",
      "/Users/shalinijawale/anaconda3/lib/python3.11/site-packages/xgboost/core.py:158: UserWarning: [17:23:11] WARNING: /Users/runner/work/xgboost/xgboost/src/learner.cc:740: \n",
      "Parameters: { \"silent\" } are not used.\n",
      "\n",
      "  warnings.warn(smsg, UserWarning)\n",
      " 54%|██████████████████████████████████████████████████████████████████████████████████████████▊                                                                            | 50/92 [02:07<01:16,  1.83s/it]"
     ]
    },
    {
     "name": "stdout",
     "output_type": "stream",
     "text": [
      "Train score for 45 : 0.5724948915984401\n"
     ]
    },
    {
     "name": "stderr",
     "output_type": "stream",
     "text": [
      "/Users/shalinijawale/anaconda3/lib/python3.11/site-packages/xgboost/core.py:158: UserWarning: [17:23:12] WARNING: /Users/runner/work/xgboost/xgboost/src/objective/regression_obj.cu:227: reg:linear is now deprecated in favor of reg:squarederror.\n",
      "  warnings.warn(smsg, UserWarning)\n",
      "/Users/shalinijawale/anaconda3/lib/python3.11/site-packages/xgboost/core.py:158: UserWarning: [17:23:12] WARNING: /Users/runner/work/xgboost/xgboost/src/learner.cc:740: \n",
      "Parameters: { \"silent\" } are not used.\n",
      "\n",
      "  warnings.warn(smsg, UserWarning)\n",
      " 55%|████████████████████████████████████████████████████████████████████████████████████████████▌                                                                          | 51/92 [02:09<01:18,  1.91s/it]"
     ]
    },
    {
     "name": "stdout",
     "output_type": "stream",
     "text": [
      "Train score for 44 : 0.5713734187718678\n"
     ]
    },
    {
     "name": "stderr",
     "output_type": "stream",
     "text": [
      "/Users/shalinijawale/anaconda3/lib/python3.11/site-packages/xgboost/core.py:158: UserWarning: [17:23:15] WARNING: /Users/runner/work/xgboost/xgboost/src/objective/regression_obj.cu:227: reg:linear is now deprecated in favor of reg:squarederror.\n",
      "  warnings.warn(smsg, UserWarning)\n",
      "/Users/shalinijawale/anaconda3/lib/python3.11/site-packages/xgboost/core.py:158: UserWarning: [17:23:15] WARNING: /Users/runner/work/xgboost/xgboost/src/learner.cc:740: \n",
      "Parameters: { \"silent\" } are not used.\n",
      "\n",
      "  warnings.warn(smsg, UserWarning)\n",
      " 57%|██████████████████████████████████████████████████████████████████████████████████████████████▍                                                                        | 52/92 [02:11<01:23,  2.09s/it]"
     ]
    },
    {
     "name": "stdout",
     "output_type": "stream",
     "text": [
      "Train score for 43 : 0.47589647459785334\n"
     ]
    },
    {
     "name": "stderr",
     "output_type": "stream",
     "text": [
      "/Users/shalinijawale/anaconda3/lib/python3.11/site-packages/xgboost/core.py:158: UserWarning: [17:23:17] WARNING: /Users/runner/work/xgboost/xgboost/src/objective/regression_obj.cu:227: reg:linear is now deprecated in favor of reg:squarederror.\n",
      "  warnings.warn(smsg, UserWarning)\n",
      "/Users/shalinijawale/anaconda3/lib/python3.11/site-packages/xgboost/core.py:158: UserWarning: [17:23:17] WARNING: /Users/runner/work/xgboost/xgboost/src/learner.cc:740: \n",
      "Parameters: { \"silent\" } are not used.\n",
      "\n",
      "  warnings.warn(smsg, UserWarning)\n",
      " 58%|████████████████████████████████████████████████████████████████████████████████████████████████▏                                                                      | 53/92 [02:13<01:20,  2.08s/it]"
     ]
    },
    {
     "name": "stdout",
     "output_type": "stream",
     "text": [
      "Train score for 42 : 0.46855515003277914\n"
     ]
    },
    {
     "name": "stderr",
     "output_type": "stream",
     "text": [
      "/Users/shalinijawale/anaconda3/lib/python3.11/site-packages/xgboost/core.py:158: UserWarning: [17:23:19] WARNING: /Users/runner/work/xgboost/xgboost/src/objective/regression_obj.cu:227: reg:linear is now deprecated in favor of reg:squarederror.\n",
      "  warnings.warn(smsg, UserWarning)\n",
      "/Users/shalinijawale/anaconda3/lib/python3.11/site-packages/xgboost/core.py:158: UserWarning: [17:23:19] WARNING: /Users/runner/work/xgboost/xgboost/src/learner.cc:740: \n",
      "Parameters: { \"silent\" } are not used.\n",
      "\n",
      "  warnings.warn(smsg, UserWarning)\n",
      " 59%|██████████████████████████████████████████████████████████████████████████████████████████████████                                                                     | 54/92 [02:15<01:13,  1.92s/it]"
     ]
    },
    {
     "name": "stdout",
     "output_type": "stream",
     "text": [
      "Train score for 41 : 0.46834592121242746\n"
     ]
    },
    {
     "name": "stderr",
     "output_type": "stream",
     "text": [
      "/Users/shalinijawale/anaconda3/lib/python3.11/site-packages/xgboost/core.py:158: UserWarning: [17:23:21] WARNING: /Users/runner/work/xgboost/xgboost/src/objective/regression_obj.cu:227: reg:linear is now deprecated in favor of reg:squarederror.\n",
      "  warnings.warn(smsg, UserWarning)\n",
      "/Users/shalinijawale/anaconda3/lib/python3.11/site-packages/xgboost/core.py:158: UserWarning: [17:23:21] WARNING: /Users/runner/work/xgboost/xgboost/src/learner.cc:740: \n",
      "Parameters: { \"silent\" } are not used.\n",
      "\n",
      "  warnings.warn(smsg, UserWarning)\n",
      " 60%|███████████████████████████████████████████████████████████████████████████████████████████████████▊                                                                   | 55/92 [02:17<01:06,  1.80s/it]"
     ]
    },
    {
     "name": "stdout",
     "output_type": "stream",
     "text": [
      "Train score for 40 : 0.4681718598905825\n"
     ]
    },
    {
     "name": "stderr",
     "output_type": "stream",
     "text": [
      "/Users/shalinijawale/anaconda3/lib/python3.11/site-packages/xgboost/core.py:158: UserWarning: [17:23:22] WARNING: /Users/runner/work/xgboost/xgboost/src/objective/regression_obj.cu:227: reg:linear is now deprecated in favor of reg:squarederror.\n",
      "  warnings.warn(smsg, UserWarning)\n",
      "/Users/shalinijawale/anaconda3/lib/python3.11/site-packages/xgboost/core.py:158: UserWarning: [17:23:22] WARNING: /Users/runner/work/xgboost/xgboost/src/learner.cc:740: \n",
      "Parameters: { \"silent\" } are not used.\n",
      "\n",
      "  warnings.warn(smsg, UserWarning)\n",
      " 61%|█████████████████████████████████████████████████████████████████████████████████████████████████████▋                                                                 | 56/92 [02:18<01:00,  1.69s/it]"
     ]
    },
    {
     "name": "stdout",
     "output_type": "stream",
     "text": [
      "Train score for 39 : 0.4667535247362671\n"
     ]
    },
    {
     "name": "stderr",
     "output_type": "stream",
     "text": [
      "/Users/shalinijawale/anaconda3/lib/python3.11/site-packages/xgboost/core.py:158: UserWarning: [17:23:24] WARNING: /Users/runner/work/xgboost/xgboost/src/objective/regression_obj.cu:227: reg:linear is now deprecated in favor of reg:squarederror.\n",
      "  warnings.warn(smsg, UserWarning)\n",
      "/Users/shalinijawale/anaconda3/lib/python3.11/site-packages/xgboost/core.py:158: UserWarning: [17:23:24] WARNING: /Users/runner/work/xgboost/xgboost/src/learner.cc:740: \n",
      "Parameters: { \"silent\" } are not used.\n",
      "\n",
      "  warnings.warn(smsg, UserWarning)\n",
      " 62%|███████████████████████████████████████████████████████████████████████████████████████████████████████▍                                                               | 57/92 [02:19<00:56,  1.61s/it]"
     ]
    },
    {
     "name": "stdout",
     "output_type": "stream",
     "text": [
      "Train score for 38 : 0.4692124013427057\n"
     ]
    },
    {
     "name": "stderr",
     "output_type": "stream",
     "text": [
      "/Users/shalinijawale/anaconda3/lib/python3.11/site-packages/xgboost/core.py:158: UserWarning: [17:23:25] WARNING: /Users/runner/work/xgboost/xgboost/src/objective/regression_obj.cu:227: reg:linear is now deprecated in favor of reg:squarederror.\n",
      "  warnings.warn(smsg, UserWarning)\n",
      "/Users/shalinijawale/anaconda3/lib/python3.11/site-packages/xgboost/core.py:158: UserWarning: [17:23:25] WARNING: /Users/runner/work/xgboost/xgboost/src/learner.cc:740: \n",
      "Parameters: { \"silent\" } are not used.\n",
      "\n",
      "  warnings.warn(smsg, UserWarning)\n",
      " 63%|█████████████████████████████████████████████████████████████████████████████████████████████████████████▎                                                             | 58/92 [02:21<00:53,  1.57s/it]"
     ]
    },
    {
     "name": "stdout",
     "output_type": "stream",
     "text": [
      "Train score for 37 : 0.4625012910477081\n"
     ]
    },
    {
     "name": "stderr",
     "output_type": "stream",
     "text": [
      "/Users/shalinijawale/anaconda3/lib/python3.11/site-packages/xgboost/core.py:158: UserWarning: [17:23:26] WARNING: /Users/runner/work/xgboost/xgboost/src/objective/regression_obj.cu:227: reg:linear is now deprecated in favor of reg:squarederror.\n",
      "  warnings.warn(smsg, UserWarning)\n",
      "/Users/shalinijawale/anaconda3/lib/python3.11/site-packages/xgboost/core.py:158: UserWarning: [17:23:26] WARNING: /Users/runner/work/xgboost/xgboost/src/learner.cc:740: \n",
      "Parameters: { \"silent\" } are not used.\n",
      "\n",
      "  warnings.warn(smsg, UserWarning)\n",
      " 64%|███████████████████████████████████████████████████████████████████████████████████████████████████████████                                                            | 59/92 [02:22<00:50,  1.53s/it]"
     ]
    },
    {
     "name": "stdout",
     "output_type": "stream",
     "text": [
      "Train score for 36 : 0.46176270901163285\n"
     ]
    },
    {
     "name": "stderr",
     "output_type": "stream",
     "text": [
      "/Users/shalinijawale/anaconda3/lib/python3.11/site-packages/xgboost/core.py:158: UserWarning: [17:23:28] WARNING: /Users/runner/work/xgboost/xgboost/src/objective/regression_obj.cu:227: reg:linear is now deprecated in favor of reg:squarederror.\n",
      "  warnings.warn(smsg, UserWarning)\n",
      "/Users/shalinijawale/anaconda3/lib/python3.11/site-packages/xgboost/core.py:158: UserWarning: [17:23:28] WARNING: /Users/runner/work/xgboost/xgboost/src/learner.cc:740: \n",
      "Parameters: { \"silent\" } are not used.\n",
      "\n",
      "  warnings.warn(smsg, UserWarning)\n",
      " 65%|████████████████████████████████████████████████████████████████████████████████████████████████████████████▉                                                          | 60/92 [02:24<00:48,  1.52s/it]"
     ]
    },
    {
     "name": "stdout",
     "output_type": "stream",
     "text": [
      "Train score for 35 : 0.46135169631236883\n"
     ]
    },
    {
     "name": "stderr",
     "output_type": "stream",
     "text": [
      "/Users/shalinijawale/anaconda3/lib/python3.11/site-packages/xgboost/core.py:158: UserWarning: [17:23:29] WARNING: /Users/runner/work/xgboost/xgboost/src/objective/regression_obj.cu:227: reg:linear is now deprecated in favor of reg:squarederror.\n",
      "  warnings.warn(smsg, UserWarning)\n",
      "/Users/shalinijawale/anaconda3/lib/python3.11/site-packages/xgboost/core.py:158: UserWarning: [17:23:29] WARNING: /Users/runner/work/xgboost/xgboost/src/learner.cc:740: \n",
      "Parameters: { \"silent\" } are not used.\n",
      "\n",
      "  warnings.warn(smsg, UserWarning)\n",
      " 66%|██████████████████████████████████████████████████████████████████████████████████████████████████████████████▋                                                        | 61/92 [02:25<00:45,  1.48s/it]"
     ]
    },
    {
     "name": "stdout",
     "output_type": "stream",
     "text": [
      "Train score for 34 : 0.46062617594512967\n"
     ]
    },
    {
     "name": "stderr",
     "output_type": "stream",
     "text": [
      "/Users/shalinijawale/anaconda3/lib/python3.11/site-packages/xgboost/core.py:158: UserWarning: [17:23:31] WARNING: /Users/runner/work/xgboost/xgboost/src/objective/regression_obj.cu:227: reg:linear is now deprecated in favor of reg:squarederror.\n",
      "  warnings.warn(smsg, UserWarning)\n",
      "/Users/shalinijawale/anaconda3/lib/python3.11/site-packages/xgboost/core.py:158: UserWarning: [17:23:31] WARNING: /Users/runner/work/xgboost/xgboost/src/learner.cc:740: \n",
      "Parameters: { \"silent\" } are not used.\n",
      "\n",
      "  warnings.warn(smsg, UserWarning)\n",
      " 67%|████████████████████████████████████████████████████████████████████████████████████████████████████████████████▌                                                      | 62/92 [02:27<00:43,  1.46s/it]"
     ]
    },
    {
     "name": "stdout",
     "output_type": "stream",
     "text": [
      "Train score for 33 : 0.4567215981638886\n"
     ]
    },
    {
     "name": "stderr",
     "output_type": "stream",
     "text": [
      "/Users/shalinijawale/anaconda3/lib/python3.11/site-packages/xgboost/core.py:158: UserWarning: [17:23:32] WARNING: /Users/runner/work/xgboost/xgboost/src/objective/regression_obj.cu:227: reg:linear is now deprecated in favor of reg:squarederror.\n",
      "  warnings.warn(smsg, UserWarning)\n",
      "/Users/shalinijawale/anaconda3/lib/python3.11/site-packages/xgboost/core.py:158: UserWarning: [17:23:32] WARNING: /Users/runner/work/xgboost/xgboost/src/learner.cc:740: \n",
      "Parameters: { \"silent\" } are not used.\n",
      "\n",
      "  warnings.warn(smsg, UserWarning)\n",
      " 68%|██████████████████████████████████████████████████████████████████████████████████████████████████████████████████▎                                                    | 63/92 [02:29<00:48,  1.67s/it]"
     ]
    },
    {
     "name": "stdout",
     "output_type": "stream",
     "text": [
      "Train score for 32 : 0.4525599201070316\n"
     ]
    },
    {
     "name": "stderr",
     "output_type": "stream",
     "text": [
      "/Users/shalinijawale/anaconda3/lib/python3.11/site-packages/xgboost/core.py:158: UserWarning: [17:23:34] WARNING: /Users/runner/work/xgboost/xgboost/src/objective/regression_obj.cu:227: reg:linear is now deprecated in favor of reg:squarederror.\n",
      "  warnings.warn(smsg, UserWarning)\n",
      "/Users/shalinijawale/anaconda3/lib/python3.11/site-packages/xgboost/core.py:158: UserWarning: [17:23:34] WARNING: /Users/runner/work/xgboost/xgboost/src/learner.cc:740: \n",
      "Parameters: { \"silent\" } are not used.\n",
      "\n",
      "  warnings.warn(smsg, UserWarning)\n",
      " 70%|████████████████████████████████████████████████████████████████████████████████████████████████████████████████████▏                                                  | 64/92 [02:30<00:44,  1.58s/it]"
     ]
    },
    {
     "name": "stdout",
     "output_type": "stream",
     "text": [
      "Train score for 31 : 0.4517495766093286\n"
     ]
    },
    {
     "name": "stderr",
     "output_type": "stream",
     "text": [
      "/Users/shalinijawale/anaconda3/lib/python3.11/site-packages/xgboost/core.py:158: UserWarning: [17:23:36] WARNING: /Users/runner/work/xgboost/xgboost/src/objective/regression_obj.cu:227: reg:linear is now deprecated in favor of reg:squarederror.\n",
      "  warnings.warn(smsg, UserWarning)\n",
      "/Users/shalinijawale/anaconda3/lib/python3.11/site-packages/xgboost/core.py:158: UserWarning: [17:23:36] WARNING: /Users/runner/work/xgboost/xgboost/src/learner.cc:740: \n",
      "Parameters: { \"silent\" } are not used.\n",
      "\n",
      "  warnings.warn(smsg, UserWarning)\n",
      " 71%|█████████████████████████████████████████████████████████████████████████████████████████████████████████████████████▉                                                 | 65/92 [02:32<00:41,  1.52s/it]"
     ]
    },
    {
     "name": "stdout",
     "output_type": "stream",
     "text": [
      "Train score for 30 : 0.45182378250909694\n"
     ]
    },
    {
     "name": "stderr",
     "output_type": "stream",
     "text": [
      "/Users/shalinijawale/anaconda3/lib/python3.11/site-packages/xgboost/core.py:158: UserWarning: [17:23:37] WARNING: /Users/runner/work/xgboost/xgboost/src/objective/regression_obj.cu:227: reg:linear is now deprecated in favor of reg:squarederror.\n",
      "  warnings.warn(smsg, UserWarning)\n",
      "/Users/shalinijawale/anaconda3/lib/python3.11/site-packages/xgboost/core.py:158: UserWarning: [17:23:37] WARNING: /Users/runner/work/xgboost/xgboost/src/learner.cc:740: \n",
      "Parameters: { \"silent\" } are not used.\n",
      "\n",
      "  warnings.warn(smsg, UserWarning)\n",
      " 72%|███████████████████████████████████████████████████████████████████████████████████████████████████████████████████████▊                                               | 66/92 [02:33<00:38,  1.47s/it]"
     ]
    },
    {
     "name": "stdout",
     "output_type": "stream",
     "text": [
      "Train score for 29 : 0.44439653628096754\n"
     ]
    },
    {
     "name": "stderr",
     "output_type": "stream",
     "text": [
      "/Users/shalinijawale/anaconda3/lib/python3.11/site-packages/xgboost/core.py:158: UserWarning: [17:23:38] WARNING: /Users/runner/work/xgboost/xgboost/src/objective/regression_obj.cu:227: reg:linear is now deprecated in favor of reg:squarederror.\n",
      "  warnings.warn(smsg, UserWarning)\n",
      "/Users/shalinijawale/anaconda3/lib/python3.11/site-packages/xgboost/core.py:158: UserWarning: [17:23:38] WARNING: /Users/runner/work/xgboost/xgboost/src/learner.cc:740: \n",
      "Parameters: { \"silent\" } are not used.\n",
      "\n",
      "  warnings.warn(smsg, UserWarning)\n",
      " 73%|█████████████████████████████████████████████████████████████████████████████████████████████████████████████████████████▌                                             | 67/92 [02:34<00:35,  1.42s/it]"
     ]
    },
    {
     "name": "stdout",
     "output_type": "stream",
     "text": [
      "Train score for 28 : 0.4402806199421774\n"
     ]
    },
    {
     "name": "stderr",
     "output_type": "stream",
     "text": [
      "/Users/shalinijawale/anaconda3/lib/python3.11/site-packages/xgboost/core.py:158: UserWarning: [17:23:40] WARNING: /Users/runner/work/xgboost/xgboost/src/objective/regression_obj.cu:227: reg:linear is now deprecated in favor of reg:squarederror.\n",
      "  warnings.warn(smsg, UserWarning)\n",
      "/Users/shalinijawale/anaconda3/lib/python3.11/site-packages/xgboost/core.py:158: UserWarning: [17:23:40] WARNING: /Users/runner/work/xgboost/xgboost/src/learner.cc:740: \n",
      "Parameters: { \"silent\" } are not used.\n",
      "\n",
      "  warnings.warn(smsg, UserWarning)\n",
      " 74%|███████████████████████████████████████████████████████████████████████████████████████████████████████████████████████████▍                                           | 68/92 [02:36<00:33,  1.41s/it]"
     ]
    },
    {
     "name": "stdout",
     "output_type": "stream",
     "text": [
      "Train score for 27 : 0.43978970806970474\n"
     ]
    },
    {
     "name": "stderr",
     "output_type": "stream",
     "text": [
      "/Users/shalinijawale/anaconda3/lib/python3.11/site-packages/xgboost/core.py:158: UserWarning: [17:23:41] WARNING: /Users/runner/work/xgboost/xgboost/src/objective/regression_obj.cu:227: reg:linear is now deprecated in favor of reg:squarederror.\n",
      "  warnings.warn(smsg, UserWarning)\n",
      "/Users/shalinijawale/anaconda3/lib/python3.11/site-packages/xgboost/core.py:158: UserWarning: [17:23:41] WARNING: /Users/runner/work/xgboost/xgboost/src/learner.cc:740: \n",
      "Parameters: { \"silent\" } are not used.\n",
      "\n",
      "  warnings.warn(smsg, UserWarning)\n",
      " 75%|█████████████████████████████████████████████████████████████████████████████████████████████████████████████████████████████▎                                         | 69/92 [02:37<00:32,  1.43s/it]"
     ]
    },
    {
     "name": "stdout",
     "output_type": "stream",
     "text": [
      "Train score for 26 : 0.43682861445476273\n"
     ]
    },
    {
     "name": "stderr",
     "output_type": "stream",
     "text": [
      "/Users/shalinijawale/anaconda3/lib/python3.11/site-packages/xgboost/core.py:158: UserWarning: [17:23:43] WARNING: /Users/runner/work/xgboost/xgboost/src/objective/regression_obj.cu:227: reg:linear is now deprecated in favor of reg:squarederror.\n",
      "  warnings.warn(smsg, UserWarning)\n",
      "/Users/shalinijawale/anaconda3/lib/python3.11/site-packages/xgboost/core.py:158: UserWarning: [17:23:43] WARNING: /Users/runner/work/xgboost/xgboost/src/learner.cc:740: \n",
      "Parameters: { \"silent\" } are not used.\n",
      "\n",
      "  warnings.warn(smsg, UserWarning)\n",
      " 76%|███████████████████████████████████████████████████████████████████████████████████████████████████████████████████████████████                                        | 70/92 [02:39<00:34,  1.57s/it]"
     ]
    },
    {
     "name": "stdout",
     "output_type": "stream",
     "text": [
      "Train score for 25 : 0.4378094106982251\n"
     ]
    },
    {
     "name": "stderr",
     "output_type": "stream",
     "text": [
      "/Users/shalinijawale/anaconda3/lib/python3.11/site-packages/xgboost/core.py:158: UserWarning: [17:23:45] WARNING: /Users/runner/work/xgboost/xgboost/src/objective/regression_obj.cu:227: reg:linear is now deprecated in favor of reg:squarederror.\n",
      "  warnings.warn(smsg, UserWarning)\n",
      "/Users/shalinijawale/anaconda3/lib/python3.11/site-packages/xgboost/core.py:158: UserWarning: [17:23:45] WARNING: /Users/runner/work/xgboost/xgboost/src/learner.cc:740: \n",
      "Parameters: { \"silent\" } are not used.\n",
      "\n",
      "  warnings.warn(smsg, UserWarning)\n",
      " 77%|████████████████████████████████████████████████████████████████████████████████████████████████████████████████████████████████▉                                      | 71/92 [02:40<00:31,  1.49s/it]"
     ]
    },
    {
     "name": "stdout",
     "output_type": "stream",
     "text": [
      "Train score for 24 : 0.4354407756679486\n"
     ]
    },
    {
     "name": "stderr",
     "output_type": "stream",
     "text": [
      "/Users/shalinijawale/anaconda3/lib/python3.11/site-packages/xgboost/core.py:158: UserWarning: [17:23:46] WARNING: /Users/runner/work/xgboost/xgboost/src/objective/regression_obj.cu:227: reg:linear is now deprecated in favor of reg:squarederror.\n",
      "  warnings.warn(smsg, UserWarning)\n",
      "/Users/shalinijawale/anaconda3/lib/python3.11/site-packages/xgboost/core.py:158: UserWarning: [17:23:46] WARNING: /Users/runner/work/xgboost/xgboost/src/learner.cc:740: \n",
      "Parameters: { \"silent\" } are not used.\n",
      "\n",
      "  warnings.warn(smsg, UserWarning)\n",
      " 78%|██████████████████████████████████████████████████████████████████████████████████████████████████████████████████████████████████▋                                    | 72/92 [02:41<00:28,  1.40s/it]"
     ]
    },
    {
     "name": "stdout",
     "output_type": "stream",
     "text": [
      "Train score for 23 : 0.421051707699978\n"
     ]
    },
    {
     "name": "stderr",
     "output_type": "stream",
     "text": [
      "/Users/shalinijawale/anaconda3/lib/python3.11/site-packages/xgboost/core.py:158: UserWarning: [17:23:47] WARNING: /Users/runner/work/xgboost/xgboost/src/objective/regression_obj.cu:227: reg:linear is now deprecated in favor of reg:squarederror.\n",
      "  warnings.warn(smsg, UserWarning)\n",
      "/Users/shalinijawale/anaconda3/lib/python3.11/site-packages/xgboost/core.py:158: UserWarning: [17:23:47] WARNING: /Users/runner/work/xgboost/xgboost/src/learner.cc:740: \n",
      "Parameters: { \"silent\" } are not used.\n",
      "\n",
      "  warnings.warn(smsg, UserWarning)\n",
      " 79%|████████████████████████████████████████████████████████████████████████████████████████████████████████████████████████████████████▌                                  | 73/92 [02:43<00:25,  1.34s/it]"
     ]
    },
    {
     "name": "stdout",
     "output_type": "stream",
     "text": [
      "Train score for 22 : 0.42081405591128584\n"
     ]
    },
    {
     "name": "stderr",
     "output_type": "stream",
     "text": [
      "/Users/shalinijawale/anaconda3/lib/python3.11/site-packages/xgboost/core.py:158: UserWarning: [17:23:48] WARNING: /Users/runner/work/xgboost/xgboost/src/objective/regression_obj.cu:227: reg:linear is now deprecated in favor of reg:squarederror.\n",
      "  warnings.warn(smsg, UserWarning)\n",
      "/Users/shalinijawale/anaconda3/lib/python3.11/site-packages/xgboost/core.py:158: UserWarning: [17:23:48] WARNING: /Users/runner/work/xgboost/xgboost/src/learner.cc:740: \n",
      "Parameters: { \"silent\" } are not used.\n",
      "\n",
      "  warnings.warn(smsg, UserWarning)\n",
      " 80%|██████████████████████████████████████████████████████████████████████████████████████████████████████████████████████████████████████▎                                | 74/92 [02:44<00:23,  1.32s/it]"
     ]
    },
    {
     "name": "stdout",
     "output_type": "stream",
     "text": [
      "Train score for 21 : 0.41021502478394345\n"
     ]
    },
    {
     "name": "stderr",
     "output_type": "stream",
     "text": [
      "/Users/shalinijawale/anaconda3/lib/python3.11/site-packages/xgboost/core.py:158: UserWarning: [17:23:49] WARNING: /Users/runner/work/xgboost/xgboost/src/objective/regression_obj.cu:227: reg:linear is now deprecated in favor of reg:squarederror.\n",
      "  warnings.warn(smsg, UserWarning)\n",
      "/Users/shalinijawale/anaconda3/lib/python3.11/site-packages/xgboost/core.py:158: UserWarning: [17:23:49] WARNING: /Users/runner/work/xgboost/xgboost/src/learner.cc:740: \n",
      "Parameters: { \"silent\" } are not used.\n",
      "\n",
      "  warnings.warn(smsg, UserWarning)\n",
      " 82%|████████████████████████████████████████████████████████████████████████████████████████████████████████████████████████████████████████▏                              | 75/92 [02:45<00:21,  1.28s/it]"
     ]
    },
    {
     "name": "stdout",
     "output_type": "stream",
     "text": [
      "Train score for 20 : 0.40887487156782765\n"
     ]
    },
    {
     "name": "stderr",
     "output_type": "stream",
     "text": [
      "/Users/shalinijawale/anaconda3/lib/python3.11/site-packages/xgboost/core.py:158: UserWarning: [17:23:51] WARNING: /Users/runner/work/xgboost/xgboost/src/objective/regression_obj.cu:227: reg:linear is now deprecated in favor of reg:squarederror.\n",
      "  warnings.warn(smsg, UserWarning)\n",
      "/Users/shalinijawale/anaconda3/lib/python3.11/site-packages/xgboost/core.py:158: UserWarning: [17:23:51] WARNING: /Users/runner/work/xgboost/xgboost/src/learner.cc:740: \n",
      "Parameters: { \"silent\" } are not used.\n",
      "\n",
      "  warnings.warn(smsg, UserWarning)\n",
      " 83%|█████████████████████████████████████████████████████████████████████████████████████████████████████████████████████████████████████████▉                             | 76/92 [02:46<00:19,  1.24s/it]"
     ]
    },
    {
     "name": "stdout",
     "output_type": "stream",
     "text": [
      "Train score for 19 : 0.401480837329664\n"
     ]
    },
    {
     "name": "stderr",
     "output_type": "stream",
     "text": [
      "/Users/shalinijawale/anaconda3/lib/python3.11/site-packages/xgboost/core.py:158: UserWarning: [17:23:52] WARNING: /Users/runner/work/xgboost/xgboost/src/objective/regression_obj.cu:227: reg:linear is now deprecated in favor of reg:squarederror.\n",
      "  warnings.warn(smsg, UserWarning)\n",
      "/Users/shalinijawale/anaconda3/lib/python3.11/site-packages/xgboost/core.py:158: UserWarning: [17:23:52] WARNING: /Users/runner/work/xgboost/xgboost/src/learner.cc:740: \n",
      "Parameters: { \"silent\" } are not used.\n",
      "\n",
      "  warnings.warn(smsg, UserWarning)\n",
      " 84%|███████████████████████████████████████████████████████████████████████████████████████████████████████████████████████████████████████████▊                           | 77/92 [02:48<00:19,  1.29s/it]"
     ]
    },
    {
     "name": "stdout",
     "output_type": "stream",
     "text": [
      "Train score for 18 : 0.39866872021462163\n"
     ]
    },
    {
     "name": "stderr",
     "output_type": "stream",
     "text": [
      "/Users/shalinijawale/anaconda3/lib/python3.11/site-packages/xgboost/core.py:158: UserWarning: [17:23:53] WARNING: /Users/runner/work/xgboost/xgboost/src/objective/regression_obj.cu:227: reg:linear is now deprecated in favor of reg:squarederror.\n",
      "  warnings.warn(smsg, UserWarning)\n",
      "/Users/shalinijawale/anaconda3/lib/python3.11/site-packages/xgboost/core.py:158: UserWarning: [17:23:53] WARNING: /Users/runner/work/xgboost/xgboost/src/learner.cc:740: \n",
      "Parameters: { \"silent\" } are not used.\n",
      "\n",
      "  warnings.warn(smsg, UserWarning)\n",
      " 85%|█████████████████████████████████████████████████████████████████████████████████████████████████████████████████████████████████████████████▌                         | 78/92 [02:49<00:17,  1.26s/it]"
     ]
    },
    {
     "name": "stdout",
     "output_type": "stream",
     "text": [
      "Train score for 17 : 0.3743929943369313\n"
     ]
    },
    {
     "name": "stderr",
     "output_type": "stream",
     "text": [
      "/Users/shalinijawale/anaconda3/lib/python3.11/site-packages/xgboost/core.py:158: UserWarning: [17:23:54] WARNING: /Users/runner/work/xgboost/xgboost/src/objective/regression_obj.cu:227: reg:linear is now deprecated in favor of reg:squarederror.\n",
      "  warnings.warn(smsg, UserWarning)\n",
      "/Users/shalinijawale/anaconda3/lib/python3.11/site-packages/xgboost/core.py:158: UserWarning: [17:23:54] WARNING: /Users/runner/work/xgboost/xgboost/src/learner.cc:740: \n",
      "Parameters: { \"silent\" } are not used.\n",
      "\n",
      "  warnings.warn(smsg, UserWarning)\n",
      " 86%|███████████████████████████████████████████████████████████████████████████████████████████████████████████████████████████████████████████████▍                       | 79/92 [02:50<00:15,  1.20s/it]"
     ]
    },
    {
     "name": "stdout",
     "output_type": "stream",
     "text": [
      "Train score for 16 : 0.3656360930502984\n"
     ]
    },
    {
     "name": "stderr",
     "output_type": "stream",
     "text": [
      "/Users/shalinijawale/anaconda3/lib/python3.11/site-packages/xgboost/core.py:158: UserWarning: [17:23:55] WARNING: /Users/runner/work/xgboost/xgboost/src/objective/regression_obj.cu:227: reg:linear is now deprecated in favor of reg:squarederror.\n",
      "  warnings.warn(smsg, UserWarning)\n",
      "/Users/shalinijawale/anaconda3/lib/python3.11/site-packages/xgboost/core.py:158: UserWarning: [17:23:55] WARNING: /Users/runner/work/xgboost/xgboost/src/learner.cc:740: \n",
      "Parameters: { \"silent\" } are not used.\n",
      "\n",
      "  warnings.warn(smsg, UserWarning)\n",
      " 87%|█████████████████████████████████████████████████████████████████████████████████████████████████████████████████████████████████████████████████▏                     | 80/92 [02:51<00:13,  1.15s/it]"
     ]
    },
    {
     "name": "stdout",
     "output_type": "stream",
     "text": [
      "Train score for 15 : 0.24866352696282157\n"
     ]
    },
    {
     "name": "stderr",
     "output_type": "stream",
     "text": [
      "/Users/shalinijawale/anaconda3/lib/python3.11/site-packages/xgboost/core.py:158: UserWarning: [17:23:56] WARNING: /Users/runner/work/xgboost/xgboost/src/objective/regression_obj.cu:227: reg:linear is now deprecated in favor of reg:squarederror.\n",
      "  warnings.warn(smsg, UserWarning)\n",
      "/Users/shalinijawale/anaconda3/lib/python3.11/site-packages/xgboost/core.py:158: UserWarning: [17:23:56] WARNING: /Users/runner/work/xgboost/xgboost/src/learner.cc:740: \n",
      "Parameters: { \"silent\" } are not used.\n",
      "\n",
      "  warnings.warn(smsg, UserWarning)\n",
      " 88%|███████████████████████████████████████████████████████████████████████████████████████████████████████████████████████████████████████████████████                    | 81/92 [02:52<00:12,  1.12s/it]"
     ]
    },
    {
     "name": "stdout",
     "output_type": "stream",
     "text": [
      "Train score for 14 : 0.24819584554267438\n"
     ]
    },
    {
     "name": "stderr",
     "output_type": "stream",
     "text": [
      "/Users/shalinijawale/anaconda3/lib/python3.11/site-packages/xgboost/core.py:158: UserWarning: [17:23:58] WARNING: /Users/runner/work/xgboost/xgboost/src/objective/regression_obj.cu:227: reg:linear is now deprecated in favor of reg:squarederror.\n",
      "  warnings.warn(smsg, UserWarning)\n",
      "/Users/shalinijawale/anaconda3/lib/python3.11/site-packages/xgboost/core.py:158: UserWarning: [17:23:58] WARNING: /Users/runner/work/xgboost/xgboost/src/learner.cc:740: \n",
      "Parameters: { \"silent\" } are not used.\n",
      "\n",
      "  warnings.warn(smsg, UserWarning)\n",
      " 89%|████████████████████████████████████████████████████████████████████████████████████████████████████████████████████████████████████████████████████▊                  | 82/92 [02:53<00:10,  1.07s/it]"
     ]
    },
    {
     "name": "stdout",
     "output_type": "stream",
     "text": [
      "Train score for 13 : 0.2463661955576517\n"
     ]
    },
    {
     "name": "stderr",
     "output_type": "stream",
     "text": [
      "/Users/shalinijawale/anaconda3/lib/python3.11/site-packages/xgboost/core.py:158: UserWarning: [17:23:59] WARNING: /Users/runner/work/xgboost/xgboost/src/objective/regression_obj.cu:227: reg:linear is now deprecated in favor of reg:squarederror.\n",
      "  warnings.warn(smsg, UserWarning)\n",
      "/Users/shalinijawale/anaconda3/lib/python3.11/site-packages/xgboost/core.py:158: UserWarning: [17:23:59] WARNING: /Users/runner/work/xgboost/xgboost/src/learner.cc:740: \n",
      "Parameters: { \"silent\" } are not used.\n",
      "\n",
      "  warnings.warn(smsg, UserWarning)\n",
      " 90%|██████████████████████████████████████████████████████████████████████████████████████████████████████████████████████████████████████████████████████▋                | 83/92 [02:54<00:09,  1.04s/it]"
     ]
    },
    {
     "name": "stdout",
     "output_type": "stream",
     "text": [
      "Train score for 12 : 0.2433683592243675\n"
     ]
    },
    {
     "name": "stderr",
     "output_type": "stream",
     "text": [
      "/Users/shalinijawale/anaconda3/lib/python3.11/site-packages/xgboost/core.py:158: UserWarning: [17:23:59] WARNING: /Users/runner/work/xgboost/xgboost/src/objective/regression_obj.cu:227: reg:linear is now deprecated in favor of reg:squarederror.\n",
      "  warnings.warn(smsg, UserWarning)\n",
      "/Users/shalinijawale/anaconda3/lib/python3.11/site-packages/xgboost/core.py:158: UserWarning: [17:23:59] WARNING: /Users/runner/work/xgboost/xgboost/src/learner.cc:740: \n",
      "Parameters: { \"silent\" } are not used.\n",
      "\n",
      "  warnings.warn(smsg, UserWarning)\n",
      " 91%|████████████████████████████████████████████████████████████████████████████████████████████████████████████████████████████████████████████████████████▍              | 84/92 [02:55<00:08,  1.02s/it]"
     ]
    },
    {
     "name": "stdout",
     "output_type": "stream",
     "text": [
      "Train score for 11 : 0.23935147143856994\n"
     ]
    },
    {
     "name": "stderr",
     "output_type": "stream",
     "text": [
      "/Users/shalinijawale/anaconda3/lib/python3.11/site-packages/xgboost/core.py:158: UserWarning: [17:24:00] WARNING: /Users/runner/work/xgboost/xgboost/src/objective/regression_obj.cu:227: reg:linear is now deprecated in favor of reg:squarederror.\n",
      "  warnings.warn(smsg, UserWarning)\n",
      "/Users/shalinijawale/anaconda3/lib/python3.11/site-packages/xgboost/core.py:158: UserWarning: [17:24:00] WARNING: /Users/runner/work/xgboost/xgboost/src/learner.cc:740: \n",
      "Parameters: { \"silent\" } are not used.\n",
      "\n",
      "  warnings.warn(smsg, UserWarning)\n",
      " 92%|██████████████████████████████████████████████████████████████████████████████████████████████████████████████████████████████████████████████████████████▎            | 85/92 [02:56<00:07,  1.01s/it]"
     ]
    },
    {
     "name": "stdout",
     "output_type": "stream",
     "text": [
      "Train score for 10 : 0.24005218120947747\n"
     ]
    },
    {
     "name": "stderr",
     "output_type": "stream",
     "text": [
      "/Users/shalinijawale/anaconda3/lib/python3.11/site-packages/xgboost/core.py:158: UserWarning: [17:24:01] WARNING: /Users/runner/work/xgboost/xgboost/src/objective/regression_obj.cu:227: reg:linear is now deprecated in favor of reg:squarederror.\n",
      "  warnings.warn(smsg, UserWarning)\n",
      "/Users/shalinijawale/anaconda3/lib/python3.11/site-packages/xgboost/core.py:158: UserWarning: [17:24:01] WARNING: /Users/runner/work/xgboost/xgboost/src/learner.cc:740: \n",
      "Parameters: { \"silent\" } are not used.\n",
      "\n",
      "  warnings.warn(smsg, UserWarning)\n",
      " 93%|████████████████████████████████████████████████████████████████████████████████████████████████████████████████████████████████████████████████████████████           | 86/92 [02:57<00:06,  1.02s/it]"
     ]
    },
    {
     "name": "stdout",
     "output_type": "stream",
     "text": [
      "Train score for 9 : 0.14556923022609758\n"
     ]
    },
    {
     "name": "stderr",
     "output_type": "stream",
     "text": [
      "/Users/shalinijawale/anaconda3/lib/python3.11/site-packages/xgboost/core.py:158: UserWarning: [17:24:02] WARNING: /Users/runner/work/xgboost/xgboost/src/objective/regression_obj.cu:227: reg:linear is now deprecated in favor of reg:squarederror.\n",
      "  warnings.warn(smsg, UserWarning)\n",
      "/Users/shalinijawale/anaconda3/lib/python3.11/site-packages/xgboost/core.py:158: UserWarning: [17:24:02] WARNING: /Users/runner/work/xgboost/xgboost/src/learner.cc:740: \n",
      "Parameters: { \"silent\" } are not used.\n",
      "\n",
      "  warnings.warn(smsg, UserWarning)\n",
      " 95%|█████████████████████████████████████████████████████████████████████████████████████████████████████████████████████████████████████████████████████████████▉         | 87/92 [02:58<00:05,  1.19s/it]"
     ]
    },
    {
     "name": "stdout",
     "output_type": "stream",
     "text": [
      "Train score for 8 : 0.14357761148828962\n"
     ]
    },
    {
     "name": "stderr",
     "output_type": "stream",
     "text": [
      "/Users/shalinijawale/anaconda3/lib/python3.11/site-packages/xgboost/core.py:158: UserWarning: [17:24:04] WARNING: /Users/runner/work/xgboost/xgboost/src/objective/regression_obj.cu:227: reg:linear is now deprecated in favor of reg:squarederror.\n",
      "  warnings.warn(smsg, UserWarning)\n",
      "/Users/shalinijawale/anaconda3/lib/python3.11/site-packages/xgboost/core.py:158: UserWarning: [17:24:04] WARNING: /Users/runner/work/xgboost/xgboost/src/learner.cc:740: \n",
      "Parameters: { \"silent\" } are not used.\n",
      "\n",
      "  warnings.warn(smsg, UserWarning)\n",
      " 96%|███████████████████████████████████████████████████████████████████████████████████████████████████████████████████████████████████████████████████████████████▋       | 88/92 [02:59<00:04,  1.05s/it]"
     ]
    },
    {
     "name": "stdout",
     "output_type": "stream",
     "text": [
      "Train score for 7 : 0.1148053684885586\n"
     ]
    },
    {
     "name": "stderr",
     "output_type": "stream",
     "text": [
      "/Users/shalinijawale/anaconda3/lib/python3.11/site-packages/xgboost/core.py:158: UserWarning: [17:24:05] WARNING: /Users/runner/work/xgboost/xgboost/src/objective/regression_obj.cu:227: reg:linear is now deprecated in favor of reg:squarederror.\n",
      "  warnings.warn(smsg, UserWarning)\n",
      "/Users/shalinijawale/anaconda3/lib/python3.11/site-packages/xgboost/core.py:158: UserWarning: [17:24:05] WARNING: /Users/runner/work/xgboost/xgboost/src/learner.cc:740: \n",
      "Parameters: { \"silent\" } are not used.\n",
      "\n",
      "  warnings.warn(smsg, UserWarning)\n",
      " 97%|█████████████████████████████████████████████████████████████████████████████████████████████████████████████████████████████████████████████████████████████████▌     | 89/92 [03:00<00:02,  1.12it/s]"
     ]
    },
    {
     "name": "stdout",
     "output_type": "stream",
     "text": [
      "Train score for 6 : 0.11192046745114526\n"
     ]
    },
    {
     "name": "stderr",
     "output_type": "stream",
     "text": [
      "/Users/shalinijawale/anaconda3/lib/python3.11/site-packages/xgboost/core.py:158: UserWarning: [17:24:05] WARNING: /Users/runner/work/xgboost/xgboost/src/objective/regression_obj.cu:227: reg:linear is now deprecated in favor of reg:squarederror.\n",
      "  warnings.warn(smsg, UserWarning)\n",
      "/Users/shalinijawale/anaconda3/lib/python3.11/site-packages/xgboost/core.py:158: UserWarning: [17:24:05] WARNING: /Users/runner/work/xgboost/xgboost/src/learner.cc:740: \n",
      "Parameters: { \"silent\" } are not used.\n",
      "\n",
      "  warnings.warn(smsg, UserWarning)\n",
      " 98%|███████████████████████████████████████████████████████████████████████████████████████████████████████████████████████████████████████████████████████████████████▎   | 90/92 [03:00<00:01,  1.36it/s]"
     ]
    },
    {
     "name": "stdout",
     "output_type": "stream",
     "text": [
      "Train score for 5 : 0.07139777115612322\n"
     ]
    },
    {
     "name": "stderr",
     "output_type": "stream",
     "text": [
      "/Users/shalinijawale/anaconda3/lib/python3.11/site-packages/xgboost/core.py:158: UserWarning: [17:24:06] WARNING: /Users/runner/work/xgboost/xgboost/src/objective/regression_obj.cu:227: reg:linear is now deprecated in favor of reg:squarederror.\n",
      "  warnings.warn(smsg, UserWarning)\n",
      "/Users/shalinijawale/anaconda3/lib/python3.11/site-packages/xgboost/core.py:158: UserWarning: [17:24:06] WARNING: /Users/runner/work/xgboost/xgboost/src/learner.cc:740: \n",
      "Parameters: { \"silent\" } are not used.\n",
      "\n",
      "  warnings.warn(smsg, UserWarning)\n",
      " 99%|█████████████████████████████████████████████████████████████████████████████████████████████████████████████████████████████████████████████████████████████████████▏ | 91/92 [03:00<00:00,  1.58it/s]"
     ]
    },
    {
     "name": "stdout",
     "output_type": "stream",
     "text": [
      "Train score for 4 : 0.06786775264804157\n"
     ]
    },
    {
     "name": "stderr",
     "output_type": "stream",
     "text": [
      "/Users/shalinijawale/anaconda3/lib/python3.11/site-packages/xgboost/core.py:158: UserWarning: [17:24:06] WARNING: /Users/runner/work/xgboost/xgboost/src/objective/regression_obj.cu:227: reg:linear is now deprecated in favor of reg:squarederror.\n",
      "  warnings.warn(smsg, UserWarning)\n",
      "/Users/shalinijawale/anaconda3/lib/python3.11/site-packages/xgboost/core.py:158: UserWarning: [17:24:06] WARNING: /Users/runner/work/xgboost/xgboost/src/learner.cc:740: \n",
      "Parameters: { \"silent\" } are not used.\n",
      "\n",
      "  warnings.warn(smsg, UserWarning)\n",
      "100%|███████████████████████████████████████████████████████████████████████████████████████████████████████████████████████████████████████████████████████████████████████| 92/92 [03:01<00:00,  1.97s/it]"
     ]
    },
    {
     "name": "stdout",
     "output_type": "stream",
     "text": [
      "Train score for 3 : 0.05472009102563802\n"
     ]
    },
    {
     "name": "stderr",
     "output_type": "stream",
     "text": [
      "\n"
     ]
    }
   ],
   "source": [
    "best_score = 0\n",
    "optimal_feature_number = 0\n",
    "best_model = None\n",
    "scores_list = []\n",
    "\n",
    "# Feature selection based on the number of features\n",
    "for features_count in tqdm(range(len(count_dict), 2, -1)):\n",
    "    filtered_cols = list(count_dict.keys())[:features_count]\n",
    "    X_train_filtered = X_train[filtered_cols]\n",
    "\n",
    "    xgtrain = xgb.DMatrix(X_train_filtered, y_train, missing=missing_value_indicator)\n",
    "    xgb_params_list = get_xgb_params()\n",
    "\n",
    "    model = xgb.train(xgb_params_list, xgtrain, xgb_num_rounds)\n",
    "    train_predictions = model.predict(xgtrain)\n",
    "    current_score = eval_wrapper(train_predictions, y_train)\n",
    "    scores_list.append(current_score)\n",
    "    print('Train score for '+str(features_count)+' :', current_score)\n",
    "    if best_score < current_score:\n",
    "        best_score = current_score\n",
    "        optimal_feature_number = features_count\n",
    "        best_model = model\n"
   ]
  },
  {
   "cell_type": "code",
   "execution_count": 24,
   "id": "b5763ff5",
   "metadata": {},
   "outputs": [
    {
     "data": {
      "image/png": "[encoded data removed]",
      "text/plain": [
       "<Figure size 640x480 with 1 Axes>"
      ]
     },
     "metadata": {},
     "output_type": "display_data"
    },
    {
     "name": "stdout",
     "output_type": "stream",
     "text": [
      "Best score on Train :  0.6517501254066507\n"
     ]
    }
   ],
   "source": [
    "#Visualize Train\n",
    "plt.plot(range(len(count_dict), 2, -1), scores_list)\n",
    "plt.xlabel('Number of features')\n",
    "plt.ylabel('Accuracy')\n",
    "plt.show()\n",
    "\n",
    "print(\"Best score on Train : \",best_score)\n"
   ]
  },
  {
   "cell_type": "code",
   "execution_count": 26,
   "id": "e49ba84c",
   "metadata": {},
   "outputs": [
    {
     "name": "stdout",
     "output_type": "stream",
     "text": [
      "Accuracy on test :  0.596790390092999\n"
     ]
    }
   ],
   "source": [
    "#Accuracy on test\n",
    "filtered_cols = list(count_dict.keys())[:optimal_feature_number]\n",
    "X_test_filtered = X_test[filtered_cols]\n",
    "\n",
    "xgtest = xgb.DMatrix(X_test_filtered, y_test, missing=missing_value_indicator)\n",
    "test_predictions = best_model.predict(xgtest)\n",
    "current_score = eval_wrapper(test_predictions,y_test)\n",
    "print(\"Accuracy on test : \",current_score)"
   ]
  },
  {
   "cell_type": "code",
   "execution_count": 27,
   "id": "eeb0a401",
   "metadata": {},
   "outputs": [
    {
     "name": "stdout",
     "output_type": "stream",
     "text": [
      "Offset Test score is: 0.6442316947355207\n"
     ]
    }
   ],
   "source": [
    "def score_offset(data, bin_offset, sv, scorer=eval_wrapper):\n",
    "    # data has the format of pred=0, offset_pred=1, labels=2 in the first dim\n",
    "    data[1, data[0].astype(int) == sv] = data[0, data[0].astype(int) == sv] + bin_offset\n",
    "    score = scorer(data[1], data[2])\n",
    "    return score\n",
    "\n",
    "\n",
    "def apply_offsets(data, offsets):\n",
    "    for j in range(num_classes):\n",
    "        data[1, data[0].astype(int) == j] = data[0, data[0].astype(int) == j] + offsets[j]\n",
    "    return data\n",
    "\n",
    "\n",
    "# train offsets\n",
    "offsets = np.array([0.1, -1, -2, -1, -0.8, 0.02, 0.8, 1])\n",
    "offset_preds = np.vstack((test_predictions, test_predictions, y_test))\n",
    "offset_preds = apply_offsets(offset_preds, offsets)\n",
    "opt_order = [6, 4, 5, 3]\n",
    "for j in opt_order:\n",
    "    test_offset = lambda x: -score_offset(offset_preds, x, j) * 100\n",
    "    offsets[j] = fmin_powell(test_offset, offsets[j], disp=False)\n",
    "\n",
    "print('Offset Test score is:', eval_wrapper(offset_preds[1], y_test))"
   ]
  },
  {
   "cell_type": "code",
   "execution_count": 30,
   "id": "9199a865",
   "metadata": {},
   "outputs": [],
   "source": [
    "# Import key modules/functions for evaluating model performance.\n",
    "from scikitplot.metrics import plot_roc, plot_confusion_matrix\n",
    "from sklearn.metrics import classification_report, balanced_accuracy_score"
   ]
  },
  {
   "cell_type": "code",
   "execution_count": 29,
   "id": "bfbe0e2e",
   "metadata": {},
   "outputs": [
    {
     "name": "stdout",
     "output_type": "stream",
     "text": [
      "Collecting scikit-plot\n",
      "  Downloading scikit_plot-0.3.7-py3-none-any.whl (33 kB)\n",
      "Requirement already satisfied: matplotlib>=1.4.0 in /Users/shalinijawale/anaconda3/lib/python3.11/site-packages (from scikit-plot) (3.9.2)\n",
      "Requirement already satisfied: scikit-learn>=0.18 in /Users/shalinijawale/anaconda3/lib/python3.11/site-packages (from scikit-plot) (1.2.2)\n",
      "Requirement already satisfied: scipy>=0.9 in /Users/shalinijawale/anaconda3/lib/python3.11/site-packages (from scikit-plot) (1.10.1)\n",
      "Requirement already satisfied: joblib>=0.10 in /Users/shalinijawale/anaconda3/lib/python3.11/site-packages (from scikit-plot) (1.2.0)\n",
      "Requirement already satisfied: contourpy>=1.0.1 in /Users/shalinijawale/anaconda3/lib/python3.11/site-packages (from matplotlib>=1.4.0->scikit-plot) (1.0.5)\n",
      "Requirement already satisfied: cycler>=0.10 in /Users/shalinijawale/anaconda3/lib/python3.11/site-packages (from matplotlib>=1.4.0->scikit-plot) (0.11.0)\n",
      "Requirement already satisfied: fonttools>=4.22.0 in /Users/shalinijawale/anaconda3/lib/python3.11/site-packages (from matplotlib>=1.4.0->scikit-plot) (4.25.0)\n",
      "Requirement already satisfied: kiwisolver>=1.3.1 in /Users/shalinijawale/anaconda3/lib/python3.11/site-packages (from matplotlib>=1.4.0->scikit-plot) (1.4.4)\n",
      "Requirement already satisfied: numpy>=1.23 in /Users/shalinijawale/anaconda3/lib/python3.11/site-packages (from matplotlib>=1.4.0->scikit-plot) (1.24.3)\n",
      "Requirement already satisfied: packaging>=20.0 in /Users/shalinijawale/anaconda3/lib/python3.11/site-packages (from matplotlib>=1.4.0->scikit-plot) (23.0)\n",
      "Requirement already satisfied: pillow>=8 in /Users/shalinijawale/anaconda3/lib/python3.11/site-packages (from matplotlib>=1.4.0->scikit-plot) (10.4.0)\n",
      "Requirement already satisfied: pyparsing>=2.3.1 in /Users/shalinijawale/anaconda3/lib/python3.11/site-packages (from matplotlib>=1.4.0->scikit-plot) (3.0.9)\n",
      "Requirement already satisfied: python-dateutil>=2.7 in /Users/shalinijawale/anaconda3/lib/python3.11/site-packages (from matplotlib>=1.4.0->scikit-plot) (2.8.2)\n",
      "Requirement already satisfied: threadpoolctl>=2.0.0 in /Users/shalinijawale/anaconda3/lib/python3.11/site-packages (from scikit-learn>=0.18->scikit-plot) (2.2.0)\n",
      "Requirement already satisfied: six>=1.5 in /Users/shalinijawale/anaconda3/lib/python3.11/site-packages (from python-dateutil>=2.7->matplotlib>=1.4.0->scikit-plot) (1.16.0)\n",
      "Installing collected packages: scikit-plot\n",
      "Successfully installed scikit-plot-0.3.7\n",
      "Note: you may need to restart the kernel to use updated packages.\n"
     ]
    }
   ],
   "source": [
    "pip install scikit-plot"
   ]
  },
  {
   "cell_type": "code",
   "execution_count": 31,
   "id": "541f2311",
   "metadata": {},
   "outputs": [
    {
     "name": "stdout",
     "output_type": "stream",
     "text": [
      "              precision    recall  f1-score   support\n",
      "\n",
      "           1       0.28      0.38      0.32       938\n",
      "           2       0.19      0.27      0.22       924\n",
      "           3       0.05      0.02      0.03       479\n",
      "           4       0.12      0.02      0.04      1460\n",
      "           5       0.14      0.14      0.14      1079\n",
      "           6       0.20      0.36      0.26      1264\n",
      "           7       0.25      0.22      0.24      1832\n",
      "           8       0.73      0.73      0.73      3901\n",
      "\n",
      "    accuracy                           0.38     11877\n",
      "   macro avg       0.25      0.27      0.25     11877\n",
      "weighted avg       0.37      0.38      0.37     11877\n",
      "\n",
      "Axes(0.125,0.11;0.62x0.77)\n"
     ]
    },
    {
     "data": {
      "image/png": "[encoded data removed]",
      "text/plain": [
       "<Figure size 640x480 with 2 Axes>"
      ]
     },
     "metadata": {},
     "output_type": "display_data"
    }
   ],
   "source": [
    "def report(yhat, y):\n",
    "    y = np.array(y)\n",
    "    y = y.astype(int)\n",
    "    yhat = np.array(yhat)\n",
    "    yhat = np.clip(np.round(yhat), np.min(y), np.max(y)).astype(int)\n",
    "    print(classification_report(yhat,y))\n",
    "    print(plot_confusion_matrix(yhat, y))\n",
    "    \n",
    "report(offset_preds[1],y_test)"
   ]
  },
  {
   "cell_type": "code",
   "execution_count": 35,
   "id": "d0e32b12",
   "metadata": {},
   "outputs": [
    {
     "data": {
      "image/png": "[encoded data removed]",
      "text/plain": [
       "<Figure size 800x950 with 2 Axes>"
      ]
     },
     "metadata": {},
     "output_type": "display_data"
    }
   ],
   "source": [
    "import shap\n",
    "\n",
    "# Initialise the explainer object in order to calculate SHAP values.\n",
    "explainer = shap.TreeExplainer(best_model)\n",
    "\n",
    "# Calculate SHAP values for the whole test dataset.\n",
    "shap_values = explainer.shap_values(X_test_filtered)\n",
    "\n",
    "# Create a summary plot of the SHAP values.\n",
    "shap.summary_plot(shap_values, X_test_filtered)"
   ]
  }
 ],
 "metadata": {
  "kernelspec": {
   "display_name": "Python 3 (ipykernel)",
   "language": "python",
   "name": "python3"
  },
  "language_info": {
   "codemirror_mode": {
    "name": "ipython",
    "version": 3
   },
   "file_extension": ".py",
   "mimetype": "text/x-python",
   "name": "python",
   "nbconvert_exporter": "python",
   "pygments_lexer": "ipython3",
   "version": "3.11.3"
  }
 },
 "nbformat": 4,
 "nbformat_minor": 5
}
